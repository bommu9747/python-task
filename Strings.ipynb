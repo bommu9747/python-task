{
 "cells": [
  {
   "cell_type": "markdown",
   "id": "2afedd86",
   "metadata": {},
   "source": [
    "find the length of a string"
   ]
  },
  {
   "cell_type": "code",
   "execution_count": 6,
   "id": "37992df8",
   "metadata": {},
   "outputs": [
    {
     "name": "stdout",
     "output_type": "stream",
     "text": [
      "7\n"
     ]
    }
   ],
   "source": [
    "a=\"hai all\"\n",
    "print(len(a))"
   ]
  },
  {
   "cell_type": "code",
   "execution_count": 3,
   "id": "f2b8e080",
   "metadata": {},
   "outputs": [
    {
     "name": "stdout",
     "output_type": "stream",
     "text": [
      "5\n"
     ]
    }
   ],
   "source": [
    "b=\"world\"\n",
    "print(len(b))"
   ]
  },
  {
   "cell_type": "code",
   "execution_count": 15,
   "id": "85b7e954",
   "metadata": {},
   "outputs": [
    {
     "data": {
      "text/plain": [
       "'This string example ..wow'"
      ]
     },
     "execution_count": 15,
     "metadata": {},
     "output_type": "execute_result"
    }
   ],
   "source": [
    "#capitalize\n",
    "c=\"this string example ..wow\"\n",
    "c.capitalize()"
   ]
  },
  {
   "cell_type": "code",
   "execution_count": 12,
   "id": "15b5e895",
   "metadata": {},
   "outputs": [
    {
     "data": {
      "text/plain": [
       "'How are you'"
      ]
     },
     "execution_count": 12,
     "metadata": {},
     "output_type": "execute_result"
    }
   ],
   "source": [
    "d=\"how are you\"\n",
    "str.capitalize(d)"
   ]
  },
  {
   "cell_type": "code",
   "execution_count": 16,
   "id": "e5dbfc2b",
   "metadata": {},
   "outputs": [
    {
     "data": {
      "text/plain": [
       "'All the best '"
      ]
     },
     "execution_count": 16,
     "metadata": {},
     "output_type": "execute_result"
    }
   ],
   "source": [
    "f=\"all the best \"\n",
    "f.capitalize()"
   ]
  },
  {
   "cell_type": "code",
   "execution_count": 17,
   "id": "8659d7c2",
   "metadata": {},
   "outputs": [
    {
     "data": {
      "text/plain": [
       "'This String Example Wow'"
      ]
     },
     "execution_count": 17,
     "metadata": {},
     "output_type": "execute_result"
    }
   ],
   "source": [
    "#title\n",
    "g=\"this string example wow\"\n",
    "g.title()"
   ]
  },
  {
   "cell_type": "code",
   "execution_count": 18,
   "id": "886a34f0",
   "metadata": {},
   "outputs": [
    {
     "data": {
      "text/plain": [
       "'How Are You'"
      ]
     },
     "execution_count": 18,
     "metadata": {},
     "output_type": "execute_result"
    }
   ],
   "source": [
    "h=\"how are you\"\n",
    "h.title()"
   ]
  },
  {
   "cell_type": "code",
   "execution_count": 19,
   "id": "7cc47c0e",
   "metadata": {},
   "outputs": [
    {
     "data": {
      "text/plain": [
       "'All The Best'"
      ]
     },
     "execution_count": 19,
     "metadata": {},
     "output_type": "execute_result"
    }
   ],
   "source": [
    "i=\"all the best\"\n",
    "i.title()"
   ]
  },
  {
   "cell_type": "code",
   "execution_count": 20,
   "id": "bc0eb8d2",
   "metadata": {},
   "outputs": [
    {
     "data": {
      "text/plain": [
       "'WHER ARE YOU'"
      ]
     },
     "execution_count": 20,
     "metadata": {},
     "output_type": "execute_result"
    }
   ],
   "source": [
    "#upper\n",
    "j=\"wher are you\"\n",
    "j.upper()"
   ]
  },
  {
   "cell_type": "code",
   "execution_count": 21,
   "id": "0a73f657",
   "metadata": {},
   "outputs": [
    {
     "data": {
      "text/plain": [
       "'where are you'"
      ]
     },
     "execution_count": 21,
     "metadata": {},
     "output_type": "execute_result"
    }
   ],
   "source": [
    "k=\"where are you\"\n",
    "k.lower()"
   ]
  },
  {
   "cell_type": "code",
   "execution_count": 33,
   "id": "7af16425",
   "metadata": {},
   "outputs": [
    {
     "data": {
      "text/plain": [
       "'NUMBERS'"
      ]
     },
     "execution_count": 33,
     "metadata": {},
     "output_type": "execute_result"
    }
   ],
   "source": [
    "l=\"numbers\"\n",
    "l.upper()"
   ]
  },
  {
   "cell_type": "code",
   "execution_count": 26,
   "id": "0e115206",
   "metadata": {},
   "outputs": [
    {
     "data": {
      "text/plain": [
       "'binery'"
      ]
     },
     "execution_count": 26,
     "metadata": {},
     "output_type": "execute_result"
    }
   ],
   "source": [
    "m=\"binery\"\n",
    "m.lower()"
   ]
  },
  {
   "cell_type": "code",
   "execution_count": 28,
   "id": "9611f36c",
   "metadata": {},
   "outputs": [
    {
     "data": {
      "text/plain": [
       "'binery'"
      ]
     },
     "execution_count": 28,
     "metadata": {},
     "output_type": "execute_result"
    }
   ],
   "source": [
    "m=\"BINERY\"\n",
    "m.lower()"
   ]
  },
  {
   "cell_type": "code",
   "execution_count": 29,
   "id": "1892cb1b",
   "metadata": {},
   "outputs": [
    {
     "data": {
      "text/plain": [
       "3"
      ]
     },
     "execution_count": 29,
     "metadata": {},
     "output_type": "execute_result"
    }
   ],
   "source": [
    "#count\n",
    "k=\"where are you\"\n",
    "i=\"e\"\n",
    "k.count(i)"
   ]
  },
  {
   "cell_type": "code",
   "execution_count": 31,
   "id": "7cbc226c",
   "metadata": {},
   "outputs": [
    {
     "data": {
      "text/plain": [
       "2"
      ]
     },
     "execution_count": 31,
     "metadata": {},
     "output_type": "execute_result"
    }
   ],
   "source": [
    "k=\"where are you\"\n",
    "i=\"e\"\n",
    "k.count(i,0,5)"
   ]
  },
  {
   "cell_type": "code",
   "execution_count": 32,
   "id": "7523021c",
   "metadata": {},
   "outputs": [
    {
     "data": {
      "text/plain": [
       "1"
      ]
     },
     "execution_count": 32,
     "metadata": {},
     "output_type": "execute_result"
    }
   ],
   "source": [
    "k=\"where are you\"\n",
    "i=\"you\"\n",
    "k.count(i)"
   ]
  },
  {
   "cell_type": "code",
   "execution_count": 38,
   "id": "e064cbb6",
   "metadata": {},
   "outputs": [
    {
     "data": {
      "text/plain": [
       "True"
      ]
     },
     "execution_count": 38,
     "metadata": {},
     "output_type": "execute_result"
    }
   ],
   "source": [
    "#isalnum\n",
    "a=\"this2009\"\n",
    "a.isalnum()"
   ]
  },
  {
   "cell_type": "code",
   "execution_count": 39,
   "id": "e01afb34",
   "metadata": {},
   "outputs": [
    {
     "data": {
      "text/plain": [
       "False"
      ]
     },
     "execution_count": 39,
     "metadata": {},
     "output_type": "execute_result"
    }
   ],
   "source": [
    "a=\"this is example\"\n",
    "a.isalnum()\n"
   ]
  },
  {
   "cell_type": "code",
   "execution_count": 40,
   "id": "e91f3a77",
   "metadata": {},
   "outputs": [
    {
     "data": {
      "text/plain": [
       "True"
      ]
     },
     "execution_count": 40,
     "metadata": {},
     "output_type": "execute_result"
    }
   ],
   "source": [
    "#isaplha\n",
    "b=\"wow\"\n",
    "b.isalpha()"
   ]
  },
  {
   "cell_type": "code",
   "execution_count": 43,
   "id": "a3a2dd59",
   "metadata": {},
   "outputs": [
    {
     "data": {
      "text/plain": [
       "False"
      ]
     },
     "execution_count": 43,
     "metadata": {},
     "output_type": "execute_result"
    }
   ],
   "source": [
    "c=\"wow...55..\"\n",
    "c.isalpha()"
   ]
  },
  {
   "cell_type": "code",
   "execution_count": 46,
   "id": "c6f86996",
   "metadata": {},
   "outputs": [
    {
     "data": {
      "text/plain": [
       "False"
      ]
     },
     "execution_count": 46,
     "metadata": {},
     "output_type": "execute_result"
    }
   ],
   "source": [
    "e=\"3456fff\"\n",
    "e.isdigit()"
   ]
  },
  {
   "cell_type": "code",
   "execution_count": 47,
   "id": "e4d922a4",
   "metadata": {},
   "outputs": [
    {
     "data": {
      "text/plain": [
       "True"
      ]
     },
     "execution_count": 47,
     "metadata": {},
     "output_type": "execute_result"
    }
   ],
   "source": [
    "e=\"3456\"\n",
    "e.isdigit()"
   ]
  },
  {
   "cell_type": "code",
   "execution_count": 48,
   "id": "ae234482",
   "metadata": {},
   "outputs": [
    {
     "data": {
      "text/plain": [
       "False"
      ]
     },
     "execution_count": 48,
     "metadata": {},
     "output_type": "execute_result"
    }
   ],
   "source": [
    "a=\"this is example\"\n",
    "a.isspace()"
   ]
  },
  {
   "cell_type": "code",
   "execution_count": 49,
   "id": "466c3538",
   "metadata": {},
   "outputs": [
    {
     "data": {
      "text/plain": [
       "True"
      ]
     },
     "execution_count": 49,
     "metadata": {},
     "output_type": "execute_result"
    }
   ],
   "source": [
    "b=\" \"\n",
    "b.isspace()"
   ]
  },
  {
   "cell_type": "code",
   "execution_count": 50,
   "id": "c393c504",
   "metadata": {},
   "outputs": [
    {
     "data": {
      "text/plain": [
       "True"
      ]
     },
     "execution_count": 50,
     "metadata": {},
     "output_type": "execute_result"
    }
   ],
   "source": [
    "c=\"this is exampl\"\n",
    "c.islower()"
   ]
  },
  {
   "cell_type": "code",
   "execution_count": 52,
   "id": "4affdcec",
   "metadata": {},
   "outputs": [
    {
     "data": {
      "text/plain": [
       "False"
      ]
     },
     "execution_count": 52,
     "metadata": {},
     "output_type": "execute_result"
    }
   ],
   "source": [
    "d=\"THIS IS EXAMPLE\"\n",
    "d.islower()"
   ]
  },
  {
   "cell_type": "code",
   "execution_count": 53,
   "id": "8e1bd42c",
   "metadata": {},
   "outputs": [
    {
     "data": {
      "text/plain": [
       "True"
      ]
     },
     "execution_count": 53,
     "metadata": {},
     "output_type": "execute_result"
    }
   ],
   "source": [
    "d.isupper()"
   ]
  },
  {
   "cell_type": "code",
   "execution_count": 54,
   "id": "a3927b0d",
   "metadata": {},
   "outputs": [
    {
     "data": {
      "text/plain": [
       "False"
      ]
     },
     "execution_count": 54,
     "metadata": {},
     "output_type": "execute_result"
    }
   ],
   "source": [
    "c.isupper()"
   ]
  },
  {
   "cell_type": "code",
   "execution_count": 55,
   "id": "68f4d0d2",
   "metadata": {},
   "outputs": [
    {
     "data": {
      "text/plain": [
       "False"
      ]
     },
     "execution_count": 55,
     "metadata": {},
     "output_type": "execute_result"
    }
   ],
   "source": [
    "u=\"this is string\"\n",
    "u.istitle()"
   ]
  },
  {
   "cell_type": "code",
   "execution_count": 58,
   "id": "c9e2050e",
   "metadata": {},
   "outputs": [
    {
     "data": {
      "text/plain": [
       "False"
      ]
     },
     "execution_count": 58,
     "metadata": {},
     "output_type": "execute_result"
    }
   ],
   "source": [
    "t=\"THIS IS EXAMPLE OF STRING\"\n",
    "t.istitle()"
   ]
  },
  {
   "cell_type": "code",
   "execution_count": 59,
   "id": "3d107606",
   "metadata": {},
   "outputs": [
    {
     "data": {
      "text/plain": [
       "True"
      ]
     },
     "execution_count": 59,
     "metadata": {},
     "output_type": "execute_result"
    }
   ],
   "source": [
    "s=\"This Range\"\n",
    "s.istitle()"
   ]
  },
  {
   "cell_type": "code",
   "execution_count": 64,
   "id": "50153662",
   "metadata": {},
   "outputs": [
    {
     "data": {
      "text/plain": [
       "'this is string example wowoooo'"
      ]
     },
     "execution_count": 64,
     "metadata": {},
     "output_type": "execute_result"
    }
   ],
   "source": [
    "q=\"77this is string example wowoooo\"\n",
    "q.strip(\"7\")"
   ]
  },
  {
   "cell_type": "code",
   "execution_count": 68,
   "id": "68560d38",
   "metadata": {},
   "outputs": [
    {
     "data": {
      "text/plain": [
       "'halo all'"
      ]
     },
     "execution_count": 68,
     "metadata": {},
     "output_type": "execute_result"
    }
   ],
   "source": [
    "w=\"555halo all\"\n",
    "w.strip(\"5\")"
   ]
  },
  {
   "cell_type": "code",
   "execution_count": 69,
   "id": "e478440f",
   "metadata": {},
   "outputs": [
    {
     "data": {
      "text/plain": [
       "('thi', 's', ' is example of string')"
      ]
     },
     "execution_count": 69,
     "metadata": {},
     "output_type": "execute_result"
    }
   ],
   "source": [
    "#partition\n",
    "a=\"this is example of string\"\n",
    "a.partition(\"s\")"
   ]
  },
  {
   "cell_type": "code",
   "execution_count": 70,
   "id": "ae477daa",
   "metadata": {},
   "outputs": [
    {
     "data": {
      "text/plain": [
       "['this', 'is', 'my', 'book']"
      ]
     },
     "execution_count": 70,
     "metadata": {},
     "output_type": "execute_result"
    }
   ],
   "source": [
    "#split\n",
    "b=\"this is my book\"\n",
    "b.split()"
   ]
  },
  {
   "cell_type": "code",
   "execution_count": 73,
   "id": "922487e3",
   "metadata": {},
   "outputs": [
    {
     "data": {
      "text/plain": [
       "'this IS Our WORLD'"
      ]
     },
     "execution_count": 73,
     "metadata": {},
     "output_type": "execute_result"
    }
   ],
   "source": [
    "#swapcase\n",
    "a=\"THIS is oUR world\"\n",
    "a.swapcase()"
   ]
  },
  {
   "cell_type": "code",
   "execution_count": 76,
   "id": "a4c2a9f1",
   "metadata": {},
   "outputs": [
    {
     "data": {
      "text/plain": [
       "'h*e*l*l*o'"
      ]
     },
     "execution_count": 76,
     "metadata": {},
     "output_type": "execute_result"
    }
   ],
   "source": [
    "#join\n",
    "d=\"hello\"\n",
    "e='*'\n",
    "e.join(d)"
   ]
  },
  {
   "cell_type": "code",
   "execution_count": 77,
   "id": "893752c2",
   "metadata": {},
   "outputs": [
    {
     "data": {
      "text/plain": [
       "'thwas was example string'"
      ]
     },
     "execution_count": 77,
     "metadata": {},
     "output_type": "execute_result"
    }
   ],
   "source": [
    "#replace\n",
    "w=\"this is example string\"\n",
    "w.replace(\"is\",\"was\")"
   ]
  },
  {
   "cell_type": "code",
   "execution_count": 78,
   "id": "516ddc03",
   "metadata": {},
   "outputs": [
    {
     "data": {
      "text/plain": [
       "8"
      ]
     },
     "execution_count": 78,
     "metadata": {},
     "output_type": "execute_result"
    }
   ],
   "source": [
    "a=\"this is example.. wow\"\n",
    "b=\"exam\"\n",
    "a.find(b)"
   ]
  },
  {
   "cell_type": "code",
   "execution_count": null,
   "id": "7cba6822",
   "metadata": {},
   "outputs": [],
   "source": []
  }
 ],
 "metadata": {
  "kernelspec": {
   "display_name": "Python 3 (ipykernel)",
   "language": "python",
   "name": "python3"
  },
  "language_info": {
   "codemirror_mode": {
    "name": "ipython",
    "version": 3
   },
   "file_extension": ".py",
   "mimetype": "text/x-python",
   "name": "python",
   "nbconvert_exporter": "python",
   "pygments_lexer": "ipython3",
   "version": "3.9.12"
  }
 },
 "nbformat": 4,
 "nbformat_minor": 5
}
