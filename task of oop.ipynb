{
 "cells": [
  {
   "cell_type": "code",
   "execution_count": 1,
   "id": "28f53b78",
   "metadata": {},
   "outputs": [
    {
     "name": "stdout",
     "output_type": "stream",
     "text": [
      "chinju\n",
      "kzkd\n"
     ]
    }
   ],
   "source": [
    "#ans1\n",
    "class abcd:\n",
    "    name=\"chinju\"\n",
    "    address=\"kzkd\"\n",
    "print(abcd.name)\n",
    "print(abcd.address)"
   ]
  },
  {
   "cell_type": "code",
   "execution_count": 5,
   "id": "c9d915da",
   "metadata": {},
   "outputs": [
    {
     "name": "stdout",
     "output_type": "stream",
     "text": [
      "name= suchithra\n",
      "rollnumber= 19\n"
     ]
    }
   ],
   "source": [
    "#ans1\n",
    "#a\n",
    "class student:\n",
    "    def __init__(self,name,rollnumber):\n",
    "        self.name=\"suchithra\"\n",
    "        self.rollnumber=19\n",
    "    def display(self):\n",
    "        print(\"name=\",self.name)\n",
    "        print(\"rollnumber=\",self.rollnumber)\n",
    "obj=student('','')\n",
    "obj.display()\n",
    "        "
   ]
  },
  {
   "cell_type": "code",
   "execution_count": 6,
   "id": "ec737b06",
   "metadata": {},
   "outputs": [
    {
     "name": "stdout",
     "output_type": "stream",
     "text": [
      "name= suchithra\n",
      "rollnumber= 19\n",
      "age= 20\n"
     ]
    }
   ],
   "source": [
    "#ans1\n",
    "#b\n",
    "class student:\n",
    "    def __init__(self,name,rollnumber):\n",
    "        self.name=\"suchithra\"\n",
    "        self.rollnumber=19\n",
    "    def get(self,age):\n",
    "        self.age=20\n",
    "    def display(self):\n",
    "        print(\"name=\",self.name)\n",
    "        print(\"rollnumber=\",self.rollnumber)\n",
    "        print(\"age=\",self.age)\n",
    "    \n",
    "obj=student('','')\n",
    "obj.get('')\n",
    "obj.display()\n",
    "        "
   ]
  },
  {
   "cell_type": "code",
   "execution_count": 7,
   "id": "9575196f",
   "metadata": {},
   "outputs": [
    {
     "name": "stdout",
     "output_type": "stream",
     "text": [
      "name= suchithra\n",
      "rollnumber= 19\n",
      "age= 20\n",
      "totalmark= 290\n"
     ]
    }
   ],
   "source": [
    "#ans1\n",
    "#c\n",
    "class student:\n",
    "    def __init__(self,name,rollnumber):\n",
    "        self.name=\"suchithra\"\n",
    "        self.rollnumber=19\n",
    "    def get(self,age):\n",
    "        self.age=20\n",
    "    def submark(self,mark):\n",
    "        self.mark=290\n",
    "    def display(self):\n",
    "        print(\"name=\",self.name)\n",
    "        print(\"rollnumber=\",self.rollnumber)\n",
    "        print(\"age=\",self.age)\n",
    "        print(\"totalmark=\",self.mark)\n",
    "    \n",
    "obj=student('','')\n",
    "obj.get('')\n",
    "obj.submark('')\n",
    "obj.display()"
   ]
  },
  {
   "cell_type": "code",
   "execution_count": 2,
   "id": "be077b5e",
   "metadata": {},
   "outputs": [
    {
     "name": "stdout",
     "output_type": "stream",
     "text": [
      "name= suchi\n",
      "place= kzkd\n"
     ]
    }
   ],
   "source": [
    "#ans 1\n",
    "class abcd:\n",
    "    def __init__(self,name,place):\n",
    "        self.name=\"suchi\"\n",
    "        self.place=\"kzkd\"\n",
    "    def display(self):\n",
    "        print(\"name=\",self.name)\n",
    "        print(\"place=\",self.place)\n",
    "obj=abcd(\"\",\"\")\n",
    "obj.display()"
   ]
  },
  {
   "cell_type": "code",
   "execution_count": 6,
   "id": "f220444e",
   "metadata": {},
   "outputs": [
    {
     "name": "stdout",
     "output_type": "stream",
     "text": [
      "suchi\n",
      "ks nivas\n"
     ]
    }
   ],
   "source": [
    "#ans2\n",
    "class vehicle:\n",
    "    name=\"suchi\"\n",
    "    address=\"ks nivas\"\n",
    "print(vehicle.name)\n",
    "print(vehicle.address)"
   ]
  },
  {
   "cell_type": "code",
   "execution_count": 11,
   "id": "2575369c",
   "metadata": {},
   "outputs": [
    {
     "name": "stdout",
     "output_type": "stream",
     "text": [
      "car\n",
      "car\n",
      "<class '__main__.xyz'>\n"
     ]
    }
   ],
   "source": [
    "#ans3\n",
    "class xyz:\n",
    "    def __init__(self,vehicle):\n",
    "        self.vehicle=vehicle\n",
    "    def get(self):\n",
    "        self.vehicle=input()\n",
    "    def display(self):\n",
    "        print(self.vehicle)\n",
    "obj=xyz(\"\")\n",
    "obj.get()\n",
    "obj.display()\n",
    "print(type(obj))        "
   ]
  },
  {
   "cell_type": "code",
   "execution_count": 15,
   "id": "d1de9ee1",
   "metadata": {},
   "outputs": [
    {
     "name": "stdout",
     "output_type": "stream",
     "text": [
      "bommu\n",
      "20\n"
     ]
    }
   ],
   "source": [
    "#ans4\n",
    "class Abcd:\n",
    "    def __init__(self,name,age):\n",
    "        self.name=\"bommu\"\n",
    "        self.age=20\n",
    "    def display(self):\n",
    "        print(self.name)\n",
    "        print(self.age)\n",
    "obj=abcd(\"\",\"\")\n",
    "obj.display()\n",
    "        "
   ]
  },
  {
   "cell_type": "code",
   "execution_count": 24,
   "id": "6008ef5f",
   "metadata": {},
   "outputs": [
    {
     "name": "stdout",
     "output_type": "stream",
     "text": [
      "suchithra\n",
      "name of student suchithra\n"
     ]
    }
   ],
   "source": [
    "#ans5\n",
    "class Student:\n",
    "    def __init__(self,name):\n",
    "        self.name=name\n",
    "    def get(self):\n",
    "        self.name=input()\n",
    "    def display(self):\n",
    "        print(\"name of student\",self.name)\n",
    "obj=Student(\"\")\n",
    "obj.get()\n",
    "obj.display()"
   ]
  },
  {
   "cell_type": "code",
   "execution_count": 36,
   "id": "b04a6b94",
   "metadata": {},
   "outputs": [
    {
     "name": "stdout",
     "output_type": "stream",
     "text": [
      "5\n",
      "8\n",
      "40\n"
     ]
    }
   ],
   "source": [
    "#ans7\n",
    "class area:\n",
    "    def __init__(self,length,breadth):\n",
    "        self.length=length\n",
    "        self.breadth=breadth\n",
    "    def get(self):\n",
    "        self.length=int(input())\n",
    "        self.breadth=int(input())\n",
    "    def display(self):\n",
    "        print(self.length*self.breadth)\n",
    "obj=area(\"\",\"\")\n",
    "obj.get()\n",
    "obj.display()"
   ]
  },
  {
   "cell_type": "code",
   "execution_count": 39,
   "id": "d6f65c72",
   "metadata": {},
   "outputs": [
    {
     "name": "stdout",
     "output_type": "stream",
     "text": [
      "4\n",
      "2\n",
      "add= 6\n",
      "sub= 2\n",
      "multi= 8\n",
      "div= 2.0\n"
     ]
    }
   ],
   "source": [
    "#ans6\n",
    "class calculator:\n",
    "    def __init__(self,a,b):\n",
    "        self.a=a\n",
    "        self.b=b\n",
    "    def get(self):\n",
    "        self.a=int(input())\n",
    "        self.b=int(input())\n",
    "    def add(self):\n",
    "        print(\"add=\",self.a+self.b)\n",
    "    def sub(self):\n",
    "        print(\"sub=\",self.a-self.b)\n",
    "    def multiple(self):\n",
    "        print(\"multi=\",self.a*self.b)\n",
    "    def div(self):\n",
    "        print(\"div=\",self.a/self.b)\n",
    "obj=calculator(\"\",\"\")\n",
    "obj.get()\n",
    "obj.add()\n",
    "obj.sub()\n",
    "obj.multiple()\n",
    "obj.div()"
   ]
  },
  {
   "cell_type": "code",
   "execution_count": 42,
   "id": "1bc17120",
   "metadata": {},
   "outputs": [
    {
     "name": "stdout",
     "output_type": "stream",
     "text": [
      "mango\n",
      "yellow\n",
      "item of fruits= \n",
      "colour of fruits= yellow\n"
     ]
    }
   ],
   "source": [
    "#inhertianceeee\n",
    "class fruits:\n",
    "    def __init__(self,items,colour):\n",
    "        self.items=items\n",
    "        self.colour=colour\n",
    "    def get(self):\n",
    "        self.item=input()\n",
    "        self.colour=input()\n",
    "    def display(self):\n",
    "        print(\"item of fruits=\",self.items)\n",
    "        print(\"colour of fruits=\",self.colour)\n",
    "o=fruits(\"\",\"\")\n",
    "o.get()\n",
    "o.display()"
   ]
  },
  {
   "cell_type": "code",
   "execution_count": 54,
   "id": "27d09f4e",
   "metadata": {},
   "outputs": [
    {
     "name": "stdout",
     "output_type": "stream",
     "text": [
      "mango\n",
      "yellow\n",
      "name of items= mango\n",
      "item colour= yellow\n",
      "enter mango import place:kzkd\n",
      "kzkd\n"
     ]
    }
   ],
   "source": [
    "#single inhertiance\n",
    "class fruits:\n",
    "    def __init__(self,items,colour):\n",
    "        self.items=items\n",
    "        self.colour=colour\n",
    "    def get(self):\n",
    "        self.item=input()\n",
    "        self.colour=input()\n",
    "    def display(self):\n",
    "        print(\"name of items=\",self.item)\n",
    "        print(\"item colour=\",self.colour)\n",
    "class mango(fruits):\n",
    "    def __init__(self,import_place):\n",
    "        self.import_place=import_place\n",
    "    def put(self):\n",
    "        self.import_place=input(\"enter mango import place:\")\n",
    "    def output(self):\n",
    "        print(self.import_place)\n",
    "obj=mango('')\n",
    "obj.get()\n",
    "obj.display()\n",
    "obj.put()\n",
    "obj.output()\n",
    "\n"
   ]
  },
  {
   "cell_type": "code",
   "execution_count": 61,
   "id": "b07a8f41",
   "metadata": {},
   "outputs": [
    {
     "name": "stdout",
     "output_type": "stream",
     "text": [
      "name of fruits::mango\n",
      "colour of mango::yellow\n",
      "enter different colour of mango::green\n",
      "enter shape of orange::round\n"
     ]
    }
   ],
   "source": [
    "#multilevel\n",
    "class fruits:\n",
    "    def __init__(self,names,colour):\n",
    "        self.names=names\n",
    "        self.colour=colour\n",
    "    def get(self):\n",
    "        self.names=input(\"name of fruits::\")\n",
    "        self.colours=input(\"colour of mango::\")\n",
    "    def display(self):\n",
    "        print(\"name of fruits=\",self.names)\n",
    "        print(\"colour of fruits=\",self.colour)\n",
    "class mango(fruits):\n",
    "    def __init__(self,diffclr):\n",
    "        self.diffclr=diffclr\n",
    "    def put(self):\n",
    "        self.dffclr=input(\"enter different colour of mango::\")\n",
    "    def output(self):\n",
    "        print(self.diffclr)\n",
    "class orange(mango):\n",
    "    def __init__(self,shape):\n",
    "        self.shape=shape\n",
    "    def cut(self):\n",
    "        self.shape=input(\"enter shape of orange::\")\n",
    "    def allabout(self):\n",
    "        print(self.shape)\n",
    "obj=orange('')\n",
    "obj.get()\n",
    "obj.put()\n",
    "obj.cut()"
   ]
  },
  {
   "cell_type": "code",
   "execution_count": 67,
   "id": "cdeb61dd",
   "metadata": {},
   "outputs": [
    {
     "name": "stdout",
     "output_type": "stream",
     "text": [
      "name of fruits::mango\n",
      "colour of mango::yellow\n",
      "enter different colour of mango::green\n",
      "enter shape of orange::round\n",
      "export of apple::kzkd\n"
     ]
    }
   ],
   "source": [
    "#multiple inhertiance\n",
    "class fruits:\n",
    "    def __init__(self,names,colour):\n",
    "        self.names=names\n",
    "        self.colour=colour\n",
    "    def get(self):\n",
    "        self.names=input(\"name of fruits::\")\n",
    "        self.colours=input(\"colour of mango::\")\n",
    "    def display(self):\n",
    "        print(\"name of fruits=\",self.names)\n",
    "        print(\"colour of fruits=\",self.colour)\n",
    "class mango:\n",
    "    def __init__(self,diffclr):\n",
    "        self.diffclr=diffclr\n",
    "    def put(self):\n",
    "        self.dffclr=input(\"enter different colour of mango::\")\n",
    "    def output(self):\n",
    "        print(self.diffclr)\n",
    "class orange:\n",
    "    def __init__(self,shape):\n",
    "        self.shape=shape\n",
    "    def cut(self):\n",
    "        self.shape=input(\"enter shape of orange::\")\n",
    "    def allabout(self):\n",
    "        print(self.shape)\n",
    "class apple(fruits,mango,orange):\n",
    "    def __init__(self,export):\n",
    "        self.export=export\n",
    "    def dot(self):\n",
    "        self.export=input(\"export of apple::\")\n",
    "    def result(self):\n",
    "        print(self.export)\n",
    "obj=apple('')\n",
    "obj.get()\n",
    "obj.put()\n",
    "obj.cut()\n",
    "obj.dot()"
   ]
  },
  {
   "cell_type": "code",
   "execution_count": 76,
   "id": "f1bc5ea9",
   "metadata": {},
   "outputs": [
    {
     "name": "stdout",
     "output_type": "stream",
     "text": [
      "name of fruits::mango\n",
      "colour of mango::yellow\n",
      "enter different colour of mango::green\n",
      "enter shape of orange::round\n",
      "export of apple::kzkd\n"
     ]
    }
   ],
   "source": [
    "#heirachial\n",
    "class fruits:\n",
    "    def __init__(self,names,colour):\n",
    "        self.names=names\n",
    "        self.colour=colour\n",
    "    def get(self):\n",
    "        self.names=input(\"name of fruits::\")\n",
    "        self.colours=input(\"colour of mango::\")\n",
    "    def display(self):\n",
    "        print(\"name of fruits=\",self.names)\n",
    "        print(\"colour of fruits=\",self.colour)\n",
    "class mango(fruits):\n",
    "    def __init__(self,diffclr):\n",
    "        self.diffclr=diffclr\n",
    "    def put(self):\n",
    "        self.dffclr=input(\"enter different colour of mango::\")\n",
    "    def output(self):\n",
    "        print(self.diffclr)\n",
    "class orange(fruits):\n",
    "    def __init__(self,shape):\n",
    "        self.shape=shape\n",
    "    def cut(self):\n",
    "        self.shape=input(\"enter shape of orange::\")\n",
    "    def allabout(self):\n",
    "        print(self.shape)\n",
    "class apple(fruits):\n",
    "    def __init__(self,export):\n",
    "        self.export=export\n",
    "    def dot(self):\n",
    "        self.export=input(\"export of apple::\")\n",
    "    def result(self):\n",
    "        print(self.export)\n",
    "obj=fruits(\"\",\"\")\n",
    "obj.get()\n",
    "obj=mango('')\n",
    "obj.put()\n",
    "obj=orange('')\n",
    "obj.cut()\n",
    "obj=apple('')\n",
    "obj.dot()"
   ]
  },
  {
   "cell_type": "markdown",
   "id": "d1ebb489",
   "metadata": {},
   "source": [
    "# ans20/10/22\n"
   ]
  },
  {
   "cell_type": "code",
   "execution_count": 2,
   "id": "22995994",
   "metadata": {},
   "outputs": [
    {
     "name": "stdout",
     "output_type": "stream",
     "text": [
      "name of student: suchi\n",
      "age of student: 20\n"
     ]
    }
   ],
   "source": [
    "#ans1\n",
    "class student:\n",
    "    def __init__(self,name,age):\n",
    "        self.name=\"suchi\"\n",
    "        self.age=20\n",
    "    def display(self):\n",
    "        print(\"name of student:\",self.name)\n",
    "        print(\"age of student:\",self.age)\n",
    "obj=student('','')\n",
    "obj.display()\n",
    "        "
   ]
  },
  {
   "cell_type": "code",
   "execution_count": 6,
   "id": "00485e0c",
   "metadata": {},
   "outputs": [],
   "source": [
    "#ans2\n",
    "class vehicle:\n",
    "    pass\n"
   ]
  },
  {
   "cell_type": "code",
   "execution_count": 10,
   "id": "5989eb0f",
   "metadata": {},
   "outputs": [
    {
     "name": "stdout",
     "output_type": "stream",
     "text": [
      "enter your vehicle name::=bus\n",
      "enter your bus name::=yoyo\n",
      "enter your bus clr::=red\n"
     ]
    }
   ],
   "source": [
    "#ans3\n",
    "class vehicle:\n",
    "    def __init__(self,vehicle_name):\n",
    "        self.vehicle_name=vehicle_name\n",
    "    def get(self):\n",
    "        self.vehicle_name=input(\"enter your vehicle name::=\")\n",
    "    def display(self):\n",
    "        print(self.vehicle_name)\n",
    "class bus(vehicle):\n",
    "    def __init__(self,bus_name,bus_clr):\n",
    "        self.bus_name=bus_name\n",
    "        self.bus_clr=bus_clr\n",
    "    def put(self):\n",
    "        self.bus_name=input(\"enter your bus name::=\")\n",
    "        self.bus_clr=input(\"enter your bus clr::=\")\n",
    "    def output(self):\n",
    "        print(self.name)\n",
    "        print(self.clr)\n",
    "obj=bus(\"\",\"\")\n",
    "obj.get()\n",
    "obj.put()"
   ]
  },
  {
   "cell_type": "code",
   "execution_count": 9,
   "id": "152a08e5",
   "metadata": {},
   "outputs": [
    {
     "name": "stdout",
     "output_type": "stream",
     "text": [
      "enter your vehicle name:bus\n",
      "50\n"
     ]
    }
   ],
   "source": [
    "#ans4\n",
    "class vehicle:\n",
    "    def __init__(self,vehicle_name):\n",
    "        self.vehicle_name=bus\n",
    "    def get(self):\n",
    "        self.vehicle_name=input(\"enter your vehicle name:\")\n",
    "    def display(self):\n",
    "        print(self.bus)\n",
    "class bus(vehicle):\n",
    "    def __init__(self,seating_capacity):\n",
    "        self.seating_capacity=50\n",
    "    def output(self):\n",
    "        print(self.seating_capacity)\n",
    "obj=bus('')\n",
    "obj.get()\n",
    "obj.output()\n",
    "        "
   ]
  },
  {
   "cell_type": "code",
   "execution_count": 9,
   "id": "c50ddf3a",
   "metadata": {},
   "outputs": [
    {
     "name": "stdout",
     "output_type": "stream",
     "text": [
      "enter your vehicle name:bus\n",
      "50\n"
     ]
    }
   ],
   "source": [
    "#ans4.5\n",
    "class vehicle:\n",
    "    def __init__(self,vehicle_name):\n",
    "        self.vehicle_name=bus\n",
    "    def get(self):\n",
    "        self.vehicle_name=input(\"enter your vehicle name:\")\n",
    "    def display(self):\n",
    "        print(self.bus)\n",
    "class bus(vehicle):\n",
    "    def seating_capacity(self,capacity=50):\n",
    "        self.capacity=50\n",
    "    def output(self):\n",
    "        print(self.capacity)\n",
    "obj=bus('')\n",
    "obj.get()\n",
    "obj.seating_capacity()\n",
    "obj.output()"
   ]
  },
  {
   "cell_type": "code",
   "execution_count": 11,
   "id": "7d53358b",
   "metadata": {},
   "outputs": [
    {
     "name": "stdout",
     "output_type": "stream",
     "text": [
      "malu\n",
      "pkd\n"
     ]
    },
    {
     "data": {
      "text/plain": [
       "True"
      ]
     },
     "execution_count": 11,
     "metadata": {},
     "output_type": "execute_result"
    }
   ],
   "source": [
    "#ans5\n",
    "class student:\n",
    "    def __init__(self,name,place):\n",
    "        self.name=\"malu\"\n",
    "        self.place=\"pkd\"\n",
    "    def display(self):\n",
    "        print(self.name)\n",
    "        print(self.place)\n",
    "obj=student(\"\",\"\")\n",
    "obj.display()\n",
    "isinstance(obj,student)\n",
    "        "
   ]
  },
  {
   "cell_type": "code",
   "execution_count": 13,
   "id": "05fef8c5",
   "metadata": {},
   "outputs": [
    {
     "name": "stdout",
     "output_type": "stream",
     "text": [
      "malu\n",
      "pkd\n",
      "<class '__main__.student'>\n"
     ]
    }
   ],
   "source": [
    "#ans6\n",
    "class student:\n",
    "    def __init__(self,name,place):\n",
    "        self.name=\"malu\"\n",
    "        self.place=\"pkd\"\n",
    "    def display(self):\n",
    "        print(self.name)\n",
    "        print(self.place)\n",
    "obj=student(\"\",\"\")\n",
    "obj.display()\n",
    "print(type(obj))\n"
   ]
  },
  {
   "cell_type": "code",
   "execution_count": 10,
   "id": "5fac647f",
   "metadata": {},
   "outputs": [
    {
     "name": "stdout",
     "output_type": "stream",
     "text": [
      "enter your school bus student number::= 45\n",
      "45\n"
     ]
    },
    {
     "data": {
      "text/plain": [
       "True"
      ]
     },
     "execution_count": 10,
     "metadata": {},
     "output_type": "execute_result"
    }
   ],
   "source": [
    "#ans7\n",
    "class vehicle:\n",
    "    def __init(self,school_bus):\n",
    "        self.school_bus=school_bus\n",
    "    def get(self):\n",
    "        self.school_bus=int(input(\"enter your school bus student number::= \"))\n",
    "    def display(self):\n",
    "        print(self.school_bus)\n",
    "obj=vehicle()\n",
    "obj.get()\n",
    "obj.display()\n",
    "isinstance(obj,vehicle)\n",
    "        "
   ]
  },
  {
   "cell_type": "code",
   "execution_count": null,
   "id": "4b2f099b",
   "metadata": {},
   "outputs": [],
   "source": []
  },
  {
   "cell_type": "code",
   "execution_count": 11,
   "id": "625a752d",
   "metadata": {},
   "outputs": [
    {
     "name": "stdout",
     "output_type": "stream",
     "text": [
      "hai\n",
      "hello\n"
     ]
    }
   ],
   "source": [
    "#ans8\n",
    "class awh:\n",
    "    def __init__(self,a,b):\n",
    "        self.a=a\n",
    "        self.b=b\n",
    "    def display(self):\n",
    "        print(self.a)\n",
    "        print(self.b)\n",
    "obj=awh('hai','hello')\n",
    "obj.display()\n",
    "    "
   ]
  },
  {
   "cell_type": "code",
   "execution_count": 27,
   "id": "19fc2cc2",
   "metadata": {},
   "outputs": [
    {
     "name": "stdout",
     "output_type": "stream",
     "text": [
      "suchithra\n",
      "name= SUCHITHRA\n"
     ]
    }
   ],
   "source": [
    "#ans9\n",
    "class abc:\n",
    "    def __init__(self,name):\n",
    "        self.name=name\n",
    "    def get(self):\n",
    "        self.name=input()\n",
    "    def display(self):\n",
    "        print(\"name=\",self.name.upper())\n",
    "obj=abc(\"\")\n",
    "obj.get()\n",
    "obj.display()"
   ]
  },
  {
   "cell_type": "code",
   "execution_count": 16,
   "id": "49a337aa",
   "metadata": {},
   "outputs": [
    {
     "name": "stdout",
     "output_type": "stream",
     "text": [
      "2\n",
      "4\n",
      "6\n",
      "8\n",
      "0.5\n",
      "-2\n"
     ]
    }
   ],
   "source": [
    "#ans10\n",
    "class calculator:\n",
    "    def __init___(self,a,b):\n",
    "        self.a=a\n",
    "        self.b=b\n",
    "    def get(self):\n",
    "        self.a=int(input())\n",
    "        self.b=int(input())\n",
    "    def add(self):\n",
    "        print(self.a+self.b)\n",
    "    def multi(self):\n",
    "        print(self.a*self.b)\n",
    "    def divi(self):\n",
    "        print(self.a/self.b)\n",
    "    def subst(self):\n",
    "        print(self.a-self.b)\n",
    "obj=calculator()\n",
    "obj.get()\n",
    "obj.add()\n",
    "obj.multi()\n",
    "obj.divi()\n",
    "obj.subst()"
   ]
  },
  {
   "cell_type": "code",
   "execution_count": 20,
   "id": "0e90de9a",
   "metadata": {},
   "outputs": [
    {
     "name": "stdout",
     "output_type": "stream",
     "text": [
      "enter your r sqoure ::3\n",
      "84.78\n"
     ]
    }
   ],
   "source": [
    "#ans11\n",
    "class area:\n",
    "    def __init(pi,r):\n",
    "        self.pi=3.14\n",
    "        self.r=r\n",
    "    def get(self):\n",
    "        self.r=int(input(\"enter your r sqoure ::\"))\n",
    "    def display(self):\n",
    "        print(3.14*self.r**self.r)\n",
    "obj=area()\n",
    "obj.get()\n",
    "obj.display()"
   ]
  },
  {
   "cell_type": "code",
   "execution_count": 29,
   "id": "355ceba0",
   "metadata": {},
   "outputs": [
    {
     "name": "stdout",
     "output_type": "stream",
     "text": [
      "2\n",
      "5\n",
      "10\n"
     ]
    }
   ],
   "source": [
    "#ans12\n",
    "class area:\n",
    "    def __init(self,l,b):\n",
    "        self.l=l\n",
    "        self.b=b\n",
    "    def get(self):\n",
    "        self.l=int(input())\n",
    "        self.b=int(input())\n",
    "    def display(self):\n",
    "        print(self.l*self.b)\n",
    "obj=area()\n",
    "obj.get()\n",
    "obj.display()"
   ]
  },
  {
   "cell_type": "code",
   "execution_count": 30,
   "id": "01ad87f2",
   "metadata": {},
   "outputs": [
    {
     "name": "stdout",
     "output_type": "stream",
     "text": [
      "animal name::=dog\n",
      "dog type::=pug\n",
      "enter your cat type::=persian\n",
      "enter cow type::=vechur\n"
     ]
    }
   ],
   "source": [
    "#ans13\n",
    "class animal:\n",
    "    def __init__(self,animal_name):\n",
    "        self.animal_name=animal_name\n",
    "    def get(self):\n",
    "        self.animal_name=input(\"animal name::=\")\n",
    "    def display(self):\n",
    "        print(self.animal_name)\n",
    "class dog:\n",
    "    def __init__(self,dog_type):\n",
    "        self.dog_type=dog_type\n",
    "    def put(self):\n",
    "        self.dog_type=input(\"dog type::=\")\n",
    "    def output(self):\n",
    "        print(self.dog_type)\n",
    "class cat:\n",
    "    def __init__(self,cat_type):\n",
    "        self.cat_type=cat_type\n",
    "    def cut(self):\n",
    "        self.cat_type=input(\"enter your cat type::=\")\n",
    "    def result(self):\n",
    "        print(cat_type)\n",
    "class cow(animal,dog,cat):\n",
    "    def __init__(self,cow_type):\n",
    "        self.cow_type=cow_type\n",
    "    def dot(self):\n",
    "        self.cow_type=input(\"enter cow type::=\")\n",
    "    def final(self):\n",
    "        print(self.cow_type)\n",
    "obj=cow(\"\")\n",
    "obj.get()\n",
    "obj.put()\n",
    "obj.cut()\n",
    "obj.dot()\n"
   ]
  },
  {
   "cell_type": "code",
   "execution_count": 24,
   "id": "531212c7",
   "metadata": {},
   "outputs": [
    {
     "name": "stdout",
     "output_type": "stream",
     "text": [
      "animal name::=dog\n",
      "dog type::=pug\n",
      "enter your cat type::=persian\n",
      "enter cow type::=vechur\n"
     ]
    }
   ],
   "source": [
    "#ans13.5\n",
    "class animal:\n",
    "    def __init__(self,animal_name):\n",
    "        self.animal_name=animal_name\n",
    "    def get(self):\n",
    "        self.animal_name=input(\"animal name::=\")\n",
    "    def display(self):\n",
    "        print(self.animal_name)\n",
    "class dog(animal):\n",
    "    def __init__(self,dog_type):\n",
    "        self.dog_type=dog_type\n",
    "    def put(self):\n",
    "        self.dog_type=input(\"dog type::=\")\n",
    "    def output(self):\n",
    "        print(self.dog_type)\n",
    "class cat(dog):\n",
    "    def __init__(self,cat_type):\n",
    "        self.cat_type=cat_type\n",
    "    def cut(self):\n",
    "        self.cat_type=input(\"enter your cat type::=\")\n",
    "    def result(self):\n",
    "        print(cat_type)\n",
    "class cow(cat):\n",
    "    def __init__(self,cow_type):\n",
    "        self.cow_type=cow_type\n",
    "    def dot(self):\n",
    "        self.cow_type=input(\"enter cow type::=\")\n",
    "    def final(self):\n",
    "        print(self.cow_type)\n",
    "obj=cow(\"\")\n",
    "obj.get()\n",
    "obj.put()\n",
    "obj.cut()\n",
    "obj.dot()\n"
   ]
  },
  {
   "cell_type": "code",
   "execution_count": 28,
   "id": "1f1b1e43",
   "metadata": {},
   "outputs": [
    {
     "name": "stdout",
     "output_type": "stream",
     "text": [
      "enter your first value of the calculation::4\n",
      "enter your second value ofthe calculation::7\n",
      "10\n",
      "27\n",
      "3\n"
     ]
    }
   ],
   "source": [
    "#ans14\n",
    "class calculation1:\n",
    "    def __init__(self,a,b):\n",
    "        self.a=a\n",
    "        self.b=b\n",
    "    def get(self):\n",
    "        self.a=int(input(\"enter your first value of the calculation::\"))\n",
    "        self.b=int(input(\"enter your second value ofthe calculation::\"))\n",
    "    def display(self):\n",
    "        print(self.a)\n",
    "        print(self.b)\n",
    "class calculation2:\n",
    "    def summ(self,d,e):\n",
    "        self.d=4\n",
    "        self.e=6\n",
    "    def output(self):\n",
    "        print(self.d+self.e)\n",
    "    def multi(self,f,g):\n",
    "        self.f=9\n",
    "        self.g=3\n",
    "    def result(self):\n",
    "        print(self.f*self.g)      \n",
    "class calculation3(calculation1,calculation2):\n",
    "    def divi(self,h,i):\n",
    "        self.h=7\n",
    "        self.i=4\n",
    "    def final(self):\n",
    "        print(self.h-self.i)\n",
    "obj=calculation3('','')\n",
    "obj.get()\n",
    "obj.summ('','')\n",
    "obj.output()\n",
    "obj.multi('','')\n",
    "obj.result()\n",
    "obj.divi('','')\n",
    "obj.final()"
   ]
  },
  {
   "cell_type": "code",
   "execution_count": null,
   "id": "8fdbf8eb",
   "metadata": {},
   "outputs": [],
   "source": []
  }
 ],
 "metadata": {
  "kernelspec": {
   "display_name": "Python 3 (ipykernel)",
   "language": "python",
   "name": "python3"
  },
  "language_info": {
   "codemirror_mode": {
    "name": "ipython",
    "version": 3
   },
   "file_extension": ".py",
   "mimetype": "text/x-python",
   "name": "python",
   "nbconvert_exporter": "python",
   "pygments_lexer": "ipython3",
   "version": "3.9.12"
  }
 },
 "nbformat": 4,
 "nbformat_minor": 5
}
