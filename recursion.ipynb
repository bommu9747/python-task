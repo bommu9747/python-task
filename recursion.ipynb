{
 "cells": [
  {
   "cell_type": "code",
   "execution_count": 9,
   "id": "f7f328b9",
   "metadata": {},
   "outputs": [
    {
     "name": "stdout",
     "output_type": "stream",
     "text": [
      "120\n"
     ]
    }
   ],
   "source": [
    "def factorial(a):\n",
    "    b=1\n",
    "    for i in range(1,a+1):\n",
    "        b=i*b\n",
    "    print(b)\n",
    "factorial(5)"
   ]
  },
  {
   "cell_type": "code",
   "execution_count": 10,
   "id": "4aa34e61",
   "metadata": {},
   "outputs": [
    {
     "name": "stdout",
     "output_type": "stream",
     "text": [
      "120\n"
     ]
    }
   ],
   "source": [
    "def factorial(a):\n",
    "    b=1\n",
    "    for i in range(1,a+1):\n",
    "        b=i*b\n",
    "    return(b)\n",
    "       \n",
    "e=factorial(5)\n",
    "print(e)"
   ]
  },
  {
   "cell_type": "code",
   "execution_count": 11,
   "id": "bda48447",
   "metadata": {},
   "outputs": [
    {
     "name": "stdout",
     "output_type": "stream",
     "text": [
      "120\n"
     ]
    }
   ],
   "source": [
    "#if to return method\n",
    "def factorial(a):\n",
    "    if a>1:\n",
    "        return a*factorial(a-1)\n",
    "    return(a)\n",
    "f=factorial(5)\n",
    "print(f)"
   ]
  },
  {
   "cell_type": "code",
   "execution_count": 13,
   "id": "1746c9dc",
   "metadata": {},
   "outputs": [
    {
     "name": "stdout",
     "output_type": "stream",
     "text": [
      "40320\n"
     ]
    }
   ],
   "source": [
    "def factorial(v):\n",
    "    if v>1:\n",
    "        return v*factorial(v-1)\n",
    "    return(v)\n",
    "r=factorial(8)\n",
    "print(r)\n"
   ]
  },
  {
   "cell_type": "code",
   "execution_count": 14,
   "id": "ee9dc9f6",
   "metadata": {},
   "outputs": [
    {
     "name": "stdout",
     "output_type": "stream",
     "text": [
      "362880\n"
     ]
    }
   ],
   "source": [
    "def fact(e):\n",
    "    if e>1:\n",
    "        return e*fact(e-1)\n",
    "    return(e)\n",
    "a=fact(9)\n",
    "print(a)\n",
    "        "
   ]
  },
  {
   "cell_type": "code",
   "execution_count": 19,
   "id": "59f86202",
   "metadata": {},
   "outputs": [
    {
     "name": "stdout",
     "output_type": "stream",
     "text": [
      "55\n"
     ]
    }
   ],
   "source": [
    "def sum(q):\n",
    "    if q>1:\n",
    "        return q+sum(q-1)\n",
    "    return(q)\n",
    "s=sum(10)\n",
    "print(s)"
   ]
  },
  {
   "cell_type": "code",
   "execution_count": 21,
   "id": "7556b3dd",
   "metadata": {},
   "outputs": [
    {
     "name": "stdout",
     "output_type": "stream",
     "text": [
      "enter your number:5\n",
      "15\n"
     ]
    }
   ],
   "source": [
    "def sum(n):\n",
    "    if n>1:\n",
    "        return n+sum(n-1)\n",
    "    return(n)\n",
    "a=int(input(\"enter your number:\"))\n",
    "s=sum(a)\n",
    "print(s)"
   ]
  },
  {
   "cell_type": "code",
   "execution_count": 6,
   "id": "3242f88d",
   "metadata": {},
   "outputs": [
    {
     "data": {
      "text/plain": [
       "31"
      ]
     },
     "execution_count": 6,
     "metadata": {},
     "output_type": "execute_result"
    }
   ],
   "source": [
    "def even(u):\n",
    "    if u>1:\n",
    "        if u%2==0:\n",
    "            return u+even(u-1)\n",
    "        else:\n",
    "            return even(u-1)\n",
    "    else:\n",
    "        return u\n",
    "    \n",
    "a=even(10)\n",
    "a"
   ]
  },
  {
   "cell_type": "code",
   "execution_count": 43,
   "id": "15010071",
   "metadata": {},
   "outputs": [
    {
     "name": "stdout",
     "output_type": "stream",
     "text": [
      "30\n"
     ]
    }
   ],
   "source": [
    "def even(a):\n",
    "    if a>0:\n",
    "        if a%2==0:\n",
    "            return a+even(a-1)\n",
    "        else:\n",
    "            return even(a-1)\n",
    "    else:\n",
    "        return a\n",
    "print(even(10))"
   ]
  },
  {
   "cell_type": "code",
   "execution_count": null,
   "id": "edfc7445",
   "metadata": {},
   "outputs": [],
   "source": []
  }
 ],
 "metadata": {
  "kernelspec": {
   "display_name": "Python 3 (ipykernel)",
   "language": "python",
   "name": "python3"
  },
  "language_info": {
   "codemirror_mode": {
    "name": "ipython",
    "version": 3
   },
   "file_extension": ".py",
   "mimetype": "text/x-python",
   "name": "python",
   "nbconvert_exporter": "python",
   "pygments_lexer": "ipython3",
   "version": "3.9.12"
  }
 },
 "nbformat": 4,
 "nbformat_minor": 5
}
