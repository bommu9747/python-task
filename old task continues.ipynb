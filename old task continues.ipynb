{
 "cells": [
  {
   "cell_type": "code",
   "execution_count": 1,
   "id": "21b2302e",
   "metadata": {},
   "outputs": [
    {
     "name": "stdout",
     "output_type": "stream",
     "text": [
      "heighst is st1 and the value is : 6\n"
     ]
    }
   ],
   "source": [
    "#ANS1\n",
    "def check(str1,str2):\n",
    "    st1=len(str1)\n",
    "    st2=len(str2)\n",
    "    if st1>st2:\n",
    "        print(\"heighst is st1 and the value is :\",st1)\n",
    "    elif st2>st1:\n",
    "        print(\"heighst is st1 and the value is :\",st2)\n",
    "    else:\n",
    "        print(st1)\n",
    "        print(st2)\n",
    "check(\"helohh\",\"haii\")\n",
    "    "
   ]
  },
  {
   "cell_type": "code",
   "execution_count": 2,
   "id": "df291fb8",
   "metadata": {},
   "outputs": [
    {
     "name": "stdout",
     "output_type": "stream",
     "text": [
      "its is odd numbers \n"
     ]
    }
   ],
   "source": [
    "#ANS2\n",
    "def even_odd(a):\n",
    "    if a%2==0:\n",
    "        print(\"its even numbers\")\n",
    "    else:\n",
    "        print(\"its is odd numbers \")\n",
    "even_odd(9)"
   ]
  },
  {
   "cell_type": "code",
   "execution_count": 3,
   "id": "ae1abff5",
   "metadata": {},
   "outputs": [
    {
     "data": {
      "text/plain": [
       "{1: 1, 2: 4, 3: 9}"
      ]
     },
     "execution_count": 3,
     "metadata": {},
     "output_type": "execute_result"
    }
   ],
   "source": [
    "#ANS3\n",
    "d={1:1,2:4,3:9}\n",
    "d"
   ]
  },
  {
   "cell_type": "code",
   "execution_count": 4,
   "id": "a1480b9f",
   "metadata": {},
   "outputs": [
    {
     "name": "stdout",
     "output_type": "stream",
     "text": [
      "{1: 1, 2: 4, 3: 9}\n"
     ]
    }
   ],
   "source": [
    "def dictionary():\n",
    "    d=dict()\n",
    "    for i in range(1,4):\n",
    "        d[i]=i**2\n",
    "        \n",
    "    print(d)\n",
    "dictionary()"
   ]
  },
  {
   "cell_type": "code",
   "execution_count": 5,
   "id": "cfc5b3b2",
   "metadata": {},
   "outputs": [
    {
     "name": "stdout",
     "output_type": "stream",
     "text": [
      "{1: 1, 2: 4, 3: 9, 4: 16, 5: 25, 6: 36, 7: 49, 8: 64, 9: 81, 10: 100, 11: 121, 12: 144, 13: 169, 14: 196, 15: 225, 16: 256, 17: 289, 18: 324, 19: 361, 20: 400}\n"
     ]
    }
   ],
   "source": [
    "#ANS4\n",
    "def dic():\n",
    "    di=dict()\n",
    "    for i in range(1,20+1):\n",
    "        di[i]=i**2\n",
    "    print(di)\n",
    "dic()\n",
    "    \n",
    "      \n",
    "           "
   ]
  },
  {
   "cell_type": "code",
   "execution_count": 6,
   "id": "917d21a9",
   "metadata": {},
   "outputs": [
    {
     "name": "stdout",
     "output_type": "stream",
     "text": [
      "{1: 1, 2: 4, 3: 9, 4: 16, 5: 25, 6: 36, 7: 49, 8: 64, 9: 81, 10: 100, 11: 121, 12: 144, 13: 169, 14: 196, 15: 225, 16: 256, 17: 289, 18: 324, 19: 361, 20: 400}\n"
     ]
    }
   ],
   "source": [
    "def dictionary():\n",
    "    d=dict()\n",
    "    for i in range(1,20+1):\n",
    "        d[i]=i**2\n",
    "    print(d)\n",
    "dictionary()\n"
   ]
  },
  {
   "cell_type": "code",
   "execution_count": 7,
   "id": "03e65d43",
   "metadata": {},
   "outputs": [
    {
     "name": "stdout",
     "output_type": "stream",
     "text": [
      "abc\n",
      "456\n",
      "suchithra\n"
     ]
    }
   ],
   "source": [
    "#ANS5\n",
    "d={1:\"abc\",2:\"456\",3:\"suchithra\"}\n",
    "for i in d.values():\n",
    "    print(i)"
   ]
  },
  {
   "cell_type": "code",
   "execution_count": 8,
   "id": "79f7c8ba",
   "metadata": {},
   "outputs": [
    {
     "name": "stdout",
     "output_type": "stream",
     "text": [
      "1\n",
      "2\n",
      "3\n"
     ]
    }
   ],
   "source": [
    "#ANS6\n",
    "d={1:\"abc\",2:\"456\",3:\"suchithra\"}\n",
    "for i in d:\n",
    "    print(i)"
   ]
  },
  {
   "cell_type": "code",
   "execution_count": 9,
   "id": "89476ea5",
   "metadata": {},
   "outputs": [
    {
     "name": "stdout",
     "output_type": "stream",
     "text": [
      "(1, 'abc')\n",
      "(2, '456')\n",
      "(3, 'suchithra')\n"
     ]
    }
   ],
   "source": [
    "#ANS7\n",
    "d={1:\"abc\",2:\"456\",3:\"suchithra\"}\n",
    "for i in d.items():\n",
    "    print(i)"
   ]
  },
  {
   "cell_type": "code",
   "execution_count": 2,
   "id": "e86615b7",
   "metadata": {},
   "outputs": [
    {
     "name": "stdout",
     "output_type": "stream",
     "text": [
      "[1, 4, 9, 16, 25, 36, 49, 64, 81, 100, 121, 144, 169, 196, 225, 256, 289, 324, 361, 400]\n",
      "[1, 4, 9, 16, 25]\n"
     ]
    }
   ],
   "source": [
    "#ANS8\n",
    "def lists():\n",
    "    k=[]\n",
    "    for i in range(1,20+1):\n",
    "        l=i**2\n",
    "        k.append(l)\n",
    "    print(k)\n",
    "    print(k[:5])\n",
    "lists()\n",
    "    \n"
   ]
  },
  {
   "cell_type": "code",
   "execution_count": 14,
   "id": "27723029",
   "metadata": {},
   "outputs": [
    {
     "data": {
      "text/plain": [
       "[1, 2, 3, 4, 5, 6, 7, 8]"
      ]
     },
     "execution_count": 14,
     "metadata": {},
     "output_type": "execute_result"
    }
   ],
   "source": [
    "t=[1,2,3,4,5,6,7,8]\n",
    "t"
   ]
  },
  {
   "cell_type": "code",
   "execution_count": 19,
   "id": "a9ba9108",
   "metadata": {},
   "outputs": [
    {
     "name": "stdout",
     "output_type": "stream",
     "text": [
      "[0]\n",
      "[0, 1]\n",
      "[0, 1, 4]\n",
      "[0, 1, 4, 9]\n",
      "[0, 1, 4, 9, 16]\n",
      "[0, 1, 4, 9, 16, 25]\n",
      "[0, 1, 4, 9, 16, 25, 36]\n",
      "[0, 1, 4, 9, 16, 25, 36, 49]\n",
      "[0, 1, 4, 9, 16, 25, 36, 49, 64]\n",
      "[0, 1, 4, 9, 16, 25, 36, 49, 64, 81]\n",
      "[0, 1, 4, 9, 16, 25, 36, 49, 64, 81, 100]\n"
     ]
    }
   ],
   "source": [
    "def lists():\n",
    "    k=[]\n",
    "    for i in range(0,10+1):\n",
    "        l=i**2\n",
    "        k.append(l)\n",
    "        print(k)\n",
    "\n",
    "lists()\n",
    "\n"
   ]
  },
  {
   "cell_type": "code",
   "execution_count": null,
   "id": "692a9637",
   "metadata": {},
   "outputs": [],
   "source": []
  },
  {
   "cell_type": "code",
   "execution_count": 23,
   "id": "ecc2d5dd",
   "metadata": {},
   "outputs": [
    {
     "name": "stdout",
     "output_type": "stream",
     "text": [
      "(1, 4, 9, 16, 25)\n"
     ]
    }
   ],
   "source": [
    "def lists():\n",
    "    k=[]\n",
    "    for i in range(1,20):\n",
    "        l=i**2\n",
    "        k.append(l)\n",
    "        r=tuple(k)\n",
    "    print(r[:5])\n",
    "lists()\n"
   ]
  },
  {
   "cell_type": "code",
   "execution_count": null,
   "id": "896cf912",
   "metadata": {},
   "outputs": [],
   "source": [
    "\n",
    "    \n",
    "   "
   ]
  },
  {
   "cell_type": "code",
   "execution_count": 4,
   "id": "a9b9d21e",
   "metadata": {},
   "outputs": [
    {
     "name": "stdout",
     "output_type": "stream",
     "text": [
      "(1, 4, 9, 16, 25)\n"
     ]
    }
   ],
   "source": [
    "#tuple 11ans\n",
    "def lists():\n",
    "    k=[]\n",
    "    for i in range(1,20+1):\n",
    "        l=i**2\n",
    "        k.append(l)\n",
    "    r=tuple(k)\n",
    "    print(r[:5])\n",
    "lists()\n",
    "    \n"
   ]
  },
  {
   "cell_type": "code",
   "execution_count": 1,
   "id": "6fe27df2",
   "metadata": {},
   "outputs": [
    {
     "name": "stdout",
     "output_type": "stream",
     "text": [
      "(1, 4, 9, 16, 25)\n"
     ]
    }
   ],
   "source": [
    "def lists():\n",
    "    k=[]\n",
    "    for i in range(1,20+1):\n",
    "        l=i**2\n",
    "        k.append(l)\n",
    "    r=tuple(k)\n",
    "    print(r[:5])\n",
    "lists()\n",
    "    "
   ]
  },
  {
   "cell_type": "code",
   "execution_count": null,
   "id": "ee7b711e",
   "metadata": {},
   "outputs": [],
   "source": []
  }
 ],
 "metadata": {
  "kernelspec": {
   "display_name": "Python 3 (ipykernel)",
   "language": "python",
   "name": "python3"
  },
  "language_info": {
   "codemirror_mode": {
    "name": "ipython",
    "version": 3
   },
   "file_extension": ".py",
   "mimetype": "text/x-python",
   "name": "python",
   "nbconvert_exporter": "python",
   "pygments_lexer": "ipython3",
   "version": "3.9.12"
  }
 },
 "nbformat": 4,
 "nbformat_minor": 5
}
