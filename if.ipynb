{
 "cells": [
  {
   "cell_type": "code",
   "execution_count": 4,
   "id": "30ceae11",
   "metadata": {},
   "outputs": [
    {
     "name": "stdout",
     "output_type": "stream",
     "text": [
      "yes\n"
     ]
    }
   ],
   "source": [
    "a=10\n",
    "b=20\n",
    "if(a<b):\n",
    "    print(\"yes\")"
   ]
  },
  {
   "cell_type": "code",
   "execution_count": 5,
   "id": "125efe1a",
   "metadata": {},
   "outputs": [
    {
     "name": "stdout",
     "output_type": "stream",
     "text": [
      "no\n"
     ]
    }
   ],
   "source": [
    "a=10\n",
    "b=20\n",
    "if(a>b):\n",
    "    print(\"yes\")\n",
    "else:\n",
    "    print(\"no\")"
   ]
  },
  {
   "cell_type": "code",
   "execution_count": 6,
   "id": "5686983b",
   "metadata": {},
   "outputs": [],
   "source": [
    "x=30\n",
    "y=40\n",
    "if(a>b):\n",
    "    print(\"a>b\")"
   ]
  },
  {
   "cell_type": "code",
   "execution_count": 7,
   "id": "931b95ef",
   "metadata": {},
   "outputs": [
    {
     "name": "stdout",
     "output_type": "stream",
     "text": [
      "a<b\n"
     ]
    }
   ],
   "source": [
    "a=10\n",
    "b=20\n",
    "if(a<b):\n",
    "    print(\"a<b\")"
   ]
  },
  {
   "cell_type": "code",
   "execution_count": 8,
   "id": "99a0e8ee",
   "metadata": {},
   "outputs": [
    {
     "name": "stdout",
     "output_type": "stream",
     "text": [
      "a>b\n"
     ]
    }
   ],
   "source": [
    "a=10\n",
    "b=20\n",
    "if(a<b):\n",
    "    print(\"a>b\")\n",
    "else:\n",
    "    print(\"a<b\")"
   ]
  },
  {
   "cell_type": "code",
   "execution_count": 9,
   "id": "97345860",
   "metadata": {},
   "outputs": [
    {
     "name": "stdout",
     "output_type": "stream",
     "text": [
      "yes\n"
     ]
    }
   ],
   "source": [
    "a=1\n",
    "if a>0:\n",
    "    print(\"yes\")\n",
    "elif a<0:\n",
    "    print(\"correct\")\n",
    "else:\n",
    "    print(\"zero\")\n",
    "        \n"
   ]
  },
  {
   "cell_type": "code",
   "execution_count": 10,
   "id": "1f2f92d4",
   "metadata": {},
   "outputs": [
    {
     "name": "stdout",
     "output_type": "stream",
     "text": [
      "okye\n"
     ]
    }
   ],
   "source": [
    "mark=30\n",
    "mark1=40\n",
    "if (mark<mark1):\n",
    "    print(\"okye\")"
   ]
  },
  {
   "cell_type": "code",
   "execution_count": 11,
   "id": "68180347",
   "metadata": {},
   "outputs": [
    {
     "name": "stdout",
     "output_type": "stream",
     "text": [
      "yes\n"
     ]
    }
   ],
   "source": [
    "a=5\n",
    "if a>0:\n",
    "    print(\"yes\")\n",
    "elif a<0:\n",
    "    print(\"no\")\n",
    "else:\n",
    "    print(\"okyy\")"
   ]
  },
  {
   "cell_type": "code",
   "execution_count": 12,
   "id": "0f442d03",
   "metadata": {},
   "outputs": [
    {
     "name": "stdout",
     "output_type": "stream",
     "text": [
      "b is large\n"
     ]
    }
   ],
   "source": [
    "#LIST\n",
    "#ANS1\n",
    "A=10\n",
    "B=20\n",
    "C=5\n",
    "if A>B and A>C:\n",
    "    print(\"a is graterthan\")\n",
    "elif B>A and B>C:\n",
    "    print(\"b is large\")\n",
    "else:\n",
    "    print(\"c is small\")"
   ]
  },
  {
   "cell_type": "code",
   "execution_count": 13,
   "id": "2052b12b",
   "metadata": {},
   "outputs": [
    {
     "name": "stdout",
     "output_type": "stream",
     "text": [
      "10 20\n"
     ]
    }
   ],
   "source": [
    "#ANS 2\n",
    "A=10\n",
    "B=20\n",
    "print(A,B)"
   ]
  },
  {
   "cell_type": "code",
   "execution_count": null,
   "id": "48685180",
   "metadata": {},
   "outputs": [],
   "source": [
    "#ANS3\n",
    "a=5\n",
    "if a>0:\n",
    "    print(a)"
   ]
  },
  {
   "cell_type": "code",
   "execution_count": 1,
   "id": "b0d0d0f3",
   "metadata": {},
   "outputs": [
    {
     "name": "stdout",
     "output_type": "stream",
     "text": [
      "its is even\n"
     ]
    }
   ],
   "source": [
    "#ANS 4\n",
    "A=10\n",
    "if A%2==0 :\n",
    "    print(\"its is even\")\n",
    "else:\n",
    "    print(\"it is odd number\")\n"
   ]
  },
  {
   "cell_type": "code",
   "execution_count": null,
   "id": "008b7c07",
   "metadata": {},
   "outputs": [],
   "source": [
    "#ANS5\n",
    "a1=int(input(\"enter your mark of subject\"))\n",
    "s1=int(input(\"enter your mark of subject\"))\n",
    "p1=int(input(\"enter your mark of subject\"))\n",
    "r1=int(input(\"enter your mark of subject\"))\n",
    "e1=int(input(\"enter your mark of subject\"))\n",
    "avg=(a1+s1+p1+r1+e1)/5\n",
    "avg\n",
    "print(avg)\n",
    "if avg>=90 and avg<100:\n",
    "    print(\"a grade\")\n",
    "elif avg>=80 and avg<89:\n",
    "    print(\"b is grade\")\n",
    "elif avg>=70 and avg<79:  \n",
    "    print(\"c grade\")\n",
    "elif avg>=60 and avg<69:\n",
    "    print(\" d grade\")\n",
    "\n",
    "    "
   ]
  },
  {
   "cell_type": "code",
   "execution_count": null,
   "id": "dee06e71",
   "metadata": {},
   "outputs": [],
   "source": []
  },
  {
   "cell_type": "code",
   "execution_count": 15,
   "id": "9a21f89c",
   "metadata": {},
   "outputs": [
    {
     "name": "stdout",
     "output_type": "stream",
     "text": [
      "+ve\n"
     ]
    }
   ],
   "source": [
    "if a>0:\n",
    "    print(\"+ve\")\n",
    "elif a>0:\n",
    "    print(\"-ve\")\n",
    "else:\n",
    "    print(\"zero\")"
   ]
  },
  {
   "cell_type": "code",
   "execution_count": null,
   "id": "5e33540a",
   "metadata": {},
   "outputs": [],
   "source": [
    "#ANS5\n",
    "a1=int(input(\"enter your mark of subject\"))\n",
    "s1=int(input(\"enter your mark of subject\"))\n",
    "p1=int(input(\"enter your mark of subject\"))\n",
    "r1=int(input(\"enter your mark of subject\"))\n",
    "e1=int(input(\"enter your mark of subject\"))\n",
    "avg=(a1+s1+p1+r1+e1)/5\n",
    "avg\n",
    "print(avg)\n",
    "if avg>=90 and avg<100:\n",
    "    print(\"a grade\")\n",
    "elif avg>=80 and avg<89:\n",
    "    print(\"b is grade\")\n",
    "elif avg>=70 and avg<79:  \n",
    "    print(\"c grade\")\n",
    "elif avg>=60 and avg<69:\n",
    "    print(\" d grade\")\n",
    "        "
   ]
  },
  {
   "cell_type": "code",
   "execution_count": null,
   "id": "00c08293",
   "metadata": {},
   "outputs": [],
   "source": [
    "#ANS5\n",
    "a1=int(input(\"enter your mark of subject\"))\n",
    "s1=int(input(\"enter your mark of subject\"))\n",
    "p1=int(input(\"enter your mark of subject\"))\n",
    "r1=int(input(\"enter your mark of subject\"))\n",
    "e1=int(input(\"enter your mark of subject\"))\n",
    "avg=a1+s1+p1+r1+e1/5\n",
    "avg\n",
    "print(avg)\n",
    "if avg>=9 and avg<100:\n",
    "    print(\"a grade\")\n",
    "elif avg>=80 and avg<89:\n",
    "    print(\"b is grade\")\n",
    "elif avg>=70 and avg<79:  \n",
    "    print(\"c grade\")\n",
    "elif avg>=60 and avg<69:\n",
    "    print(\" d grade\")\n"
   ]
  },
  {
   "cell_type": "code",
   "execution_count": null,
   "id": "b8616f95",
   "metadata": {},
   "outputs": [],
   "source": [
    "a=int(input(\"enter your amount\"))\n",
    "if a>2500:\n",
    "    print(\"you have 2% discound\")\n",
    "    b=a*2/100\n",
    "    print(\"your total bill amt = \",a)\n",
    "    print('your discound amt=',b)\n",
    "    print(\"total amt of pay = \",a-b)\n",
    "else:\n",
    "    print(\"you have no discound\")\n",
    "    print(\"total amt=\",a)"
   ]
  },
  {
   "cell_type": "code",
   "execution_count": 1,
   "id": "fad52cc3",
   "metadata": {},
   "outputs": [
    {
     "name": "stdout",
     "output_type": "stream",
     "text": [
      "0\n",
      "1\n",
      "2\n",
      "3\n",
      "4\n",
      "5\n",
      "6\n",
      "7\n",
      "8\n",
      "9\n",
      "10\n"
     ]
    }
   ],
   "source": [
    "#for loop\n",
    "for i in range(0,11):\n",
    "    print(i)"
   ]
  },
  {
   "cell_type": "code",
   "execution_count": 2,
   "id": "df1ea7e9",
   "metadata": {},
   "outputs": [
    {
     "name": "stdout",
     "output_type": "stream",
     "text": [
      "0\n",
      "1\n",
      "3\n",
      "6\n",
      "10\n",
      "15\n",
      "21\n",
      "28\n",
      "36\n",
      "45\n"
     ]
    }
   ],
   "source": [
    "b=0\n",
    "for i in range(0,10):\n",
    "    b=i+b\n",
    "    print(b)"
   ]
  },
  {
   "cell_type": "code",
   "execution_count": 2,
   "id": "ad6ad115",
   "metadata": {},
   "outputs": [
    {
     "name": "stdout",
     "output_type": "stream",
     "text": [
      "even\n"
     ]
    }
   ],
   "source": [
    "a=20\n",
    "if a%2==0:\n",
    "    print(\"even\")\n",
    "else:\n",
    "    print(\"odd\")\n"
   ]
  },
  {
   "cell_type": "code",
   "execution_count": 3,
   "id": "bc881436",
   "metadata": {},
   "outputs": [
    {
     "name": "stdout",
     "output_type": "stream",
     "text": [
      "0\n",
      "2\n",
      "4\n",
      "6\n",
      "8\n",
      "10\n",
      "12\n",
      "14\n",
      "16\n",
      "18\n"
     ]
    }
   ],
   "source": [
    "\n",
    "for i in range(0,20):\n",
    " \n",
    "    if i%2==0:\n",
    "        print(i)"
   ]
  },
  {
   "cell_type": "code",
   "execution_count": 4,
   "id": "49749ae4",
   "metadata": {},
   "outputs": [
    {
     "name": "stdout",
     "output_type": "stream",
     "text": [
      "1\n",
      "3\n",
      "5\n",
      "7\n",
      "9\n",
      "11\n",
      "13\n",
      "15\n",
      "17\n",
      "19\n"
     ]
    }
   ],
   "source": [
    "\n",
    "for i in range(0,20):\n",
    "    if i%2!=0:\n",
    "        print(i)"
   ]
  },
  {
   "cell_type": "code",
   "execution_count": null,
   "id": "9151171a",
   "metadata": {},
   "outputs": [],
   "source": [
    "for i in range(0,30,3):\n",
    "    print(i)"
   ]
  },
  {
   "cell_type": "code",
   "execution_count": null,
   "id": "72a49a13",
   "metadata": {},
   "outputs": [],
   "source": [
    "a=[1,3,2,4,8,6,9]\n",
    "a"
   ]
  },
  {
   "cell_type": "code",
   "execution_count": null,
   "id": "f7c83fc1",
   "metadata": {},
   "outputs": [],
   "source": [
    "b=0\n",
    "for i in a:\n",
    "    b=i+b\n",
    "print(b)\n",
    "    "
   ]
  },
  {
   "cell_type": "code",
   "execution_count": null,
   "id": "6b4ffb9c",
   "metadata": {},
   "outputs": [],
   "source": [
    "li=[\"apple\",\"banana\",\"orange\",\"mango\"]\n",
    "li"
   ]
  },
  {
   "cell_type": "code",
   "execution_count": null,
   "id": "a5b6c50c",
   "metadata": {},
   "outputs": [],
   "source": [
    "for i in li:\n",
    "    print(i)"
   ]
  },
  {
   "cell_type": "code",
   "execution_count": 1,
   "id": "d1bd9e77",
   "metadata": {},
   "outputs": [
    {
     "name": "stdout",
     "output_type": "stream",
     "text": [
      "2903040\n"
     ]
    }
   ],
   "source": [
    "#factorial\n",
    "b=8\n",
    "for i in range(1,10):\n",
    "    #print(i)\n",
    "\n",
    "    b=i*b\n",
    "print(b)"
   ]
  },
  {
   "cell_type": "code",
   "execution_count": 2,
   "id": "31ba9b8e",
   "metadata": {},
   "outputs": [
    {
     "name": "stdout",
     "output_type": "stream",
     "text": [
      "18\n"
     ]
    }
   ],
   "source": [
    "b=2\n",
    "b=i*b\n",
    "print(b)"
   ]
  },
  {
   "cell_type": "code",
   "execution_count": null,
   "id": "f877a142",
   "metadata": {},
   "outputs": [],
   "source": [
    "\n",
    "a=int(input(\"enter your amount\"))\n",
    "if a>2500:\n",
    "    print(\"you have 2% discound\")\n",
    "    b=a*2/100\n",
    "    print(\"your total bill amt = \",a)\n",
    "    print('your discound amt=',b)\n",
    "    print(\"total amt of pay = \",a-b)\n",
    "else:\n",
    "    print(\"you have no discound\")\n",
    "    print(\"total amt=\",a)"
   ]
  },
  {
   "cell_type": "code",
   "execution_count": null,
   "id": "440311e4",
   "metadata": {},
   "outputs": [],
   "source": [
    "a=153\n",
    "153/2"
   ]
  },
  {
   "cell_type": "code",
   "execution_count": null,
   "id": "16b843b0",
   "metadata": {},
   "outputs": [],
   "source": [
    "1*1*1+5*5*5+3*3*3"
   ]
  },
  {
   "cell_type": "code",
   "execution_count": null,
   "id": "51ca1b5c",
   "metadata": {},
   "outputs": [],
   "source": [
    "#while loop\n",
    "a=153\n",
    "sum=0\n",
    "temp=a\n",
    "while temp>0:\n",
    "    digit=temp%10\n",
    "    sum=sum+(digit**3)\n",
    "    temp=temp//10\n",
    "if sum==a:\n",
    "    print(\"yes\")\n",
    "else:\n",
    "    print(\"not\")\n",
    "        \n",
    "    \n",
    "    \n",
    "   "
   ]
  },
  {
   "cell_type": "code",
   "execution_count": null,
   "id": "a69c89b8",
   "metadata": {},
   "outputs": [],
   "source": [
    "a=267\n",
    "sum=0\n",
    "temp=a\n",
    "while temp>0:\n",
    "    digit=temp%10\n",
    "    sum=sum+(digit**3)\n",
    "    temp=temp//10\n",
    "if sum==a:\n",
    "    print(\"correct\")\n",
    "else:\n",
    "    print(\"its wrong\")"
   ]
  },
  {
   "cell_type": "code",
   "execution_count": null,
   "id": "250b4d7d",
   "metadata": {},
   "outputs": [],
   "source": [
    "a=369\n",
    "sum=0\n",
    "temp=a\n",
    "while temp>0:\n",
    "    digit=temp%10\n",
    "    sum=sum+(digit**3)\n",
    "    temp=temp//10\n",
    "if sum==0:\n",
    "    print(\"is correct\")\n",
    "else:\n",
    "    print(\"is not correct\")"
   ]
  },
  {
   "cell_type": "code",
   "execution_count": null,
   "id": "e38c0951",
   "metadata": {},
   "outputs": [],
   "source": [
    "a=135\n",
    "sum=0\n",
    "temp=a\n",
    "while temp>0:\n",
    "    digit=digit%10\n",
    "    sum=sum+(digit**3)\n",
    "    temp=temp//10\n",
    "if sum==0:\n",
    "    print(\"correct\")\n",
    "else:\n",
    "    print(\"its wrong\")\n"
   ]
  },
  {
   "cell_type": "code",
   "execution_count": null,
   "id": "ed8b0c43",
   "metadata": {},
   "outputs": [],
   "source": [
    "a=111\n",
    "sum=0\n",
    "temp=a\n",
    "while temp>0:\n",
    "    digit=digit%10\n",
    "    sum=sum+(digit**3)\n",
    "    temp=temp//10\n",
    "if sum==0:\n",
    "    print(\"yes\")\n",
    "else:\n",
    "    print(\"no\")"
   ]
  },
  {
   "cell_type": "code",
   "execution_count": null,
   "id": "775f9143",
   "metadata": {},
   "outputs": [],
   "source": [
    "a=370\n",
    "sum=0\n",
    "temp=a\n",
    "while temp>0:\n",
    "    digit=temp%10\n",
    "    sum=sum+(digit**3)\n",
    "    temp=temp//10\n",
    "if sum==a:\n",
    "    print(\"yes\")\n",
    "else:\n",
    "    print(\"no\")"
   ]
  },
  {
   "cell_type": "code",
   "execution_count": null,
   "id": "25f61f7e",
   "metadata": {},
   "outputs": [],
   "source": [
    "a=1\n",
    "sum=0\n",
    "temp=a\n",
    "while temp>0:\n",
    "    digit=temp%10\n",
    "    sum=sum+(digit**3)\n",
    "    temp=temp//10\n",
    "if sum==a:\n",
    "    print(\"yes\")\n",
    "else:\n",
    "    print(\"not\")\n",
    "        \n",
    "    "
   ]
  },
  {
   "cell_type": "code",
   "execution_count": null,
   "id": "d20257e4",
   "metadata": {},
   "outputs": [],
   "source": [
    "a=407\n"
   ]
  },
  {
   "cell_type": "code",
   "execution_count": null,
   "id": "e449b49b",
   "metadata": {},
   "outputs": [],
   "source": []
  },
  {
   "cell_type": "code",
   "execution_count": null,
   "id": "8fbf204b",
   "metadata": {},
   "outputs": [],
   "source": []
  },
  {
   "cell_type": "code",
   "execution_count": null,
   "id": "d1de160e",
   "metadata": {},
   "outputs": [],
   "source": [
    "\n"
   ]
  },
  {
   "cell_type": "code",
   "execution_count": null,
   "id": "e3998e6a",
   "metadata": {},
   "outputs": [],
   "source": [
    "#reversed\n",
    "num = 1234\n",
    "reversed_num = 0\n",
    "\n",
    "while num != 0:\n",
    "    digit = num % 10\n",
    "    reversed_num = reversed_num * 10 + digit\n",
    "    num //= 10\n",
    "\n",
    "print(\"Reversed Number: \" + str(reversed_num))"
   ]
  },
  {
   "cell_type": "code",
   "execution_count": null,
   "id": "99ef2856",
   "metadata": {},
   "outputs": [],
   "source": [
    "num = 876\n",
    "reversed_num = 0\n",
    "while num != 0:\n",
    "    digit = num % 10\n",
    "    reversed_num= reversed_num * 10 + digit\n",
    "    num //= 10\n",
    "print(\"your reveresd number: \" +str(reversed_num))\n",
    "    \n",
    "    "
   ]
  },
  {
   "cell_type": "code",
   "execution_count": null,
   "id": "73fc6434",
   "metadata": {},
   "outputs": [],
   "source": [
    "num = 4562\n",
    "reversed_num = 0\n",
    "while num != 0:\n",
    "    digit = num % 10\n",
    "    reversed_num = reversed_num * 10 + digit\n",
    "    num //= 10\n",
    "print(\"your reversed number is:\" +str(reversed_num))"
   ]
  },
  {
   "cell_type": "code",
   "execution_count": null,
   "id": "36256758",
   "metadata": {},
   "outputs": [],
   "source": [
    "num = 32100\n",
    "reversed_num = 0\n",
    "while num != 0:\n",
    "    digit = num % 10\n",
    "    reversed_num = reversed_num * 10 + digit\n",
    "    num //= 10\n",
    "print(\"your reversed number is :\" +str(reversed_num))\n",
    "    "
   ]
  },
  {
   "cell_type": "code",
   "execution_count": 2,
   "id": "125b6c3d",
   "metadata": {
    "collapsed": true
   },
   "outputs": [
    {
     "name": "stdout",
     "output_type": "stream",
     "text": [
      "\n",
      "Please Enter the Range : 6\n",
      "0\n",
      "1\n",
      "1\n",
      "2\n",
      "2\n",
      "2\n"
     ]
    }
   ],
   "source": [
    "#fabinacci series\n",
    "Number = int(input(\"\\nPlease Enter the Range : \"))\n",
    "\n",
    "First = 0\n",
    "Second = 1\n",
    "\n",
    "for Num in range(0, Number):\n",
    "    if(Num <= 1):\n",
    "        Next = Num\n",
    "    else:\n",
    "        Next = First + Second\n",
    "        First = Second\n",
    "        econd = Next\n",
    "    print(Next)"
   ]
  },
  {
   "cell_type": "code",
   "execution_count": 3,
   "id": "34c7e7e8",
   "metadata": {},
   "outputs": [
    {
     "name": "stdout",
     "output_type": "stream",
     "text": [
      "\n",
      "Please Enter the Range : 6\n",
      "0\n",
      "1\n",
      "1\n",
      "2\n",
      "3\n",
      "5\n"
     ]
    }
   ],
   "source": [
    "Number = int(input(\"\\nPlease Enter the Range : \"))\n",
    "i = 0\n",
    "First_Value = 0\n",
    "Second_Value = 1\n",
    "while( i < Number):\n",
    "    if(i <= 1):\n",
    "        Next = i\n",
    "    else:\n",
    "        Next = First_Value + Second_Value\n",
    "        First_Value = Second_Value\n",
    "        Second_Value = Next\n",
    "    print(Next)\n",
    "    i = i + 1"
   ]
  },
  {
   "cell_type": "code",
   "execution_count": null,
   "id": "24678b10",
   "metadata": {},
   "outputs": [],
   "source": []
  },
  {
   "cell_type": "code",
   "execution_count": null,
   "id": "0492a2cf",
   "metadata": {},
   "outputs": [],
   "source": []
  },
  {
   "cell_type": "code",
   "execution_count": null,
   "id": "5b8926cd",
   "metadata": {},
   "outputs": [],
   "source": []
  },
  {
   "cell_type": "code",
   "execution_count": null,
   "id": "bb7509aa",
   "metadata": {},
   "outputs": [],
   "source": []
  },
  {
   "cell_type": "code",
   "execution_count": null,
   "id": "ebe8a141",
   "metadata": {},
   "outputs": [],
   "source": []
  },
  {
   "cell_type": "code",
   "execution_count": null,
   "id": "52078b43",
   "metadata": {},
   "outputs": [],
   "source": []
  }
 ],
 "metadata": {
  "kernelspec": {
   "display_name": "Python 3 (ipykernel)",
   "language": "python",
   "name": "python3"
  },
  "language_info": {
   "codemirror_mode": {
    "name": "ipython",
    "version": 3
   },
   "file_extension": ".py",
   "mimetype": "text/x-python",
   "name": "python",
   "nbconvert_exporter": "python",
   "pygments_lexer": "ipython3",
   "version": "3.9.12"
  }
 },
 "nbformat": 4,
 "nbformat_minor": 5
}
