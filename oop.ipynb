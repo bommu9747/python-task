{
 "cells": [
  {
   "cell_type": "code",
   "execution_count": null,
   "id": "fbbe87da",
   "metadata": {},
   "outputs": [
    {
     "name": "stdout",
     "output_type": "stream",
     "text": [
      "9\n"
     ]
    }
   ],
   "source": [
    "def even(t):\n",
    "    for i in range(0,10):\n",
    "        if i%2==0:\n",
    "            return a+even(a+1)\n",
    "        return(t)\n",
    "a=int(input())\n",
    "print(even(9))\n",
    "         \n",
    "\n"
   ]
  },
  {
   "cell_type": "code",
   "execution_count": 3,
   "id": "52af7811",
   "metadata": {},
   "outputs": [
    {
     "name": "stdout",
     "output_type": "stream",
     "text": [
      "3\n",
      "9\n",
      "18\n"
     ]
    }
   ],
   "source": [
    "def even():\n",
    "    a=int(input())\n",
    "    b=int(input())\n",
    "    s=0\n",
    "    for i in range(a,b+1):\n",
    "        if i%2==0:\n",
    "            s=i+s\n",
    "    return s\n",
    "p=even()\n",
    "print(p)\n"
   ]
  },
  {
   "cell_type": "code",
   "execution_count": 6,
   "id": "d79251b1",
   "metadata": {},
   "outputs": [
    {
     "name": "stdout",
     "output_type": "stream",
     "text": [
      "suchithra\n",
      "python\n"
     ]
    }
   ],
   "source": [
    "#class\n",
    "class mydetails:\n",
    "    name=\"suchithra\"\n",
    "    course=\"python\"\n",
    "print(mydetails.name)\n",
    "print(mydetails.course)"
   ]
  },
  {
   "cell_type": "code",
   "execution_count": 9,
   "id": "d0affc86",
   "metadata": {},
   "outputs": [
    {
     "name": "stdout",
     "output_type": "stream",
     "text": [
      "suchi\n",
      "python\n"
     ]
    }
   ],
   "source": [
    "class mydetails:\n",
    "    name=\"suchi\"\n",
    "    course=\"python\"\n",
    "    print(name)\n",
    "    print(course)"
   ]
  },
  {
   "cell_type": "code",
   "execution_count": 13,
   "id": "37d5d2b3",
   "metadata": {},
   "outputs": [
    {
     "name": "stdout",
     "output_type": "stream",
     "text": [
      "suchithra\n",
      "python\n"
     ]
    },
    {
     "data": {
      "text/plain": [
       "<__main__.mydetails at 0x16ba9c41940>"
      ]
     },
     "execution_count": 13,
     "metadata": {},
     "output_type": "execute_result"
    }
   ],
   "source": [
    "class mydetails:\n",
    "    def __init__(self,name,course):\n",
    "        self.name=name\n",
    "        self.course=course\n",
    "        print(self.name)\n",
    "        print(self.course)\n",
    "mydetails(\"suchithra\",\"python\")"
   ]
  },
  {
   "cell_type": "code",
   "execution_count": 19,
   "id": "baf72fd1",
   "metadata": {},
   "outputs": [
    {
     "name": "stdout",
     "output_type": "stream",
     "text": [
      "suchi\n",
      "python\n"
     ]
    },
    {
     "data": {
      "text/plain": [
       "<__main__.Details at 0x16baad4a220>"
      ]
     },
     "execution_count": 19,
     "metadata": {},
     "output_type": "execute_result"
    }
   ],
   "source": [
    "class Details:\n",
    "    def __init__(self,name,course):\n",
    "        self.name=name\n",
    "        self.course=course\n",
    "        print(self.name)\n",
    "        print(self.course)\n",
    "Details(\"suchi\",\"python\")"
   ]
  },
  {
   "cell_type": "code",
   "execution_count": 32,
   "id": "cf35704b",
   "metadata": {},
   "outputs": [
    {
     "name": "stdout",
     "output_type": "stream",
     "text": [
      "suchi\n",
      "python\n",
      "name suchi\n",
      "course python\n"
     ]
    }
   ],
   "source": [
    "#no1\n",
    "class Details:\n",
    "    def __init__(self,name,course):\n",
    "        self.name=name\n",
    "        self.course=course\n",
    "    def get(self):\n",
    "        self.name=input()\n",
    "        self.course=input()\n",
    "    def display(self):\n",
    "        print('name',self.name)\n",
    "        print('course',self.course)\n",
    "d=Details('','')\n",
    "d.get()\n",
    "d.display()\n",
    "      "
   ]
  },
  {
   "cell_type": "code",
   "execution_count": 43,
   "id": "f3c77da7",
   "metadata": {},
   "outputs": [
    {
     "name": "stdout",
     "output_type": "stream",
     "text": [
      "4\n",
      "8\n",
      "12\n"
     ]
    }
   ],
   "source": [
    "#no2\n",
    "class add:\n",
    "    def get(self):\n",
    "        self.number1=int(input())\n",
    "        self.number2=int(input())\n",
    "    def display(self):\n",
    "        print(self.number1+self.number2)\n",
    "obj=add()\n",
    "obj.get()\n",
    "obj.display()"
   ]
  },
  {
   "cell_type": "code",
   "execution_count": 50,
   "id": "8effb264",
   "metadata": {},
   "outputs": [
    {
     "ename": "TypeError",
     "evalue": "display() takes 1 positional argument but 2 were given",
     "output_type": "error",
     "traceback": [
      "\u001b[1;31m---------------------------------------------------------------------------\u001b[0m",
      "\u001b[1;31mTypeError\u001b[0m                                 Traceback (most recent call last)",
      "Input \u001b[1;32mIn [50]\u001b[0m, in \u001b[0;36m<cell line: 8>\u001b[1;34m()\u001b[0m\n\u001b[0;32m      6\u001b[0m         \u001b[38;5;28mprint\u001b[39m(a\u001b[38;5;241m+\u001b[39mb)\n\u001b[0;32m      7\u001b[0m obj\u001b[38;5;241m=\u001b[39madd()\n\u001b[1;32m----> 8\u001b[0m \u001b[43mobj\u001b[49m\u001b[38;5;241;43m.\u001b[39;49m\u001b[43mdisplay\u001b[49m\u001b[43m(\u001b[49m\u001b[38;5;241;43m6\u001b[39;49m\u001b[43m)\u001b[49m\n",
      "\u001b[1;31mTypeError\u001b[0m: display() takes 1 positional argument but 2 were given"
     ]
    }
   ],
   "source": [
    "#no3\n",
    "class add:\n",
    "    def display(a,b):\n",
    "        a=int(input())\n",
    "        b=int(input())\n",
    "        print(a+b)\n",
    "obj=add()\n",
    "obj.display(5,7)"
   ]
  },
  {
   "cell_type": "code",
   "execution_count": 57,
   "id": "c3164be5",
   "metadata": {},
   "outputs": [
    {
     "name": "stdout",
     "output_type": "stream",
     "text": [
      "5\n",
      "7\n",
      "12\n"
     ]
    }
   ],
   "source": [
    "class add:\n",
    "    def display(self,a,b):\n",
    "         print(a+b)\n",
    "a=int(input())\n",
    "b=int(input())\n",
    "obj=add()\n",
    "obj.display(a,b)"
   ]
  },
  {
   "cell_type": "code",
   "execution_count": 65,
   "id": "ced7ac4b",
   "metadata": {},
   "outputs": [
    {
     "name": "stdout",
     "output_type": "stream",
     "text": [
      "name= suchi\n",
      "total= 174\n"
     ]
    }
   ],
   "source": [
    "#no4\n",
    "class mark:\n",
    "    def get(self,name,total):\n",
    "        self.w=\"suchi\"\n",
    "        self.a=10\n",
    "        self.b=25\n",
    "        self.c=32\n",
    "        self.d=40\n",
    "        self.e=67\n",
    "    def display(self):\n",
    "        print(\"name=\",self.w)\n",
    "        print(\"total=\",self.a+self.b+self.c+self.d+self.e)\n",
    "obj=mark()\n",
    "obj.get('','')\n",
    "obj.display()"
   ]
  },
  {
   "cell_type": "code",
   "execution_count": 72,
   "id": "4484e0f7",
   "metadata": {
    "scrolled": true
   },
   "outputs": [
    {
     "name": "stdout",
     "output_type": "stream",
     "text": [
      "suchi\n",
      "name= SUCHI\n"
     ]
    }
   ],
   "source": [
    "#no5\n",
    "class abc:\n",
    "    def __init__(self,name):\n",
    "        self.name=name\n",
    "    def get(self):\n",
    "        self.name=input()\n",
    "    def display(self):\n",
    "        print(\"name=\",self.name.upper())\n",
    "obj=abc(\"\")\n",
    "obj.get()\n",
    "obj.display()"
   ]
  },
  {
   "cell_type": "code",
   "execution_count": 1,
   "id": "18d0cfe7",
   "metadata": {},
   "outputs": [
    {
     "name": "stdout",
     "output_type": "stream",
     "text": [
      "mango\n",
      "yellow\n",
      "item of fruits= \n",
      "colour of fruits= yellow\n"
     ]
    }
   ],
   "source": [
    "#inheriance\n",
    "class fruits:\n",
    "    def __init__(self,items,colour):\n",
    "        self.items=items\n",
    "        self.colour=colour\n",
    "    def get(self):\n",
    "        self.item=input()\n",
    "        self.colour=input()\n",
    "    def display(self):\n",
    "        print(\"item of fruits=\",self.items)\n",
    "        print(\"colour of fruits=\",self.colour)\n",
    "o=fruits(\"\",\"\")\n",
    "o.get()\n",
    "o.display()"
   ]
  },
  {
   "cell_type": "code",
   "execution_count": 2,
   "id": "5ea20bfe",
   "metadata": {},
   "outputs": [
    {
     "name": "stdout",
     "output_type": "stream",
     "text": [
      "mango\n",
      "yellow\n",
      "name of items= mango\n",
      "item colour= yellow\n",
      "enter mango import place:kzkd\n",
      "kzkd\n"
     ]
    }
   ],
   "source": [
    "#single inhertiance\n",
    "class fruits:\n",
    "    def __init__(self,items,colour):\n",
    "        self.items=items\n",
    "        self.colour=colour\n",
    "    def get(self):\n",
    "        self.item=input()\n",
    "        self.colour=input()\n",
    "    def display(self):\n",
    "        print(\"name of items=\",self.item)\n",
    "        print(\"item colour=\",self.colour)\n",
    "class mango(fruits):\n",
    "    def __init__(self,import_place):\n",
    "        self.import_place=import_place\n",
    "    def put(self):\n",
    "        self.import_place=input(\"enter mango import place:\")\n",
    "    def output(self):\n",
    "        print(self.import_place)\n",
    "obj=mango('')\n",
    "obj.get()\n",
    "obj.display()\n",
    "obj.put()\n",
    "obj.output()\n",
    "\n"
   ]
  },
  {
   "cell_type": "code",
   "execution_count": 3,
   "id": "7c78d140",
   "metadata": {},
   "outputs": [
    {
     "name": "stdout",
     "output_type": "stream",
     "text": [
      "name of fruits::mango\n",
      "colour of mango::yellow\n",
      "enter different colour of mango::green\n",
      "enter shape of orange::round\n"
     ]
    }
   ],
   "source": [
    "#multilevel\n",
    "class fruits:\n",
    "    def __init__(self,names,colour):\n",
    "        self.names=names\n",
    "        self.colour=colour\n",
    "    def get(self):\n",
    "        self.names=input(\"name of fruits::\")\n",
    "        self.colours=input(\"colour of mango::\")\n",
    "    def display(self):\n",
    "        print(\"name of fruits=\",self.names)\n",
    "        print(\"colour of fruits=\",self.colour)\n",
    "class mango(fruits):\n",
    "    def __init__(self,diffclr):\n",
    "        self.diffclr=diffclr\n",
    "    def put(self):\n",
    "        self.dffclr=input(\"enter different colour of mango::\")\n",
    "    def output(self):\n",
    "        print(self.diffclr)\n",
    "class orange(mango):\n",
    "    def __init__(self,shape):\n",
    "        self.shape=shape\n",
    "    def cut(self):\n",
    "        self.shape=input(\"enter shape of orange::\")\n",
    "    def allabout(self):\n",
    "        print(self.shape)\n",
    "obj=orange('')\n",
    "obj.get()\n",
    "obj.put()\n",
    "obj.cut()"
   ]
  },
  {
   "cell_type": "code",
   "execution_count": 4,
   "id": "ed85313d",
   "metadata": {},
   "outputs": [
    {
     "name": "stdout",
     "output_type": "stream",
     "text": [
      "name of fruits::mango\n",
      "colour of mango::yellow\n",
      "enter different colour of mango::green\n",
      "enter shape of orange::round\n",
      "export of apple::kzkd\n"
     ]
    }
   ],
   "source": [
    "#multiple inhertiance\n",
    "class fruits:\n",
    "    def __init__(self,names,colour):\n",
    "        self.names=names\n",
    "        self.colour=colour\n",
    "    def get(self):\n",
    "        self.names=input(\"name of fruits::\")\n",
    "        self.colours=input(\"colour of mango::\")\n",
    "    def display(self):\n",
    "        print(\"name of fruits=\",self.names)\n",
    "        print(\"colour of fruits=\",self.colour)\n",
    "class mango:\n",
    "    def __init__(self,diffclr):\n",
    "        self.diffclr=diffclr\n",
    "    def put(self):\n",
    "        self.dffclr=input(\"enter different colour of mango::\")\n",
    "    def output(self):\n",
    "        print(self.diffclr)\n",
    "class orange:\n",
    "    def __init__(self,shape):\n",
    "        self.shape=shape\n",
    "    def cut(self):\n",
    "        self.shape=input(\"enter shape of orange::\")\n",
    "    def allabout(self):\n",
    "        print(self.shape)\n",
    "class apple(fruits,mango,orange):\n",
    "    def __init__(self,export):\n",
    "        self.export=export\n",
    "    def dot(self):\n",
    "        self.export=input(\"export of apple::\")\n",
    "    def result(self):\n",
    "        print(self.export)\n",
    "obj=apple('')\n",
    "obj.get()\n",
    "obj.put()\n",
    "obj.cut()\n",
    "obj.dot()"
   ]
  },
  {
   "cell_type": "code",
   "execution_count": 5,
   "id": "ee7cf855",
   "metadata": {},
   "outputs": [
    {
     "name": "stdout",
     "output_type": "stream",
     "text": [
      "name of fruits::mango\n",
      "colour of mango::yellow\n",
      "enter different colour of mango::green\n",
      "enter shape of orange::round\n",
      "export of apple::kzkd\n"
     ]
    }
   ],
   "source": [
    "#heirachial\n",
    "class fruits:\n",
    "    def __init__(self,names,colour):\n",
    "        self.names=names\n",
    "        self.colour=colour\n",
    "    def get(self):\n",
    "        self.names=input(\"name of fruits::\")\n",
    "        self.colours=input(\"colour of mango::\")\n",
    "    def display(self):\n",
    "        print(\"name of fruits=\",self.names)\n",
    "        print(\"colour of fruits=\",self.colour)\n",
    "class mango(fruits):\n",
    "    def __init__(self,diffclr):\n",
    "        self.diffclr=diffclr\n",
    "    def put(self):\n",
    "        self.dffclr=input(\"enter different colour of mango::\")\n",
    "    def output(self):\n",
    "        print(self.diffclr)\n",
    "class orange(fruits):\n",
    "    def __init__(self,shape):\n",
    "        self.shape=shape\n",
    "    def cut(self):\n",
    "        self.shape=input(\"enter shape of orange::\")\n",
    "    def allabout(self):\n",
    "        print(self.shape)\n",
    "class apple(fruits):\n",
    "    def __init__(self,export):\n",
    "        self.export=export\n",
    "    def dot(self):\n",
    "        self.export=input(\"export of apple::\")\n",
    "    def result(self):\n",
    "        print(self.export)\n",
    "obj=fruits(\"\",\"\")\n",
    "obj.get()\n",
    "obj=mango('')\n",
    "obj.put()\n",
    "obj=orange('')\n",
    "obj.cut()\n",
    "obj=apple('')\n",
    "obj.dot()"
   ]
  },
  {
   "cell_type": "code",
   "execution_count": null,
   "id": "650cfa98",
   "metadata": {},
   "outputs": [],
   "source": []
  }
 ],
 "metadata": {
  "kernelspec": {
   "display_name": "Python 3 (ipykernel)",
   "language": "python",
   "name": "python3"
  },
  "language_info": {
   "codemirror_mode": {
    "name": "ipython",
    "version": 3
   },
   "file_extension": ".py",
   "mimetype": "text/x-python",
   "name": "python",
   "nbconvert_exporter": "python",
   "pygments_lexer": "ipython3",
   "version": "3.9.12"
  }
 },
 "nbformat": 4,
 "nbformat_minor": 5
}
