{
 "cells": [
  {
   "cell_type": "code",
   "execution_count": 4,
   "id": "bb42d75d",
   "metadata": {},
   "outputs": [
    {
     "name": "stdout",
     "output_type": "stream",
     "text": [
      "a\n"
     ]
    }
   ],
   "source": [
    "a=[1,2,3,'a','b','c']\n",
    "print(a)"
   ]
  },
  {
   "cell_type": "code",
   "execution_count": 5,
   "id": "8bc77ffb",
   "metadata": {},
   "outputs": [
    {
     "name": "stdout",
     "output_type": "stream",
     "text": [
      "a\n"
     ]
    }
   ],
   "source": [
    "\n",
    "print(a[3])\n"
   ]
  },
  {
   "cell_type": "code",
   "execution_count": 6,
   "id": "6fbc9eac",
   "metadata": {},
   "outputs": [
    {
     "name": "stdout",
     "output_type": "stream",
     "text": [
      "2\n"
     ]
    }
   ],
   "source": [
    "b=['a','b','c',1,2,3]\n",
    "print(b[4])"
   ]
  },
  {
   "cell_type": "code",
   "execution_count": 7,
   "id": "9faca644",
   "metadata": {},
   "outputs": [
    {
     "name": "stdout",
     "output_type": "stream",
     "text": [
      "3\n"
     ]
    }
   ],
   "source": [
    "print(b[-1])"
   ]
  },
  {
   "cell_type": "code",
   "execution_count": 8,
   "id": "596e036d",
   "metadata": {},
   "outputs": [
    {
     "name": "stdout",
     "output_type": "stream",
     "text": [
      "1\n"
     ]
    }
   ],
   "source": [
    "print(b[-3])"
   ]
  },
  {
   "cell_type": "code",
   "execution_count": 9,
   "id": "4779f20b",
   "metadata": {},
   "outputs": [
    {
     "data": {
      "text/plain": [
       "[90, 80, 70, 60]"
      ]
     },
     "execution_count": 9,
     "metadata": {},
     "output_type": "execute_result"
    }
   ],
   "source": [
    "mark=[90,80,70,60]\n",
    "mark"
   ]
  },
  {
   "cell_type": "code",
   "execution_count": 10,
   "id": "31d76482",
   "metadata": {},
   "outputs": [],
   "source": [
    "mark[1]=50"
   ]
  },
  {
   "cell_type": "code",
   "execution_count": 11,
   "id": "e90cfd07",
   "metadata": {},
   "outputs": [
    {
     "data": {
      "text/plain": [
       "[90, 50, 70, 60]"
      ]
     },
     "execution_count": 11,
     "metadata": {},
     "output_type": "execute_result"
    }
   ],
   "source": [
    "mark"
   ]
  },
  {
   "cell_type": "code",
   "execution_count": 15,
   "id": "f675239e",
   "metadata": {},
   "outputs": [
    {
     "data": {
      "text/plain": [
       "[90, 50, 70, 60, 80, 80]"
      ]
     },
     "execution_count": 15,
     "metadata": {},
     "output_type": "execute_result"
    }
   ],
   "source": [
    "#append\n",
    "mark.append(80)\n",
    "mark"
   ]
  },
  {
   "cell_type": "code",
   "execution_count": 18,
   "id": "3aa68b28",
   "metadata": {},
   "outputs": [
    {
     "data": {
      "text/plain": [
       "[90, 50, 30, 40, 40, 70, 60, 80, 80]"
      ]
     },
     "execution_count": 18,
     "metadata": {},
     "output_type": "execute_result"
    }
   ],
   "source": [
    "#insert\n",
    "mark.insert(2,30)\n",
    "mark"
   ]
  },
  {
   "cell_type": "code",
   "execution_count": 20,
   "id": "47e5a899",
   "metadata": {},
   "outputs": [
    {
     "data": {
      "text/plain": [
       "[90, 50, 30, 40, 40, 70, 60, 80, 80, 20, 30, 50, 20, 30, 50]"
      ]
     },
     "execution_count": 20,
     "metadata": {},
     "output_type": "execute_result"
    }
   ],
   "source": [
    "#extend\n",
    "mark.extend([20,30,50])\n",
    "mark"
   ]
  },
  {
   "cell_type": "markdown",
   "id": "1efccaa6",
   "metadata": {},
   "source": []
  },
  {
   "cell_type": "code",
   "execution_count": 21,
   "id": "acb0e528",
   "metadata": {},
   "outputs": [
    {
     "data": {
      "text/plain": [
       "[10, 20, 30, 40, 50, 60, 70, 80]"
      ]
     },
     "execution_count": 21,
     "metadata": {},
     "output_type": "execute_result"
    }
   ],
   "source": [
    "score=[10,20,30,40]\n",
    "score.extend([50,60,70,80])\n",
    "score"
   ]
  },
  {
   "cell_type": "code",
   "execution_count": 24,
   "id": "92150fd4",
   "metadata": {},
   "outputs": [
    {
     "name": "stdout",
     "output_type": "stream",
     "text": [
      "enter your data20\n"
     ]
    },
    {
     "data": {
      "text/plain": [
       "[90, 50, 30, 40, 40, 70, 60, 80, 80, 20, 30, 50, 20, 30, 50, '10', '20']"
      ]
     },
     "execution_count": 24,
     "metadata": {},
     "output_type": "execute_result"
    }
   ],
   "source": [
    "#input append\n",
    "a=input(\"enter your data\")\n",
    "mark.append(a)\n",
    "mark"
   ]
  },
  {
   "cell_type": "code",
   "execution_count": 25,
   "id": "df83541f",
   "metadata": {},
   "outputs": [
    {
     "name": "stdout",
     "output_type": "stream",
     "text": [
      "enter your data5\n"
     ]
    },
    {
     "data": {
      "text/plain": [
       "[10, 20, 30, 40, '5']"
      ]
     },
     "execution_count": 25,
     "metadata": {},
     "output_type": "execute_result"
    }
   ],
   "source": [
    "d=input(\"enter your data\")\n",
    "mark1.append(d)\n",
    "mark1"
   ]
  },
  {
   "cell_type": "code",
   "execution_count": 36,
   "id": "cb153c72",
   "metadata": {},
   "outputs": [
    {
     "name": "stdout",
     "output_type": "stream",
     "text": [
      "enter  loca :3\n",
      "enter data :90\n"
     ]
    },
    {
     "data": {
      "text/plain": [
       "[10, 20, 70, 90, 30, 40, '5', 70, 80, 90]"
      ]
     },
     "execution_count": 36,
     "metadata": {},
     "output_type": "execute_result"
    }
   ],
   "source": [
    "#int input insert\n",
    "d=int(input(\"enter  loca :\"))\n",
    "e=int(input(\"enter data :\"))\n",
    "\n",
    "mark1.insert(d,e)\n",
    "mark1"
   ]
  },
  {
   "cell_type": "code",
   "execution_count": 37,
   "id": "602ad684",
   "metadata": {},
   "outputs": [
    {
     "data": {
      "text/plain": [
       "[5, 6, 7, 8]"
      ]
     },
     "execution_count": 37,
     "metadata": {},
     "output_type": "execute_result"
    }
   ],
   "source": [
    "score1=[5,6,7,8]\n",
    "score1"
   ]
  },
  {
   "cell_type": "code",
   "execution_count": 39,
   "id": "900d48b5",
   "metadata": {},
   "outputs": [
    {
     "name": "stdout",
     "output_type": "stream",
     "text": [
      "enter your location10\n"
     ]
    },
    {
     "data": {
      "text/plain": [
       "[5, 6, 7, 8, '9', '10']"
      ]
     },
     "execution_count": 39,
     "metadata": {},
     "output_type": "execute_result"
    }
   ],
   "source": [
    "q=input(\"enter your location\")\n",
    "score1.append(q)\n",
    "score1"
   ]
  },
  {
   "cell_type": "code",
   "execution_count": 40,
   "id": "3e2ff5c8",
   "metadata": {},
   "outputs": [
    {
     "name": "stdout",
     "output_type": "stream",
     "text": [
      "enter your loc-1\n",
      "enter your data11\n"
     ]
    },
    {
     "data": {
      "text/plain": [
       "[5, 6, 7, 8, '9', 11, '10']"
      ]
     },
     "execution_count": 40,
     "metadata": {},
     "output_type": "execute_result"
    }
   ],
   "source": [
    "v=int(input(\"enter your loc\"))\n",
    "w=int(input(\"enter your data\"))\n",
    "score1.insert(v,w)\n",
    "score1"
   ]
  },
  {
   "cell_type": "code",
   "execution_count": 42,
   "id": "130b56c6",
   "metadata": {},
   "outputs": [
    {
     "name": "stdout",
     "output_type": "stream",
     "text": [
      "enter your loc0\n",
      "enter your data1\n"
     ]
    },
    {
     "data": {
      "text/plain": [
       "['1', 5, 6, 7, 8, '9', 11, '10']"
      ]
     },
     "execution_count": 42,
     "metadata": {},
     "output_type": "execute_result"
    }
   ],
   "source": [
    "v=int(input(\"enter your loc\"))\n",
    "w=input(\"enter your data\")\n",
    "score1.insert(v,w)\n",
    "score1"
   ]
  },
  {
   "cell_type": "code",
   "execution_count": 46,
   "id": "b21cd9bb",
   "metadata": {},
   "outputs": [
    {
     "data": {
      "text/plain": [
       "['a', 'b', 'c', 'd']"
      ]
     },
     "execution_count": 46,
     "metadata": {},
     "output_type": "execute_result"
    }
   ],
   "source": [
    "#del\n",
    "yooo=['a','b','c','d']\n",
    "yooo"
   ]
  },
  {
   "cell_type": "code",
   "execution_count": 48,
   "id": "77e58c7a",
   "metadata": {},
   "outputs": [
    {
     "data": {
      "text/plain": [
       "['a', 'b', 'c']"
      ]
     },
     "execution_count": 48,
     "metadata": {},
     "output_type": "execute_result"
    }
   ],
   "source": [
    "del yooo[3]\n",
    "yooo"
   ]
  },
  {
   "cell_type": "code",
   "execution_count": 49,
   "id": "824f9559",
   "metadata": {},
   "outputs": [
    {
     "ename": "NameError",
     "evalue": "name 'yooo' is not defined",
     "output_type": "error",
     "traceback": [
      "\u001b[1;31m---------------------------------------------------------------------------\u001b[0m",
      "\u001b[1;31mNameError\u001b[0m                                 Traceback (most recent call last)",
      "Input \u001b[1;32mIn [49]\u001b[0m, in \u001b[0;36m<cell line: 2>\u001b[1;34m()\u001b[0m\n\u001b[0;32m      1\u001b[0m \u001b[38;5;28;01mdel\u001b[39;00m yooo\n\u001b[1;32m----> 2\u001b[0m \u001b[43myooo\u001b[49m\n",
      "\u001b[1;31mNameError\u001b[0m: name 'yooo' is not defined"
     ]
    }
   ],
   "source": [
    "del yooo\n",
    "yooo"
   ]
  },
  {
   "cell_type": "code",
   "execution_count": 50,
   "id": "b9a48926",
   "metadata": {},
   "outputs": [
    {
     "data": {
      "text/plain": [
       "[5, 10, 15, 20]"
      ]
     },
     "execution_count": 50,
     "metadata": {},
     "output_type": "execute_result"
    }
   ],
   "source": [
    "#clear\n",
    "abc=[5,10,15,20]\n",
    "abc"
   ]
  },
  {
   "cell_type": "code",
   "execution_count": 52,
   "id": "a20d2278",
   "metadata": {},
   "outputs": [],
   "source": [
    "abc.clear()"
   ]
  },
  {
   "cell_type": "code",
   "execution_count": 53,
   "id": "e54e0360",
   "metadata": {},
   "outputs": [
    {
     "data": {
      "text/plain": [
       "[]"
      ]
     },
     "execution_count": 53,
     "metadata": {},
     "output_type": "execute_result"
    }
   ],
   "source": [
    "abc"
   ]
  },
  {
   "cell_type": "code",
   "execution_count": 54,
   "id": "35ff82d6",
   "metadata": {},
   "outputs": [
    {
     "data": {
      "text/plain": [
       "[2, 4, 6, 8]"
      ]
     },
     "execution_count": 54,
     "metadata": {},
     "output_type": "execute_result"
    }
   ],
   "source": [
    "\n",
    "xyz=[2,4,6,8]\n",
    "xyz"
   ]
  },
  {
   "cell_type": "code",
   "execution_count": 56,
   "id": "e0eea2a4",
   "metadata": {},
   "outputs": [
    {
     "data": {
      "text/plain": [
       "[2, 4, 6]"
      ]
     },
     "execution_count": 56,
     "metadata": {},
     "output_type": "execute_result"
    }
   ],
   "source": [
    "#remove\n",
    "xyz.remove(8)\n",
    "xyz"
   ]
  },
  {
   "cell_type": "code",
   "execution_count": 57,
   "id": "f4b0a3e1",
   "metadata": {},
   "outputs": [
    {
     "data": {
      "text/plain": [
       "[10, 20, 30, 40, 50, 60, 70, 80]"
      ]
     },
     "execution_count": 57,
     "metadata": {},
     "output_type": "execute_result"
    }
   ],
   "source": [
    "sisters=[10,20,30,40,50,60,70,80]\n",
    "sisters"
   ]
  },
  {
   "cell_type": "code",
   "execution_count": 58,
   "id": "0cf3532e",
   "metadata": {},
   "outputs": [
    {
     "data": {
      "text/plain": [
       "80"
      ]
     },
     "execution_count": 58,
     "metadata": {},
     "output_type": "execute_result"
    }
   ],
   "source": [
    "sisters.pop()\n",
    "sisters"
   ]
  },
  {
   "cell_type": "code",
   "execution_count": 59,
   "id": "ea33ea70",
   "metadata": {},
   "outputs": [
    {
     "data": {
      "text/plain": [
       "[10, 20, 30, 40, 50, 60]"
      ]
     },
     "execution_count": 59,
     "metadata": {},
     "output_type": "execute_result"
    }
   ],
   "source": [
    "sisters.pop()\n",
    "sisters"
   ]
  },
  {
   "cell_type": "code",
   "execution_count": 60,
   "id": "3bc34698",
   "metadata": {},
   "outputs": [
    {
     "data": {
      "text/plain": [
       "[20, 30, 40, 50, 60]"
      ]
     },
     "execution_count": 60,
     "metadata": {},
     "output_type": "execute_result"
    }
   ],
   "source": [
    "sisters.pop(0)\n",
    "sisters"
   ]
  },
  {
   "cell_type": "code",
   "execution_count": 61,
   "id": "6e6124ce",
   "metadata": {},
   "outputs": [
    {
     "data": {
      "text/plain": [
       "[3, 6, 9, 12, 13, 14, 'a', 'b', 'c']"
      ]
     },
     "execution_count": 61,
     "metadata": {},
     "output_type": "execute_result"
    }
   ],
   "source": [
    "tvm=[3,6,9,12,13,14,'a','b','c']\n",
    "tvm"
   ]
  },
  {
   "cell_type": "code",
   "execution_count": 64,
   "id": "ca5af7a7",
   "metadata": {},
   "outputs": [
    {
     "data": {
      "text/plain": [
       "12"
      ]
     },
     "execution_count": 64,
     "metadata": {},
     "output_type": "execute_result"
    }
   ],
   "source": [
    "tvm[3]\n"
   ]
  },
  {
   "cell_type": "code",
   "execution_count": 65,
   "id": "cb610bfd",
   "metadata": {},
   "outputs": [
    {
     "data": {
      "text/plain": [
       "[3, 6, 9]"
      ]
     },
     "execution_count": 65,
     "metadata": {},
     "output_type": "execute_result"
    }
   ],
   "source": [
    "tvm[:3]\n"
   ]
  },
  {
   "cell_type": "code",
   "execution_count": 66,
   "id": "45ee71b6",
   "metadata": {},
   "outputs": [
    {
     "data": {
      "text/plain": [
       "[12, 13, 14, 'a', 'b', 'c']"
      ]
     },
     "execution_count": 66,
     "metadata": {},
     "output_type": "execute_result"
    }
   ],
   "source": [
    "tvm[3:]\n"
   ]
  },
  {
   "cell_type": "code",
   "execution_count": 67,
   "id": "9beab6f4",
   "metadata": {},
   "outputs": [
    {
     "data": {
      "text/plain": [
       "[12, 13, 14, 'a']"
      ]
     },
     "execution_count": 67,
     "metadata": {},
     "output_type": "execute_result"
    }
   ],
   "source": [
    "tvm[3:7]\n"
   ]
  },
  {
   "cell_type": "code",
   "execution_count": 68,
   "id": "1995ddae",
   "metadata": {},
   "outputs": [
    {
     "data": {
      "text/plain": [
       "['c']"
      ]
     },
     "execution_count": 68,
     "metadata": {},
     "output_type": "execute_result"
    }
   ],
   "source": [
    "tvm[-1:]"
   ]
  },
  {
   "cell_type": "code",
   "execution_count": 69,
   "id": "029faf8d",
   "metadata": {},
   "outputs": [
    {
     "data": {
      "text/plain": [
       "'a'"
      ]
     },
     "execution_count": 69,
     "metadata": {},
     "output_type": "execute_result"
    }
   ],
   "source": [
    "tvm[-3]"
   ]
  },
  {
   "cell_type": "code",
   "execution_count": 72,
   "id": "9a2c1844",
   "metadata": {},
   "outputs": [
    {
     "data": {
      "text/plain": [
       "['b']"
      ]
     },
     "execution_count": 72,
     "metadata": {},
     "output_type": "execute_result"
    }
   ],
   "source": [
    "tvm[-2:-1]"
   ]
  },
  {
   "cell_type": "code",
   "execution_count": 73,
   "id": "77533422",
   "metadata": {},
   "outputs": [
    {
     "data": {
      "text/plain": [
       "1"
      ]
     },
     "execution_count": 73,
     "metadata": {},
     "output_type": "execute_result"
    }
   ],
   "source": [
    "#count\n",
    "tvm.count(12)"
   ]
  },
  {
   "cell_type": "code",
   "execution_count": 74,
   "id": "bd95f527",
   "metadata": {},
   "outputs": [
    {
     "data": {
      "text/plain": [
       "['a', 'b', 'c', 'd', 'a', 'b', 'c']"
      ]
     },
     "execution_count": 74,
     "metadata": {},
     "output_type": "execute_result"
    }
   ],
   "source": [
    "pkd=['a','b','c','d','a','b','c']\n",
    "pkd"
   ]
  },
  {
   "cell_type": "code",
   "execution_count": 75,
   "id": "80b05bca",
   "metadata": {},
   "outputs": [
    {
     "data": {
      "text/plain": [
       "2"
      ]
     },
     "execution_count": 75,
     "metadata": {},
     "output_type": "execute_result"
    }
   ],
   "source": [
    "pkd.count('a')"
   ]
  },
  {
   "cell_type": "code",
   "execution_count": 76,
   "id": "b84113ac",
   "metadata": {},
   "outputs": [
    {
     "data": {
      "text/plain": [
       "2"
      ]
     },
     "execution_count": 76,
     "metadata": {},
     "output_type": "execute_result"
    }
   ],
   "source": [
    "pkd.count('b')"
   ]
  },
  {
   "cell_type": "code",
   "execution_count": 77,
   "id": "4a2528f1",
   "metadata": {},
   "outputs": [
    {
     "data": {
      "text/plain": [
       "['a', 'b', 'c', 'd', 'a', 'b', 'c']"
      ]
     },
     "execution_count": 77,
     "metadata": {},
     "output_type": "execute_result"
    }
   ],
   "source": [
    "#copy\n",
    "pkd"
   ]
  },
  {
   "cell_type": "code",
   "execution_count": 78,
   "id": "cfe43fad",
   "metadata": {},
   "outputs": [
    {
     "data": {
      "text/plain": [
       "[]"
      ]
     },
     "execution_count": 78,
     "metadata": {},
     "output_type": "execute_result"
    }
   ],
   "source": [
    "dd=[]\n",
    "dd"
   ]
  },
  {
   "cell_type": "code",
   "execution_count": 79,
   "id": "1f936016",
   "metadata": {},
   "outputs": [],
   "source": [
    "dd=pkd"
   ]
  },
  {
   "cell_type": "code",
   "execution_count": 80,
   "id": "55339d9d",
   "metadata": {},
   "outputs": [
    {
     "data": {
      "text/plain": [
       "['a', 'b', 'c', 'd', 'a', 'b', 'c']"
      ]
     },
     "execution_count": 80,
     "metadata": {},
     "output_type": "execute_result"
    }
   ],
   "source": [
    "dd"
   ]
  },
  {
   "cell_type": "code",
   "execution_count": 81,
   "id": "5978b081",
   "metadata": {},
   "outputs": [
    {
     "data": {
      "text/plain": [
       "['a', 'b', 'c', 'd', 'a', 'b', 'c']"
      ]
     },
     "execution_count": 81,
     "metadata": {},
     "output_type": "execute_result"
    }
   ],
   "source": [
    "pkd"
   ]
  },
  {
   "cell_type": "code",
   "execution_count": 87,
   "id": "43c3545c",
   "metadata": {},
   "outputs": [
    {
     "name": "stdout",
     "output_type": "stream",
     "text": [
      "<built-in method reverse of list object at 0x00000213A0843B00>\n"
     ]
    }
   ],
   "source": [
    "\n"
   ]
  },
  {
   "cell_type": "code",
   "execution_count": 85,
   "id": "ce173f88",
   "metadata": {},
   "outputs": [
    {
     "data": {
      "text/plain": [
       "['a', 'b', 'c', 'd', 'a', 'b', 'c']"
      ]
     },
     "execution_count": 85,
     "metadata": {},
     "output_type": "execute_result"
    }
   ],
   "source": [
    "pkd"
   ]
  },
  {
   "cell_type": "code",
   "execution_count": 88,
   "id": "a5afb0fc",
   "metadata": {},
   "outputs": [
    {
     "data": {
      "text/plain": [
       "['c', 'b', 'a', 'd', 'c', 'b', 'a']"
      ]
     },
     "execution_count": 88,
     "metadata": {},
     "output_type": "execute_result"
    }
   ],
   "source": [
    "#reverse\n",
    "x=pkd[::-1]\n",
    "x"
   ]
  },
  {
   "cell_type": "code",
   "execution_count": 89,
   "id": "1ac3c109",
   "metadata": {},
   "outputs": [
    {
     "data": {
      "text/plain": [
       "['a', 'b', 'c', 'd', 'a', 'b', 'c']"
      ]
     },
     "execution_count": 89,
     "metadata": {},
     "output_type": "execute_result"
    }
   ],
   "source": [
    "pkd"
   ]
  },
  {
   "cell_type": "code",
   "execution_count": 90,
   "id": "c117be93",
   "metadata": {},
   "outputs": [],
   "source": [
    "#sort\n",
    "pkd.sort()"
   ]
  },
  {
   "cell_type": "code",
   "execution_count": 91,
   "id": "757d2c90",
   "metadata": {},
   "outputs": [
    {
     "data": {
      "text/plain": [
       "['a', 'a', 'b', 'b', 'c', 'c', 'd']"
      ]
     },
     "execution_count": 91,
     "metadata": {},
     "output_type": "execute_result"
    }
   ],
   "source": [
    "pkd"
   ]
  },
  {
   "cell_type": "code",
   "execution_count": 92,
   "id": "d2961ba2",
   "metadata": {},
   "outputs": [],
   "source": [
    "#sort true\n",
    "pkd.sort(reverse=True)"
   ]
  },
  {
   "cell_type": "code",
   "execution_count": 93,
   "id": "0ad6ac59",
   "metadata": {},
   "outputs": [
    {
     "data": {
      "text/plain": [
       "['d', 'c', 'c', 'b', 'b', 'a', 'a']"
      ]
     },
     "execution_count": 93,
     "metadata": {},
     "output_type": "execute_result"
    }
   ],
   "source": [
    "pkd"
   ]
  },
  {
   "cell_type": "code",
   "execution_count": null,
   "id": "16993e88",
   "metadata": {},
   "outputs": [],
   "source": []
  }
 ],
 "metadata": {
  "kernelspec": {
   "display_name": "Python 3 (ipykernel)",
   "language": "python",
   "name": "python3"
  },
  "language_info": {
   "codemirror_mode": {
    "name": "ipython",
    "version": 3
   },
   "file_extension": ".py",
   "mimetype": "text/x-python",
   "name": "python",
   "nbconvert_exporter": "python",
   "pygments_lexer": "ipython3",
   "version": "3.9.12"
  }
 },
 "nbformat": 4,
 "nbformat_minor": 5
}
