{
 "cells": [
  {
   "cell_type": "code",
   "execution_count": 1,
   "id": "cd3db610",
   "metadata": {},
   "outputs": [
    {
     "data": {
      "text/plain": [
       "[1, 2, 3, 4, 5, 6, 7]"
      ]
     },
     "execution_count": 1,
     "metadata": {},
     "output_type": "execute_result"
    }
   ],
   "source": [
    "#ans1\n",
    "a=[1,2,3,4,5,6,7]\n",
    "a"
   ]
  },
  {
   "cell_type": "code",
   "execution_count": 4,
   "id": "bcb99a18",
   "metadata": {},
   "outputs": [
    {
     "data": {
      "text/plain": [
       "[10, 11, 12, 13, 14, 15, 16]"
      ]
     },
     "execution_count": 4,
     "metadata": {},
     "output_type": "execute_result"
    }
   ],
   "source": [
    "#ans3\n",
    "m=[10,11,12,13,14,15]\n",
    "m.append(16)\n",
    "m"
   ]
  },
  {
   "cell_type": "code",
   "execution_count": 5,
   "id": "cdb14292",
   "metadata": {},
   "outputs": [
    {
     "data": {
      "text/plain": [
       "[10, 11, 12, 13, 14, 15, 16, 17]"
      ]
     },
     "execution_count": 5,
     "metadata": {},
     "output_type": "execute_result"
    }
   ],
   "source": [
    "m.insert(7,17)\n",
    "m"
   ]
  },
  {
   "cell_type": "code",
   "execution_count": 8,
   "id": "b1e4a776",
   "metadata": {},
   "outputs": [
    {
     "data": {
      "text/plain": [
       "[10, 11, 12, 13, 14, 15, 16, 17, 18, 19, 20]"
      ]
     },
     "execution_count": 8,
     "metadata": {},
     "output_type": "execute_result"
    }
   ],
   "source": [
    "m.extend([18,19,20])\n",
    "m"
   ]
  },
  {
   "cell_type": "code",
   "execution_count": 10,
   "id": "62383d45",
   "metadata": {},
   "outputs": [
    {
     "ename": "NameError",
     "evalue": "name 'm' is not defined",
     "output_type": "error",
     "traceback": [
      "\u001b[1;31m---------------------------------------------------------------------------\u001b[0m",
      "\u001b[1;31mNameError\u001b[0m                                 Traceback (most recent call last)",
      "Input \u001b[1;32mIn [10]\u001b[0m, in \u001b[0;36m<cell line: 1>\u001b[1;34m()\u001b[0m\n\u001b[1;32m----> 1\u001b[0m \u001b[38;5;28;01mdel\u001b[39;00m m\n\u001b[0;32m      2\u001b[0m m\n",
      "\u001b[1;31mNameError\u001b[0m: name 'm' is not defined"
     ]
    }
   ],
   "source": [
    "#ans4\n",
    "del m\n",
    "m"
   ]
  },
  {
   "cell_type": "code",
   "execution_count": 12,
   "id": "c0ac499d",
   "metadata": {},
   "outputs": [
    {
     "data": {
      "text/plain": [
       "[1, 3, 4]"
      ]
     },
     "execution_count": 12,
     "metadata": {},
     "output_type": "execute_result"
    }
   ],
   "source": [
    "n=[1,2,3,4]\n",
    "n.remove(2)\n",
    "n"
   ]
  },
  {
   "cell_type": "code",
   "execution_count": 13,
   "id": "abe82426",
   "metadata": {},
   "outputs": [
    {
     "data": {
      "text/plain": [
       "[20, 30, 40]"
      ]
     },
     "execution_count": 13,
     "metadata": {},
     "output_type": "execute_result"
    }
   ],
   "source": [
    "#ans 2\n",
    "n=[20,30,40]\n",
    "n"
   ]
  },
  {
   "cell_type": "code",
   "execution_count": 14,
   "id": "4ad2b536",
   "metadata": {},
   "outputs": [
    {
     "data": {
      "text/plain": [
       "3"
      ]
     },
     "execution_count": 14,
     "metadata": {},
     "output_type": "execute_result"
    }
   ],
   "source": [
    "len(n)"
   ]
  },
  {
   "cell_type": "code",
   "execution_count": 17,
   "id": "9b024055",
   "metadata": {},
   "outputs": [
    {
     "data": {
      "text/plain": [
       "(1, 2, 3, 4)"
      ]
     },
     "execution_count": 17,
     "metadata": {},
     "output_type": "execute_result"
    }
   ],
   "source": [
    "#ans6\n",
    "t=(1,2,3,4)\n",
    "t"
   ]
  },
  {
   "cell_type": "code",
   "execution_count": 19,
   "id": "5864c8a0",
   "metadata": {},
   "outputs": [
    {
     "data": {
      "text/plain": [
       "[1, 2, 3, 4, 5, 6]"
      ]
     },
     "execution_count": 19,
     "metadata": {},
     "output_type": "execute_result"
    }
   ],
   "source": [
    "#ans7\n",
    "t=(1,2,3,4,5,6)\n",
    "li=list(t)\n",
    "li"
   ]
  },
  {
   "cell_type": "code",
   "execution_count": 20,
   "id": "be2e4bab",
   "metadata": {},
   "outputs": [
    {
     "data": {
      "text/plain": [
       "(1, 2, 3, 4, 5, 6)"
      ]
     },
     "execution_count": 20,
     "metadata": {},
     "output_type": "execute_result"
    }
   ],
   "source": [
    "t=tuple(li)\n",
    "t"
   ]
  },
  {
   "cell_type": "code",
   "execution_count": 21,
   "id": "94a40f50",
   "metadata": {},
   "outputs": [
    {
     "data": {
      "text/plain": [
       "(30, 40, 50)"
      ]
     },
     "execution_count": 21,
     "metadata": {},
     "output_type": "execute_result"
    }
   ],
   "source": [
    "#ans8\n",
    "t=(30,40,50)\n",
    "t"
   ]
  },
  {
   "cell_type": "code",
   "execution_count": 23,
   "id": "9bb223ff",
   "metadata": {},
   "outputs": [
    {
     "data": {
      "text/plain": [
       "(60, 70, 80)"
      ]
     },
     "execution_count": 23,
     "metadata": {},
     "output_type": "execute_result"
    }
   ],
   "source": [
    "t1=(60,70,80)\n",
    "t1"
   ]
  },
  {
   "cell_type": "code",
   "execution_count": 24,
   "id": "4ecea61f",
   "metadata": {},
   "outputs": [
    {
     "data": {
      "text/plain": [
       "(30, 40, 50, 60, 70, 80)"
      ]
     },
     "execution_count": 24,
     "metadata": {},
     "output_type": "execute_result"
    }
   ],
   "source": [
    "t+t1"
   ]
  },
  {
   "cell_type": "code",
   "execution_count": 43,
   "id": "370f743a",
   "metadata": {},
   "outputs": [
    {
     "data": {
      "text/plain": [
       "set()"
      ]
     },
     "execution_count": 43,
     "metadata": {},
     "output_type": "execute_result"
    }
   ],
   "source": [
    "#ans8\n",
    "a=set()\n",
    "a"
   ]
  },
  {
   "cell_type": "code",
   "execution_count": 40,
   "id": "d46a7813",
   "metadata": {},
   "outputs": [
    {
     "data": {
      "text/plain": [
       "{2, 3, 4, 5, 6}"
      ]
     },
     "execution_count": 40,
     "metadata": {},
     "output_type": "execute_result"
    }
   ],
   "source": [
    "#ans 9\n",
    "b=set([2,3,4,5,6])\n",
    "b"
   ]
  },
  {
   "cell_type": "code",
   "execution_count": 45,
   "id": "82265077",
   "metadata": {},
   "outputs": [
    {
     "data": {
      "text/plain": [
       "{5, 6, 7, 8}"
      ]
     },
     "execution_count": 45,
     "metadata": {},
     "output_type": "execute_result"
    }
   ],
   "source": [
    "#ans10\n",
    "a=set([2,3,4,5,7])\n",
    "b=set([5,6,7,8])\n",
    "a\n",
    "b"
   ]
  },
  {
   "cell_type": "code",
   "execution_count": 46,
   "id": "6cfd386d",
   "metadata": {},
   "outputs": [
    {
     "data": {
      "text/plain": [
       "{2, 3, 4, 5, 6, 7, 8}"
      ]
     },
     "execution_count": 46,
     "metadata": {},
     "output_type": "execute_result"
    }
   ],
   "source": [
    "a.union(b)"
   ]
  },
  {
   "cell_type": "code",
   "execution_count": 47,
   "id": "d0c15cea",
   "metadata": {},
   "outputs": [
    {
     "data": {
      "text/plain": [
       "{2, 3, 4}"
      ]
     },
     "execution_count": 47,
     "metadata": {},
     "output_type": "execute_result"
    }
   ],
   "source": [
    "a.difference(b)"
   ]
  },
  {
   "cell_type": "code",
   "execution_count": 48,
   "id": "6e068361",
   "metadata": {},
   "outputs": [
    {
     "data": {
      "text/plain": [
       "{2, 3, 4, 6, 8}"
      ]
     },
     "execution_count": 48,
     "metadata": {},
     "output_type": "execute_result"
    }
   ],
   "source": [
    "a.symmetric_difference(b)"
   ]
  },
  {
   "cell_type": "code",
   "execution_count": 49,
   "id": "dcafdd9b",
   "metadata": {},
   "outputs": [
    {
     "data": {
      "text/plain": [
       "{1: 'abc', 2: 'def', 3: 'ghi'}"
      ]
     },
     "execution_count": 49,
     "metadata": {},
     "output_type": "execute_result"
    }
   ],
   "source": [
    "b={1:\"abc\",2:\"def\",3:\"ghi\"}\n",
    "b"
   ]
  },
  {
   "cell_type": "code",
   "execution_count": 50,
   "id": "433dac89",
   "metadata": {},
   "outputs": [
    {
     "data": {
      "text/plain": [
       "{1: 'abc', 2: 'def', 3: 'ghi', 4: 'jkl'}"
      ]
     },
     "execution_count": 50,
     "metadata": {},
     "output_type": "execute_result"
    }
   ],
   "source": [
    "b[4]=\"jkl\"\n",
    "b"
   ]
  },
  {
   "cell_type": "code",
   "execution_count": 52,
   "id": "1f90a457",
   "metadata": {},
   "outputs": [
    {
     "ename": "NameError",
     "evalue": "name 'b' is not defined",
     "output_type": "error",
     "traceback": [
      "\u001b[1;31m---------------------------------------------------------------------------\u001b[0m",
      "\u001b[1;31mNameError\u001b[0m                                 Traceback (most recent call last)",
      "Input \u001b[1;32mIn [52]\u001b[0m, in \u001b[0;36m<cell line: 1>\u001b[1;34m()\u001b[0m\n\u001b[1;32m----> 1\u001b[0m \u001b[38;5;28;01mdel\u001b[39;00m b\n\u001b[0;32m      2\u001b[0m b\n",
      "\u001b[1;31mNameError\u001b[0m: name 'b' is not defined"
     ]
    }
   ],
   "source": [
    "del b\n",
    "b"
   ]
  },
  {
   "cell_type": "code",
   "execution_count": 64,
   "id": "0bbd176f",
   "metadata": {},
   "outputs": [
    {
     "name": "stdout",
     "output_type": "stream",
     "text": [
      "enter your number 345\n",
      "345 not armstrong number\n"
     ]
    }
   ],
   "source": [
    "a=int(input(\"enter your number \"))\n",
    "sum1=0\n",
    "temp=a\n",
    "while temp>0:\n",
    "    digit=temp%10\n",
    "    sum1=sum1+(digit**3)\n",
    "    temp=temp//10\n",
    "if sum1==a:\n",
    "    print(a,\"armstrong number\")\n",
    "else:\n",
    "    print(a,\"not armstrong number\")\n"
   ]
  },
  {
   "cell_type": "code",
   "execution_count": 71,
   "id": "5fcd6291",
   "metadata": {},
   "outputs": [
    {
     "name": "stdout",
     "output_type": "stream",
     "text": [
      "enter number5\n",
      "120\n"
     ]
    }
   ],
   "source": [
    "s=int(input(\"enter number\"))\n",
    "f=1\n",
    "for i in range(1,s+1):\n",
    "    f=i*f\n",
    "print(f)"
   ]
  },
  {
   "cell_type": "code",
   "execution_count": 86,
   "id": "9bbe62fe",
   "metadata": {},
   "outputs": [
    {
     "name": "stdout",
     "output_type": "stream",
     "text": [
      "enter your number7\n",
      "\n",
      "1\n",
      "\n",
      "2\n",
      "\n",
      "3\n",
      "\n",
      "5\n",
      "\n",
      "8\n",
      "\n",
      "13\n"
     ]
    }
   ],
   "source": [
    "a=int(input(\"enter your number\"))\n",
    "first=0\n",
    "secand=1\n",
    "\n",
    "while first<=a:\n",
    "    \n",
    "    next1=first+secand\n",
    "    first=secand\n",
    "    secand=next1\n",
    "    print(next1)\n"
   ]
  },
  {
   "cell_type": "code",
   "execution_count": 87,
   "id": "f855c614",
   "metadata": {},
   "outputs": [
    {
     "name": "stdout",
     "output_type": "stream",
     "text": [
      "10\n",
      "0\n",
      "1\n",
      "1\n",
      "2\n",
      "3\n",
      "5\n",
      "8\n",
      "13\n",
      "21\n",
      "34\n",
      "55\n",
      "89\n"
     ]
    }
   ],
   "source": [
    "n=int(input())\n",
    "a=0\n",
    "b=1\n",
    "print(a)\n",
    "print(b)\n",
    "for i in range(0,n):\n",
    "    if(n>1):\n",
    "        d=a+b\n",
    "        a=b\n",
    "        b=d\n",
    "        print(d)\n",
    "        "
   ]
  },
  {
   "cell_type": "code",
   "execution_count": 88,
   "id": "ae551fa4",
   "metadata": {},
   "outputs": [
    {
     "name": "stdout",
     "output_type": "stream",
     "text": [
      "6\n",
      "0\n",
      "1\n",
      "1\n",
      "2\n",
      "3\n",
      "5\n",
      "8\n",
      "13\n"
     ]
    }
   ],
   "source": [
    "n=int(input())\n",
    "a=0\n",
    "b=1\n",
    "print(a)\n",
    "print(b)\n",
    "for i in range(0,n):\n",
    "    if(n>1):\n",
    "        d=a+b\n",
    "        a=b\n",
    "        b=d\n",
    "        print(d)"
   ]
  },
  {
   "cell_type": "code",
   "execution_count": 92,
   "id": "199e2c31",
   "metadata": {},
   "outputs": [
    {
     "name": "stdout",
     "output_type": "stream",
     "text": [
      "5\n",
      "1\n",
      "2\n",
      "3\n",
      "5\n",
      "8\n",
      "13\n"
     ]
    }
   ],
   "source": [
    "n=int(input())\n",
    "a=0\n",
    "b=1\n",
    "while a<=n:\n",
    "    d=a+b\n",
    "    a=b\n",
    "    b=d\n",
    "    print(d)"
   ]
  },
  {
   "cell_type": "markdown",
   "id": "bd41205c",
   "metadata": {},
   "source": [
    "# 2nd step"
   ]
  },
  {
   "cell_type": "code",
   "execution_count": 94,
   "id": "435aa0e1",
   "metadata": {},
   "outputs": [
    {
     "name": "stdout",
     "output_type": "stream",
     "text": [
      "3\n",
      "2\n",
      "sum= 5\n",
      "sub= 1\n",
      "divi= 1.5\n",
      "multiple= 6\n"
     ]
    }
   ],
   "source": [
    "#ans1\n",
    "class calculator:\n",
    "    def __init__(self,a,b):\n",
    "        self.a=a\n",
    "        self.b=b\n",
    "    def put(self):\n",
    "        self.a=int(input())\n",
    "        self.b=int(input())\n",
    "    def sum1(self):\n",
    "        print(\"sum=\",self.a+self.b)\n",
    "    def sub(self):\n",
    "        print(\"sub=\",self.a-self.b)\n",
    "    def divi(self):\n",
    "        print(\"divi=\",self.a/self.b)\n",
    "    def multiple(self):\n",
    "        print(\"multiple=\",self.a*self.b)\n",
    "obj=calculator(\"\",\"\")\n",
    "obj.put()\n",
    "obj.sum1()\n",
    "obj.sub()\n",
    "obj.divi()\n",
    "obj.multiple()\n",
    "    \n",
    "        "
   ]
  },
  {
   "cell_type": "code",
   "execution_count": 7,
   "id": "b4557de8",
   "metadata": {},
   "outputs": [
    {
     "name": "stdout",
     "output_type": "stream",
     "text": [
      "number of classes ?10\n",
      "total stdent of school ?1200\n",
      "enter which class is teacher ?7\n",
      "enter what subject  of teacher ?malayalam\n",
      "enter  name of student?:suchithra\n",
      "enter student total mark of in the year?:200\n"
     ]
    }
   ],
   "source": [
    "#ans2\n",
    "class school:\n",
    "    def __init__(self,std_name,std_age):\n",
    "        self.std_name=std_name\n",
    "        self.std_age=std_age\n",
    "    def get(self):\n",
    "        self.std_name=int(input(\"number of classes ?\"))\n",
    "        self.std_age=int(input(\"total stdent of school ?\"))\n",
    "    def put(self):\n",
    "        print(self.std_name)\n",
    "        print(self.std_age)\n",
    "class teacher(school):\n",
    "    def __init__(self,classs,dep):\n",
    "        self.classs=classs\n",
    "        self.dep=dep\n",
    "    def dot(self):\n",
    "        self.classs=int(input(\"enter which class is teacher ?\"))\n",
    "        self.dep=input(\"enter what subject  of teacher ?\")\n",
    "    def sub(self):\n",
    "        print(self.classs)\n",
    "        print(self.dep)\n",
    "class student(teacher):\n",
    "    def __init__(self,address,total_mark):\n",
    "        self.address=address\n",
    "        self.total_mark=total_mark\n",
    "    def hop(self):\n",
    "        self.address=input(\"enter  name of student?:\")\n",
    "        self.total_mark=int(input(\"enter student total mark of in the year?:\"))\n",
    "    def tot(self):\n",
    "        print(self.address)\n",
    "        print(self.total_mark)\n",
    "obj=school(\"\",\"\")\n",
    "obj=teacher(\"\",\"\")\n",
    "obj=student(\"\",\"\")\n",
    "obj.get()\n",
    "#obj.put()\n",
    "obj.dot()\n",
    "#obj.sub()\n",
    "obj.hop()\n",
    "#obj.tot()\n",
    "     \n",
    "        "
   ]
  },
  {
   "cell_type": "code",
   "execution_count": 14,
   "id": "ee53dc3f",
   "metadata": {},
   "outputs": [
    {
     "name": "stdout",
     "output_type": "stream",
     "text": [
      "enter number:123\n",
      "6\n"
     ]
    }
   ],
   "source": [
    "#ans3\n",
    "num=int(input(\"enter number:\"))\n",
    "sum=0\n",
    "while num>0:\n",
    "    digit=num%10\n",
    "    sum=sum+digit\n",
    "    num=num//10\n",
    "print(sum)"
   ]
  },
  {
   "cell_type": "code",
   "execution_count": 18,
   "id": "3773abbf",
   "metadata": {},
   "outputs": [
    {
     "name": "stdout",
     "output_type": "stream",
     "text": [
      "enter number:123\n",
      "6\n"
     ]
    }
   ],
   "source": [
    "#ans3\n",
    "num=int(input(\"enter number:\"))\n",
    "sum=0\n",
    "for i in(str(num)):\n",
    "    digit=num%10\n",
    "    sum=sum+digit\n",
    "    num=num//10\n",
    "print(sum)"
   ]
  },
  {
   "cell_type": "markdown",
   "id": "d3b58a3b",
   "metadata": {},
   "source": [
    "# 3rd test"
   ]
  },
  {
   "cell_type": "code",
   "execution_count": 3,
   "id": "bebd2fc7",
   "metadata": {},
   "outputs": [
    {
     "name": "stdout",
     "output_type": "stream",
     "text": [
      "enter your string:hello\n",
      "1\n",
      "2\n",
      "3\n",
      "4\n",
      "5\n"
     ]
    }
   ],
   "source": [
    "#ans1\n",
    "string=input(\"enter your string:\")\n",
    "count=0\n",
    "for i in string:\n",
    "    count=count+1\n",
    "    print(count)\n"
   ]
  },
  {
   "cell_type": "code",
   "execution_count": 24,
   "id": "42748889",
   "metadata": {},
   "outputs": [
    {
     "name": "stdout",
     "output_type": "stream",
     "text": [
      "enter your string:hi\n",
      "hi\n",
      "1\n",
      "2\n"
     ]
    }
   ],
   "source": [
    "#ans2\n",
    "a=input(\"enter your string:\")\n",
    "\n",
    "print(a)\n",
    "r= a.split()\n",
    "\n",
    "print(len(r))\n",
    "print(len(a))"
   ]
  },
  {
   "cell_type": "code",
   "execution_count": 32,
   "id": "b2e59472",
   "metadata": {},
   "outputs": [
    {
     "name": "stdout",
     "output_type": "stream",
     "text": [
      "enter your stringheloo\n",
      "heloo\n",
      "-h-e-l-o-o-\n"
     ]
    }
   ],
   "source": [
    "#ans3\n",
    "s=input(\"enter your string\")\n",
    "print(s)\n",
    "s2=s.replace(\"\",\"-\")\n",
    "print(s2)"
   ]
  },
  {
   "cell_type": "code",
   "execution_count": 46,
   "id": "923e48a0",
   "metadata": {},
   "outputs": [
    {
     "name": "stdout",
     "output_type": "stream",
     "text": [
      "hello ALLLL\n",
      "5\n"
     ]
    }
   ],
   "source": [
    "#ANS4\n",
    "d=input()\n",
    "d\n",
    "c=0\n",
    "for i in d:\n",
    "    if(i.islower()):\n",
    "        c=c+1\n",
    "print(c)"
   ]
  },
  {
   "cell_type": "code",
   "execution_count": 51,
   "id": "3aca40ad",
   "metadata": {},
   "outputs": [
    {
     "name": "stdout",
     "output_type": "stream",
     "text": [
      "bommu\n",
      "1\n"
     ]
    }
   ],
   "source": [
    "#ANS5\n",
    "z=input()\n",
    "vowel=0\n",
    "for i in z:\n",
    "    if(i==\"a\" or i==\"e\" or i==\"o\" or i==\"i\" or i==\"A\" or i==\"E\" or i==\"O\"):\n",
    "        vowel=vowel+1\n",
    "        print(vowel)"
   ]
  },
  {
   "cell_type": "code",
   "execution_count": 55,
   "id": "eec3041f",
   "metadata": {},
   "outputs": [
    {
     "name": "stdout",
     "output_type": "stream",
     "text": [
      "o\n",
      " \n",
      "r\n",
      "m\n"
     ]
    }
   ],
   "source": [
    "#ans6\n",
    "p=\"all are you wellcom\"\n",
    "s=\"good moring\"\n",
    "a=list(set(p)&set(s))\n",
    "for i in a:\n",
    "    print(i)"
   ]
  },
  {
   "cell_type": "code",
   "execution_count": 69,
   "id": "f6b48f12",
   "metadata": {},
   "outputs": [
    {
     "name": "stdout",
     "output_type": "stream",
     "text": [
      "enter your number:121\n",
      "its a palinder\n"
     ]
    }
   ],
   "source": [
    "#ans7\n",
    "n=int(input(\"enter your number:\"))\n",
    "temp=n\n",
    "rev=0\n",
    "while(n>0):\n",
    "    digit=n%10\n",
    "    rev=rev *10+digit\n",
    "    n=n//10\n",
    "if(temp==rev):\n",
    "    print(\"its a palinder\")\n",
    "else:\n",
    "    print(\"its not a palinder\")"
   ]
  },
  {
   "cell_type": "code",
   "execution_count": 70,
   "id": "9554a0a4",
   "metadata": {},
   "outputs": [
    {
     "data": {
      "text/plain": [
       "32768"
      ]
     },
     "execution_count": 70,
     "metadata": {},
     "output_type": "execute_result"
    }
   ],
   "source": [
    "#ans9\n",
    "a=8\n",
    "b=5\n",
    "c=a**b\n",
    "c"
   ]
  },
  {
   "cell_type": "code",
   "execution_count": 78,
   "id": "2483c5ca",
   "metadata": {},
   "outputs": [
    {
     "name": "stdout",
     "output_type": "stream",
     "text": [
      "133\n",
      "1\n"
     ]
    },
    {
     "ename": "KeyboardInterrupt",
     "evalue": "",
     "output_type": "error",
     "traceback": [
      "\u001b[1;31m---------------------------------------------------------------------------\u001b[0m",
      "\u001b[1;31mKeyboardInterrupt\u001b[0m                         Traceback (most recent call last)",
      "Input \u001b[1;32mIn [78]\u001b[0m, in \u001b[0;36m<cell line: 3>\u001b[1;34m()\u001b[0m\n\u001b[0;32m      5\u001b[0m     \u001b[38;5;28;01mif\u001b[39;00m(i\u001b[38;5;241m*\u001b[39m\u001b[38;5;241m*\u001b[39m\u001b[38;5;241m2\u001b[39m\u001b[38;5;241m==\u001b[39mj):\n\u001b[0;32m      6\u001b[0m         \u001b[38;5;28mprint\u001b[39m(j)\n\u001b[1;32m----> 7\u001b[0m     i\u001b[38;5;241m+\u001b[39m\u001b[38;5;241m=\u001b[39m\u001b[38;5;241m1\u001b[39m\n\u001b[0;32m      8\u001b[0m i\u001b[38;5;241m=\u001b[39m\u001b[38;5;241m1\u001b[39m\n",
      "\u001b[1;31mKeyboardInterrupt\u001b[0m: "
     ]
    }
   ],
   "source": [
    "#ans10\n",
    "i=1\n",
    "t=int(input())\n",
    "for j in range(1,t+1):\n",
    "    while (i>=((j//2))+1):\n",
    "        if(i**2==j):\n",
    "            print(j)\n",
    "        i+=1\n",
    "    i=1"
   ]
  },
  {
   "cell_type": "code",
   "execution_count": 91,
   "id": "51451780",
   "metadata": {},
   "outputs": [],
   "source": [
    "#ans 8\n",
    "def find(x):\n",
    "    retun(x and(not(x and(x-1))))\n",
    "    if(find(98)):\n",
    "        print(\"yes\")\n",
    "    else:\n",
    "            print(\"no\")"
   ]
  },
  {
   "cell_type": "code",
   "execution_count": 94,
   "id": "fed33f57",
   "metadata": {},
   "outputs": [
    {
     "name": "stdout",
     "output_type": "stream",
     "text": [
      "54\n",
      "129.2\n"
     ]
    }
   ],
   "source": [
    "#ans11\n",
    "celsius = 54\n",
    "fahrenheit = (celsius * 1.8) + 32\n",
    "print(celsius )\n",
    "print(fahrenheit)\n"
   ]
  },
  {
   "cell_type": "code",
   "execution_count": 97,
   "id": "66ae64a1",
   "metadata": {},
   "outputs": [
    {
     "name": "stdout",
     "output_type": "stream",
     "text": [
      "enter number4\n",
      "*\n",
      "*\n",
      "*\n",
      "*******\n",
      "*\n",
      "*\n",
      "*\n"
     ]
    }
   ],
   "source": [
    "n=int(input(\"enter number\"))\n",
    "for i in range(1,2*n):\n",
    "    for j in range(1,n*2):\n",
    "        if(i==n or j==n):\n",
    "            print(\"*\",end='')\n",
    "        else:\n",
    "            print('',end='')\n",
    "    print()"
   ]
  },
  {
   "cell_type": "code",
   "execution_count": 98,
   "id": "682f7131",
   "metadata": {},
   "outputs": [
    {
     "name": "stdout",
     "output_type": "stream",
     "text": [
      "enter number8\n",
      "*\n",
      "**\n",
      "***\n",
      "****\n",
      "*****\n",
      "******\n",
      "*******\n",
      "********\n"
     ]
    }
   ],
   "source": [
    "n=int(input(\"enter number\"))\n",
    "for i in range(n):\n",
    "    for j in range(i+1):\n",
    "        print(\"*\",end='')\n",
    "    print()\n",
    "    "
   ]
  },
  {
   "cell_type": "code",
   "execution_count": 3,
   "id": "8ad509b9",
   "metadata": {},
   "outputs": [
    {
     "name": "stdout",
     "output_type": "stream",
     "text": [
      "(-3+0j)\n",
      "(-2+0j)\n"
     ]
    }
   ],
   "source": [
    "import cmath\n",
    "a=1\n",
    "b=5\n",
    "c=6\n",
    "d=(b**2)-(4*a*c)\n",
    "sol1=(-b-cmath.sqrt(d))/(2*a)\n",
    "sol2=(-b+cmath.sqrt(d))/(2*a)\n",
    "print(sol1)\n",
    "print(sol2)"
   ]
  },
  {
   "cell_type": "code",
   "execution_count": 4,
   "id": "8be7e9c2",
   "metadata": {},
   "outputs": [
    {
     "name": "stdout",
     "output_type": "stream",
     "text": [
      "enter area height5\n",
      "enter area of base6\n",
      "15.0\n"
     ]
    }
   ],
   "source": [
    "a=int(input(\"enter area height\"))\n",
    "b=int(input(\"enter area of base\"))\n",
    "area =a*b/2\n",
    "print(area)"
   ]
  },
  {
   "cell_type": "code",
   "execution_count": 7,
   "id": "25696925",
   "metadata": {},
   "outputs": [
    {
     "name": "stdout",
     "output_type": "stream",
     "text": [
      "enter your principal amount1000\n",
      "enter your time of year12\n",
      "enter interest rate1.2\n",
      "144.0\n"
     ]
    }
   ],
   "source": [
    "p=int(input(\"enter your principal amount\"))\n",
    "t=int(input(\"enter your time of year\"))\n",
    "r=float(input(\"enter interest rate\"))\n",
    "interest=(p*t*r)/100\n",
    "print(interest)\n"
   ]
  },
  {
   "cell_type": "code",
   "execution_count": null,
   "id": "2fe3962d",
   "metadata": {},
   "outputs": [],
   "source": []
  }
 ],
 "metadata": {
  "kernelspec": {
   "display_name": "Python 3 (ipykernel)",
   "language": "python",
   "name": "python3"
  },
  "language_info": {
   "codemirror_mode": {
    "name": "ipython",
    "version": 3
   },
   "file_extension": ".py",
   "mimetype": "text/x-python",
   "name": "python",
   "nbconvert_exporter": "python",
   "pygments_lexer": "ipython3",
   "version": "3.9.12"
  }
 },
 "nbformat": 4,
 "nbformat_minor": 5
}
