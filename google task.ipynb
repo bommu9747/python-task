{
 "cells": [
  {
   "cell_type": "markdown",
   "id": "38e92aad",
   "metadata": {},
   "source": [
    "# \"Twinkle, twinkle, little star, How I wonder what you are! Up above the world so high, Like a diamond in the sky. Twinkle, twinkle, little star, How I wonder what you are\" output:"
   ]
  },
  {
   "cell_type": "code",
   "execution_count": 16,
   "id": "d20a42a8",
   "metadata": {},
   "outputs": [
    {
     "name": "stdout",
     "output_type": "stream",
     "text": [
      "Twinkle, twinkle, little star,\n",
      "\tHow I wonder what you are!\n",
      "Up above the world so high,\n",
      "\tLike a diamond in the sky.\n",
      "Twinkle, twinkle, little star, \n",
      "\tHow I wonder what you are\n"
     ]
    }
   ],
   "source": [
    "print(\"Twinkle, twinkle, little star,\\n\\tHow I wonder what you are!\\nUp above the world so high,\\n\\tLike a diamond in the sky.\\nTwinkle, twinkle, little star, \\n\\tHow I wonder what you are\")"
   ]
  },
  {
   "cell_type": "code",
   "execution_count": 17,
   "id": "6315fc7c",
   "metadata": {},
   "outputs": [
    {
     "data": {
      "text/plain": [
       "(1, 2, 3, 4, 5, 6, 7)"
      ]
     },
     "execution_count": 17,
     "metadata": {},
     "output_type": "execute_result"
    }
   ],
   "source": [
    "#ans2\n",
    "t=(1,2,3,4,5,6,7)\n",
    "t"
   ]
  },
  {
   "cell_type": "code",
   "execution_count": 18,
   "id": "5a07b89b",
   "metadata": {},
   "outputs": [
    {
     "data": {
      "text/plain": [
       "[1, 2, 3, 4, 5, 6, 7]"
      ]
     },
     "execution_count": 18,
     "metadata": {},
     "output_type": "execute_result"
    }
   ],
   "source": [
    "li=list(t)\n",
    "li"
   ]
  },
  {
   "cell_type": "code",
   "execution_count": 19,
   "id": "34797363",
   "metadata": {},
   "outputs": [
    {
     "data": {
      "text/plain": [
       "(1, 2, 3, 4, 5, 6, 7)"
      ]
     },
     "execution_count": 19,
     "metadata": {},
     "output_type": "execute_result"
    }
   ],
   "source": [
    "li=tuple(t)\n",
    "li"
   ]
  },
  {
   "cell_type": "code",
   "execution_count": 31,
   "id": "53767705",
   "metadata": {},
   "outputs": [
    {
     "data": {
      "text/plain": [
       "(1, 2, 3, 4, 5, 6, 7)"
      ]
     },
     "execution_count": 31,
     "metadata": {},
     "output_type": "execute_result"
    }
   ],
   "source": [
    "t=tuple(li)\n",
    "t"
   ]
  },
  {
   "cell_type": "code",
   "execution_count": 32,
   "id": "c097d4f3",
   "metadata": {},
   "outputs": [
    {
     "name": "stdout",
     "output_type": "stream",
     "text": [
      "Input some comma seprated numbers : 124456\n",
      "List :  ['124456']\n",
      "Tuple :  ('124456',)\n"
     ]
    }
   ],
   "source": [
    "#ans3\n",
    "values = input(\"Input some comma seprated numbers : \")\n",
    "list = values.split(\",\")\n",
    "tuple = tuple(list)\n",
    "print('List : ',list)\n",
    "print('Tuple : ',tuple)"
   ]
  },
  {
   "cell_type": "code",
   "execution_count": 37,
   "id": "a1dd3cfc",
   "metadata": {},
   "outputs": [
    {
     "name": "stdout",
     "output_type": "stream",
     "text": [
      "4004\n",
      "4011\n",
      "4018\n",
      "4032\n",
      "4039\n",
      "4046\n",
      "4053\n",
      "4067\n",
      "4074\n",
      "4081\n",
      "4088\n",
      "4102\n",
      "4109\n",
      "4116\n",
      "4123\n",
      "4137\n",
      "4144\n",
      "4151\n",
      "4158\n",
      "4172\n",
      "4179\n",
      "4186\n",
      "4193\n",
      "4207\n",
      "4214\n",
      "4221\n",
      "4228\n",
      "4242\n",
      "4249\n",
      "4256\n",
      "4263\n",
      "4277\n",
      "4284\n",
      "4291\n",
      "4298\n",
      "4312\n",
      "4319\n",
      "4326\n",
      "4333\n",
      "4347\n",
      "4354\n",
      "4361\n",
      "4368\n",
      "4382\n",
      "4389\n",
      "4396\n",
      "4403\n",
      "4417\n",
      "4424\n",
      "4431\n",
      "4438\n",
      "4452\n",
      "4459\n",
      "4466\n",
      "4473\n",
      "4487\n",
      "4494\n",
      "4501\n",
      "4508\n",
      "4522\n",
      "4529\n",
      "4536\n",
      "4543\n",
      "4557\n",
      "4564\n",
      "4571\n",
      "4578\n",
      "4592\n",
      "4599\n",
      "4606\n",
      "4613\n",
      "4627\n",
      "4634\n",
      "4641\n",
      "4648\n",
      "4662\n",
      "4669\n",
      "4676\n",
      "4683\n",
      "4697\n",
      "4704\n",
      "4711\n",
      "4718\n",
      "4732\n",
      "4739\n",
      "4746\n",
      "4753\n",
      "4767\n",
      "4774\n",
      "4781\n",
      "4788\n",
      "4802\n",
      "4809\n",
      "4816\n",
      "4823\n",
      "4837\n",
      "4844\n",
      "4851\n",
      "4858\n",
      "4872\n",
      "4879\n",
      "4886\n",
      "4893\n",
      "4907\n",
      "4914\n",
      "4921\n",
      "4928\n",
      "4942\n",
      "4949\n",
      "4956\n",
      "4963\n",
      "4977\n",
      "4984\n",
      "4991\n",
      "4998\n",
      "5012\n",
      "5019\n",
      "5026\n",
      "5033\n",
      "5047\n",
      "5054\n",
      "5061\n",
      "5068\n",
      "5082\n",
      "5089\n",
      "5096\n",
      "5103\n",
      "5117\n",
      "5124\n",
      "5131\n",
      "5138\n",
      "5152\n",
      "5159\n",
      "5166\n",
      "5173\n",
      "5187\n",
      "5194\n"
     ]
    }
   ],
   "source": [
    "#ans4\n",
    "for i in range(4000,5200):\n",
    "    if i%7==0 and i%5!=0:\n",
    "        print(i)"
   ]
  },
  {
   "cell_type": "code",
   "execution_count": 38,
   "id": "1082a421",
   "metadata": {},
   "outputs": [
    {
     "data": {
      "text/plain": [
       "{'rose'}"
      ]
     },
     "execution_count": 38,
     "metadata": {},
     "output_type": "execute_result"
    }
   ],
   "source": [
    "#ans5\n",
    "clr1={\"rose\",\"red\",\"white\",\"black\"}\n",
    "clr2={\"black\",\"red\",\"white\",\"green\"}\n",
    "clr1.difference(clr2)"
   ]
  },
  {
   "cell_type": "code",
   "execution_count": 39,
   "id": "c7e4acbf",
   "metadata": {},
   "outputs": [
    {
     "data": {
      "text/plain": [
       "'helooo'"
      ]
     },
     "execution_count": 39,
     "metadata": {},
     "output_type": "execute_result"
    }
   ],
   "source": [
    "#ans6\n",
    "a=\"helooo\"\n",
    "a"
   ]
  },
  {
   "cell_type": "code",
   "execution_count": 41,
   "id": "4bb8fe45",
   "metadata": {},
   "outputs": [
    {
     "name": "stdout",
     "output_type": "stream",
     "text": [
      "<class 'str'>\n"
     ]
    }
   ],
   "source": [
    "print(type(a))"
   ]
  },
  {
   "cell_type": "code",
   "execution_count": 42,
   "id": "715cf5ec",
   "metadata": {},
   "outputs": [
    {
     "data": {
      "text/plain": [
       "6"
      ]
     },
     "execution_count": 42,
     "metadata": {},
     "output_type": "execute_result"
    }
   ],
   "source": [
    "#ans7\n",
    "len(a)"
   ]
  },
  {
   "cell_type": "code",
   "execution_count": 43,
   "id": "07f9bdf7",
   "metadata": {},
   "outputs": [
    {
     "data": {
      "text/plain": [
       "'pthon'"
      ]
     },
     "execution_count": 43,
     "metadata": {},
     "output_type": "execute_result"
    }
   ],
   "source": [
    "d=\"pthon\"\n",
    "values.split(d)\n",
    "d"
   ]
  },
  {
   "cell_type": "code",
   "execution_count": 47,
   "id": "56fd4095",
   "metadata": {},
   "outputs": [
    {
     "data": {
      "text/plain": [
       "['helo', 'evetyy']"
      ]
     },
     "execution_count": 47,
     "metadata": {},
     "output_type": "execute_result"
    }
   ],
   "source": [
    "#ans8\n",
    "b=\"helo evetyy\"\n",
    "b.split()"
   ]
  },
  {
   "cell_type": "code",
   "execution_count": 48,
   "id": "528d21d3",
   "metadata": {},
   "outputs": [
    {
     "data": {
      "text/plain": [
       "['Red', 'Green', 'White', 'Black']"
      ]
     },
     "execution_count": 48,
     "metadata": {},
     "output_type": "execute_result"
    }
   ],
   "source": [
    "#ans9\n",
    "color_list = [\"Red\",\"Green\",\"White\" ,\"Black\"]\n",
    "color_list"
   ]
  },
  {
   "cell_type": "code",
   "execution_count": 50,
   "id": "c8436af9",
   "metadata": {},
   "outputs": [
    {
     "data": {
      "text/plain": [
       "'Black'"
      ]
     },
     "execution_count": 50,
     "metadata": {},
     "output_type": "execute_result"
    }
   ],
   "source": [
    "color_list[3]"
   ]
  },
  {
   "cell_type": "code",
   "execution_count": 54,
   "id": "6d5b7b8a",
   "metadata": {},
   "outputs": [
    {
     "name": "stdout",
     "output_type": "stream",
     "text": [
      "date of the day: 21 / 10 / 20222\n"
     ]
    }
   ],
   "source": [
    "#anss10.5\n",
    "date=(21,10,20222)\n",
    "print(\"date of the day: %i / %i / %i\"%date)"
   ]
  },
  {
   "cell_type": "code",
   "execution_count": 51,
   "id": "38c9721e",
   "metadata": {},
   "outputs": [
    {
     "name": "stdout",
     "output_type": "stream",
     "text": [
      "The examination will start from : 11 / 12 / 2014\n"
     ]
    }
   ],
   "source": [
    "#ans10\n",
    "exam_st_date = (11,12,2014)\n",
    "print( \"The examination will start from : %i / %i / %i\"%exam_st_date)\n"
   ]
  },
  {
   "cell_type": "code",
   "execution_count": 57,
   "id": "2371005d",
   "metadata": {},
   "outputs": [
    {
     "name": "stdout",
     "output_type": "stream",
     "text": [
      "True\n",
      "False\n",
      "False\n",
      "False\n"
     ]
    }
   ],
   "source": [
    "#ans11\n",
    "def near_thousand(n):\n",
    "    return(abs(1000-n) <=100) or(abs(2000-n)<=100)\n",
    "print(near_thousand(1000))\n",
    "print(near_thousand(9000))\n",
    "print(near_thousand(8000))\n",
    "print(near_thousand(2200))\n"
   ]
  },
  {
   "cell_type": "code",
   "execution_count": 58,
   "id": "f97f9a5d",
   "metadata": {},
   "outputs": [
    {
     "name": "stdout",
     "output_type": "stream",
     "text": [
      "True\n",
      "True\n",
      "False\n",
      "False\n"
     ]
    }
   ],
   "source": [
    "def near_thousand(n):\n",
    "      return ((abs(1000 - n) <= 100) or (abs(2000 - n) <= 100))\n",
    "print(near_thousand(1000))\n",
    "print(near_thousand(900))\n",
    "print(near_thousand(800))   \n",
    "print(near_thousand(2200))"
   ]
  },
  {
   "cell_type": "code",
   "execution_count": 59,
   "id": "84c8fe8a",
   "metadata": {},
   "outputs": [
    {
     "name": "stdout",
     "output_type": "stream",
     "text": [
      "12722.79\n"
     ]
    }
   ],
   "source": [
    "#ans12\n",
    "amt = 10000\n",
    "int = 3.5\n",
    "years = 7\n",
    "future_value = amt*((1+(0.01*int)) ** years)\n",
    "print(round(future_value,2))"
   ]
  },
  {
   "cell_type": "code",
   "execution_count": 63,
   "id": "2ea0094b",
   "metadata": {},
   "outputs": [
    {
     "name": "stdout",
     "output_type": "stream",
     "text": [
      "2544.56\n"
     ]
    }
   ],
   "source": [
    "amt=2000\n",
    "int=3.5\n",
    "years=7\n",
    "future_value=amt*((1+(0.01*int)) ** years)\n",
    "print(round(future_value,2))\n"
   ]
  },
  {
   "cell_type": "code",
   "execution_count": 73,
   "id": "64d62c93",
   "metadata": {},
   "outputs": [],
   "source": [
    "#ans13\n"
   ]
  },
  {
   "cell_type": "code",
   "execution_count": 70,
   "id": "f107e759",
   "metadata": {},
   "outputs": [
    {
     "name": "stdout",
     "output_type": "stream",
     "text": [
      "Original numbers in the list:  [34, 1, 0, -23, 12, -88]\n"
     ]
    }
   ],
   "source": [
    "#ans14\n",
    "nums = [34, 1, 0, -23, 12, -88]\n",
    "print(\"Original numbers in the list: \",nums)\n"
   ]
  },
  {
   "cell_type": "code",
   "execution_count": 76,
   "id": "96ae31da",
   "metadata": {},
   "outputs": [
    {
     "name": "stdout",
     "output_type": "stream",
     "text": [
      "34\n",
      "12\n"
     ]
    }
   ],
   "source": [
    "#ans15\n",
    "Write a Python program to get the difference between a given number and 17, if the number is greater than 17 \n",
    "return double the absolute difference. \n",
    "\n",
    "def difference(n):\n",
    "    if n<=17:\n",
    "        return 17-n\n",
    "    else:\n",
    "        return(n-17)*2\n",
    "print(difference(34))\n",
    "print(difference(23))"
   ]
  },
  {
   "cell_type": "code",
   "execution_count": 75,
   "id": "a7517154",
   "metadata": {},
   "outputs": [
    {
     "name": "stdout",
     "output_type": "stream",
     "text": [
      "10\n",
      "3\n"
     ]
    }
   ],
   "source": [
    "def difference(n):\n",
    "    if n <= 17:\n",
    "        return 17 - n\n",
    "    else:\n",
    "        return (n - 17) * 2 \n",
    "\n",
    "print(difference(22))\n",
    "print(difference(14))"
   ]
  },
  {
   "cell_type": "code",
   "execution_count": 79,
   "id": "3563b30a",
   "metadata": {},
   "outputs": [
    {
     "data": {
      "text/plain": [
       "27"
      ]
     },
     "execution_count": 79,
     "metadata": {},
     "output_type": "execute_result"
    }
   ],
   "source": [
    "#ans16\n",
    "Write a Python program to calculate the sum of three given numbers, \n",
    "if the values are equal then return three times of their sum\n",
    "\n",
    "def sum(x,y,z):\n",
    "    sum=x+y+z\n",
    "    if x==y==z:\n",
    "        sum=sum*3\n",
    "    return sum\n",
    "sum(1,2,3)\n",
    "sum(3,3,3)"
   ]
  },
  {
   "cell_type": "code",
   "execution_count": 86,
   "id": "4636ac75",
   "metadata": {},
   "outputs": [
    {
     "name": "stdout",
     "output_type": "stream",
     "text": [
      "6\n",
      "27\n"
     ]
    }
   ],
   "source": [
    "def sum_thrice(x, y, z):\n",
    "\n",
    "     sum = x + y + z\n",
    "  \n",
    "     if x == y == z:\n",
    "      sum = sum * 3\n",
    "     return sum\n",
    "\n",
    "print(sum_thrice(1, 2, 3))\n",
    "print(sum_thrice(3, 3, 3))"
   ]
  },
  {
   "cell_type": "code",
   "execution_count": 89,
   "id": "4d59d855",
   "metadata": {},
   "outputs": [
    {
     "data": {
      "text/plain": [
       "5"
      ]
     },
     "execution_count": 89,
     "metadata": {},
     "output_type": "execute_result"
    }
   ],
   "source": [
    "#ans17\n",
    " #Write a Python program to sum of three given integers. However, if two values are equal sum will be zero\n",
    "def sum(a,b,c):\n",
    "    if a==b:\n",
    "        s=0\n",
    "    else:\n",
    "        s=a+b\n",
    "    return s\n",
    "\n",
    "sum(2,3,4)\n"
   ]
  },
  {
   "cell_type": "code",
   "execution_count": 91,
   "id": "e4f9468d",
   "metadata": {},
   "outputs": [
    {
     "data": {
      "text/plain": [
       "20"
      ]
     },
     "execution_count": 91,
     "metadata": {},
     "output_type": "execute_result"
    }
   ],
   "source": [
    "#ans18\n",
    "def sum(x,y,z):\n",
    "    s=x+y\n",
    "    for s in range(15,20):\n",
    "        return 20\n",
    "    else:\n",
    "        return s\n",
    "sum(2,3,4)"
   ]
  },
  {
   "cell_type": "code",
   "execution_count": 3,
   "id": "a2bee98d",
   "metadata": {},
   "outputs": [
    {
     "ename": "NameError",
     "evalue": "name 'false' is not defined",
     "output_type": "error",
     "traceback": [
      "\u001b[1;31m---------------------------------------------------------------------------\u001b[0m",
      "\u001b[1;31mNameError\u001b[0m                                 Traceback (most recent call last)",
      "Input \u001b[1;32mIn [3]\u001b[0m, in \u001b[0;36m<cell line: 7>\u001b[1;34m()\u001b[0m\n\u001b[0;32m      5\u001b[0m     \u001b[38;5;28;01melse\u001b[39;00m:\n\u001b[0;32m      6\u001b[0m         \u001b[38;5;28;01mreturn\u001b[39;00m false\n\u001b[1;32m----> 7\u001b[0m \u001b[43mrrr\u001b[49m\u001b[43m(\u001b[49m\u001b[38;5;241;43m6\u001b[39;49m\u001b[43m,\u001b[49m\u001b[38;5;241;43m4\u001b[39;49m\u001b[43m)\u001b[49m\n",
      "Input \u001b[1;32mIn [3]\u001b[0m, in \u001b[0;36mrrr\u001b[1;34m(x, y)\u001b[0m\n\u001b[0;32m      4\u001b[0m     \u001b[38;5;28;01mreturn\u001b[39;00m true\n\u001b[0;32m      5\u001b[0m \u001b[38;5;28;01melse\u001b[39;00m:\n\u001b[1;32m----> 6\u001b[0m     \u001b[38;5;28;01mreturn\u001b[39;00m \u001b[43mfalse\u001b[49m\n",
      "\u001b[1;31mNameError\u001b[0m: name 'false' is not defined"
     ]
    }
   ],
   "source": [
    "#ans19\n",
    "def rrr(x,y):\n",
    "    if x==y:\n",
    "        return true\n",
    "    else:\n",
    "        return false\n",
    "rrr(6,4)\n"
   ]
  },
  {
   "cell_type": "code",
   "execution_count": 95,
   "id": "d3924b5a",
   "metadata": {},
   "outputs": [
    {
     "name": "stdout",
     "output_type": "stream",
     "text": [
      "True\n",
      "True\n",
      "True\n",
      "False\n",
      "False\n"
     ]
    }
   ],
   "source": [
    "#ans19\n",
    "def test_number5(x, y):\n",
    "   if x == y or abs(x-y) == 5 or (x+y) == 5:\n",
    "       return True\n",
    "   else:\n",
    "       return False\n",
    "print(test_number5(7, 2))\n",
    "print(test_number5(3, 2))\n",
    "print(test_number5(2, 2))\n",
    "print(test_number5(7, 3))\n",
    "print(test_number5(27, 53))\n"
   ]
  },
  {
   "cell_type": "code",
   "execution_count": 1,
   "id": "c2bffb83",
   "metadata": {},
   "outputs": [
    {
     "name": "stdout",
     "output_type": "stream",
     "text": [
      "Input a four digit numbers: 1\n",
      "The sum of digits in the number is 1\n"
     ]
    }
   ],
   "source": [
    "#ans20\n",
    "num = int(input(\"Input a four digit numbers: \"))\n",
    "x  = num //1000\n",
    "x1 = (num - x*1000)//100\n",
    "x2 = (num - x*1000 - x1*100)//10\n",
    "x3 = num - x*1000 - x1*100 - x2*10\n",
    "print(\"The sum of digits in the number is\", x+x1+x2+x3)"
   ]
  },
  {
   "cell_type": "code",
   "execution_count": null,
   "id": "fa307044",
   "metadata": {},
   "outputs": [],
   "source": []
  }
 ],
 "metadata": {
  "kernelspec": {
   "display_name": "Python 3 (ipykernel)",
   "language": "python",
   "name": "python3"
  },
  "language_info": {
   "codemirror_mode": {
    "name": "ipython",
    "version": 3
   },
   "file_extension": ".py",
   "mimetype": "text/x-python",
   "name": "python",
   "nbconvert_exporter": "python",
   "pygments_lexer": "ipython3",
   "version": "3.9.12"
  }
 },
 "nbformat": 4,
 "nbformat_minor": 5
}
