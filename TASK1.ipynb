{
 "cells": [
  {
   "cell_type": "code",
   "execution_count": null,
   "id": "657a1c99",
   "metadata": {},
   "outputs": [],
   "source": [
    "#TUPLE"
   ]
  },
  {
   "cell_type": "code",
   "execution_count": null,
   "id": "d43c2c9e",
   "metadata": {},
   "outputs": [],
   "source": [
    "#ANS 1\n",
    "t=(1,2,3,4,5)\n",
    "t"
   ]
  },
  {
   "cell_type": "code",
   "execution_count": null,
   "id": "2e41b466",
   "metadata": {},
   "outputs": [],
   "source": [
    "#ANS2\n",
    "\n",
    "t=(1,2,3,4,'a','b','c')\n",
    "t"
   ]
  },
  {
   "cell_type": "code",
   "execution_count": null,
   "id": "7cf78f6e",
   "metadata": {},
   "outputs": [],
   "source": [
    "#ANS3\n",
    "\n",
    "t=(1,2,3,4,5)\n",
    "t[1]"
   ]
  },
  {
   "cell_type": "code",
   "execution_count": null,
   "id": "4d4661e7",
   "metadata": {},
   "outputs": [],
   "source": [
    "#ANS4\n",
    "\n",
    "t6=(8,9,10)\n",
    "t6"
   ]
  },
  {
   "cell_type": "code",
   "execution_count": null,
   "id": "1b0de5b9",
   "metadata": {},
   "outputs": [],
   "source": [
    "a,b,c=t6\n",
    "a,b,c"
   ]
  },
  {
   "cell_type": "code",
   "execution_count": null,
   "id": "5a0557e4",
   "metadata": {},
   "outputs": [],
   "source": [
    "a"
   ]
  },
  {
   "cell_type": "code",
   "execution_count": null,
   "id": "cee1e0d3",
   "metadata": {},
   "outputs": [],
   "source": [
    "b"
   ]
  },
  {
   "cell_type": "code",
   "execution_count": null,
   "id": "9d525ca4",
   "metadata": {},
   "outputs": [],
   "source": [
    "c"
   ]
  },
  {
   "cell_type": "code",
   "execution_count": null,
   "id": "bbb2a0ca",
   "metadata": {},
   "outputs": [],
   "source": [
    "#ANS 5\n",
    "a=(1,2,3)\n",
    "print(a)"
   ]
  },
  {
   "cell_type": "code",
   "execution_count": null,
   "id": "49ffbf62",
   "metadata": {},
   "outputs": [],
   "source": []
  },
  {
   "cell_type": "code",
   "execution_count": null,
   "id": "0185051f",
   "metadata": {},
   "outputs": [],
   "source": [
    "#ANS6\n",
    "\n",
    "mytuple=\"how are you\"\n",
    "mytuple"
   ]
  },
  {
   "cell_type": "code",
   "execution_count": null,
   "id": "12c640c6",
   "metadata": {},
   "outputs": [],
   "source": []
  },
  {
   "cell_type": "code",
   "execution_count": null,
   "id": "24d25677",
   "metadata": {},
   "outputs": [],
   "source": [
    "x=str(mytuple)\n",
    "x"
   ]
  },
  {
   "cell_type": "code",
   "execution_count": null,
   "id": "63cd8d7d",
   "metadata": {},
   "outputs": [],
   "source": [
    "x"
   ]
  },
  {
   "cell_type": "code",
   "execution_count": null,
   "id": "e43b88d7",
   "metadata": {},
   "outputs": [],
   "source": [
    "#ANS7\n",
    "\n",
    "mytuple1=(22,55,88)\n",
    "mytuple1"
   ]
  },
  {
   "cell_type": "code",
   "execution_count": null,
   "id": "a8bc40e1",
   "metadata": {},
   "outputs": [],
   "source": [
    "y=list(mytuple1)\n",
    "y"
   ]
  },
  {
   "cell_type": "code",
   "execution_count": null,
   "id": "5f2f5975",
   "metadata": {},
   "outputs": [],
   "source": [
    "#ANS8\n",
    "t=(3,5,6,8)\n",
    "t"
   ]
  },
  {
   "cell_type": "code",
   "execution_count": null,
   "id": "ba6e195b",
   "metadata": {},
   "outputs": [],
   "source": [
    "len(t)"
   ]
  },
  {
   "cell_type": "code",
   "execution_count": null,
   "id": "1580d8ca",
   "metadata": {},
   "outputs": [],
   "source": [
    "#ANS9\n",
    "\n",
    "Z=(4,8,12,16)\n",
    "S=Z[::-1]\n",
    "S"
   ]
  },
  {
   "cell_type": "code",
   "execution_count": null,
   "id": "ef206d2a",
   "metadata": {},
   "outputs": [],
   "source": [
    "#STRING"
   ]
  },
  {
   "cell_type": "code",
   "execution_count": null,
   "id": "45648d0a",
   "metadata": {},
   "outputs": [],
   "source": [
    "#ANS1\n",
    "a=\"where are you\"\n",
    "print(len(a))"
   ]
  },
  {
   "cell_type": "code",
   "execution_count": null,
   "id": "0768754f",
   "metadata": {},
   "outputs": [],
   "source": [
    "#ANS2\n",
    "b=\"how are you\"\n",
    "c=\"o\"\n",
    "b.count(c)\n"
   ]
  },
  {
   "cell_type": "code",
   "execution_count": null,
   "id": "ccc9631b",
   "metadata": {},
   "outputs": [],
   "source": [
    "#ANS3\n",
    "a=\"python\"\n",
    "a.upper()"
   ]
  },
  {
   "cell_type": "code",
   "execution_count": null,
   "id": "c432aaf4",
   "metadata": {},
   "outputs": [],
   "source": [
    "a=\"PYTHON\"\n",
    "a.lower()"
   ]
  },
  {
   "cell_type": "code",
   "execution_count": null,
   "id": "303fda20",
   "metadata": {},
   "outputs": [],
   "source": [
    "#LIST"
   ]
  },
  {
   "cell_type": "code",
   "execution_count": null,
   "id": "b606befd",
   "metadata": {},
   "outputs": [],
   "source": [
    "#ANS1\n",
    "li=[1,2,3]\n",
    "li"
   ]
  },
  {
   "cell_type": "code",
   "execution_count": null,
   "id": "d766a579",
   "metadata": {},
   "outputs": [],
   "source": [
    "a=len(li)\n",
    "if a>0:\n",
    "    print(\"list is not empty\")\n",
    "    else:\n",
    "        print(\"list is empty\")"
   ]
  },
  {
   "cell_type": "code",
   "execution_count": null,
   "id": "32a794f6",
   "metadata": {},
   "outputs": [],
   "source": [
    "#ANS2\n",
    "x=[1,2,3,4,5,6]\n",
    "x\n",
    "max(x)"
   ]
  },
  {
   "cell_type": "code",
   "execution_count": null,
   "id": "10caa7dc",
   "metadata": {},
   "outputs": [],
   "source": [
    "#ANS3\n",
    "x=[1,2,3,4,5,6]\n",
    "x\n",
    "min(x)"
   ]
  },
  {
   "cell_type": "code",
   "execution_count": null,
   "id": "bf04cef6",
   "metadata": {},
   "outputs": [],
   "source": [
    "#ANS4\n",
    "x=[]\n",
    "x"
   ]
  },
  {
   "cell_type": "code",
   "execution_count": null,
   "id": "ca6ec07e",
   "metadata": {},
   "outputs": [],
   "source": [
    "#ANS5\n",
    "X1=[1,2,3,4,5]\n",
    "X1"
   ]
  },
  {
   "cell_type": "code",
   "execution_count": null,
   "id": "6242ce69",
   "metadata": {},
   "outputs": [],
   "source": [
    "X2=[]\n",
    "X2"
   ]
  },
  {
   "cell_type": "code",
   "execution_count": null,
   "id": "ba179eb8",
   "metadata": {},
   "outputs": [],
   "source": [
    "X2=X1\n",
    "X2"
   ]
  },
  {
   "cell_type": "code",
   "execution_count": null,
   "id": "e39d4288",
   "metadata": {},
   "outputs": [],
   "source": [
    "#ANS6\n",
    "a2=['a','b','c','d']\n",
    "a2\n"
   ]
  },
  {
   "cell_type": "code",
   "execution_count": null,
   "id": "7deeefa3",
   "metadata": {},
   "outputs": [],
   "source": [
    "a2.index('b')"
   ]
  },
  {
   "cell_type": "code",
   "execution_count": null,
   "id": "69e7f624",
   "metadata": {},
   "outputs": [],
   "source": [
    "#ANS7\n",
    "mark=[90,80,70,60]\n",
    "mark"
   ]
  },
  {
   "cell_type": "code",
   "execution_count": null,
   "id": "99e43be5",
   "metadata": {},
   "outputs": [],
   "source": [
    "mark.append(50)\n",
    "mark"
   ]
  },
  {
   "cell_type": "code",
   "execution_count": null,
   "id": "7daa23fc",
   "metadata": {},
   "outputs": [],
   "source": [
    "#ANS 11\n",
    "t1=[3,4,6,7,8]\n",
    "t2=[2,3,7,8,9,10]\n",
    "t3=t1+t2\n",
    "t3"
   ]
  },
  {
   "cell_type": "code",
   "execution_count": null,
   "id": "fd7368c3",
   "metadata": {},
   "outputs": [],
   "source": []
  },
  {
   "cell_type": "code",
   "execution_count": null,
   "id": "d10dd846",
   "metadata": {},
   "outputs": [],
   "source": [
    "#SUM \n",
    "li=[1,2,3]\n",
    "a=len(li)\n",
    "if a>0:\n",
    "    print(\"list is empty\")\n",
    "else:\n",
    "    print(\"list is empty\")\n"
   ]
  },
  {
   "cell_type": "code",
   "execution_count": null,
   "id": "37570e13",
   "metadata": {},
   "outputs": [],
   "source": [
    "a=5\n",
    "if a>0:"
   ]
  },
  {
   "cell_type": "code",
   "execution_count": null,
   "id": "d4096332",
   "metadata": {},
   "outputs": [],
   "source": [
    "#dictionary\n",
    "#ANS 1\n",
    "x=set([1,2,3,4,5,6])\n",
    "x\n"
   ]
  },
  {
   "cell_type": "code",
   "execution_count": null,
   "id": "56f015fd",
   "metadata": {},
   "outputs": [],
   "source": [
    "#ANS 2\n",
    "w=set([1,2,3])\n",
    "w"
   ]
  },
  {
   "cell_type": "code",
   "execution_count": null,
   "id": "0d5d55f2",
   "metadata": {},
   "outputs": [],
   "source": [
    "for i in w:\n",
    "    print(\"yes\")"
   ]
  },
  {
   "cell_type": "code",
   "execution_count": null,
   "id": "537cd2e1",
   "metadata": {},
   "outputs": [],
   "source": [
    "#ANS 3\n",
    "y=set([\"a\",\"b\",\"c\",\"d\"])\n",
    "y"
   ]
  },
  {
   "cell_type": "code",
   "execution_count": null,
   "id": "20c07b66",
   "metadata": {},
   "outputs": [],
   "source": [
    "y.add(\"e\")\n",
    "y"
   ]
  },
  {
   "cell_type": "code",
   "execution_count": null,
   "id": "1d1fcbd6",
   "metadata": {},
   "outputs": [],
   "source": [
    "#ANS 4\n",
    "e=set([10,20,30,40])\n",
    "e\n"
   ]
  },
  {
   "cell_type": "code",
   "execution_count": null,
   "id": "1f8709f4",
   "metadata": {},
   "outputs": [],
   "source": [
    "e.remove(40)\n",
    "e"
   ]
  },
  {
   "cell_type": "code",
   "execution_count": null,
   "id": "7ea5b14b",
   "metadata": {},
   "outputs": [],
   "source": [
    "#ANS 5\n",
    "a={1,2,3,4,5,6,7,8}\n",
    "b={6,7,8,9,10,11,12}\n",
    "a.union(b)\n",
    "a,b"
   ]
  },
  {
   "cell_type": "code",
   "execution_count": null,
   "id": "92674409",
   "metadata": {},
   "outputs": [],
   "source": [
    "b.union(a)\n",
    "b"
   ]
  },
  {
   "cell_type": "code",
   "execution_count": null,
   "id": "75344527",
   "metadata": {},
   "outputs": [],
   "source": [
    "a1={2,3,4,5}\n",
    "b1={2,5,7,8}\n",
    "a1.intersection(b1)\n",
    "print(a1)\n",
    "a1,b1"
   ]
  },
  {
   "cell_type": "code",
   "execution_count": null,
   "id": "b349f5d0",
   "metadata": {},
   "outputs": [],
   "source": [
    "b1.intersection(a1)\n",
    "print(b1)"
   ]
  },
  {
   "cell_type": "code",
   "execution_count": null,
   "id": "fc5fabb9",
   "metadata": {},
   "outputs": [],
   "source": [
    "a1.difference(b1)\n",
    "print(a1)"
   ]
  },
  {
   "cell_type": "code",
   "execution_count": null,
   "id": "aa15aefd",
   "metadata": {},
   "outputs": [],
   "source": [
    "b1.difference(a1)\n",
    "print(b1)"
   ]
  },
  {
   "cell_type": "code",
   "execution_count": null,
   "id": "29d71fd4",
   "metadata": {},
   "outputs": [],
   "source": [
    "#ANS6\n",
    "a={1,2,3,4,5,7,8}\n",
    "b={2,4,6,8}\n",
    "print(a,b)"
   ]
  },
  {
   "cell_type": "code",
   "execution_count": null,
   "id": "ad0efc0c",
   "metadata": {},
   "outputs": [],
   "source": [
    "a.issuperset(b)\n",
    "b"
   ]
  },
  {
   "cell_type": "code",
   "execution_count": null,
   "id": "e6eccd51",
   "metadata": {},
   "outputs": [],
   "source": [
    "a.issubset(b)\n",
    "a"
   ]
  },
  {
   "cell_type": "code",
   "execution_count": null,
   "id": "25d4668c",
   "metadata": {},
   "outputs": [],
   "source": [
    "b.issuperset(a)\n",
    "b"
   ]
  },
  {
   "cell_type": "code",
   "execution_count": null,
   "id": "b30916b5",
   "metadata": {},
   "outputs": [],
   "source": [
    "b.issubset(a)\n",
    "b"
   ]
  },
  {
   "cell_type": "code",
   "execution_count": null,
   "id": "7742617a",
   "metadata": {},
   "outputs": [],
   "source": []
  },
  {
   "cell_type": "code",
   "execution_count": null,
   "id": "9ded495b",
   "metadata": {},
   "outputs": [],
   "source": [
    "#ANS 7\n",
    "S1=set([5,10,15,20])\n",
    "S\n",
    "S2=S1\n",
    "S2"
   ]
  },
  {
   "cell_type": "code",
   "execution_count": null,
   "id": "7fd79dbf",
   "metadata": {},
   "outputs": [],
   "source": [
    "S2"
   ]
  },
  {
   "cell_type": "code",
   "execution_count": null,
   "id": "568270ac",
   "metadata": {},
   "outputs": [],
   "source": [
    "S2=S1.copy()\n",
    "S2"
   ]
  },
  {
   "cell_type": "code",
   "execution_count": null,
   "id": "f6ff7bfd",
   "metadata": {},
   "outputs": [],
   "source": [
    "#ANS 8\n",
    "S7=set([1,2,3,4,5])\n",
    "S7\n"
   ]
  },
  {
   "cell_type": "code",
   "execution_count": null,
   "id": "ae6d9b65",
   "metadata": {},
   "outputs": [],
   "source": [
    "del S7\n",
    "S7"
   ]
  },
  {
   "cell_type": "code",
   "execution_count": null,
   "id": "42ae7110",
   "metadata": {},
   "outputs": [],
   "source": [
    "#ANS 9\n",
    "a=set([9,8,7,6])\n",
    "a\n"
   ]
  },
  {
   "cell_type": "code",
   "execution_count": null,
   "id": "fccbc93b",
   "metadata": {},
   "outputs": [],
   "source": [
    "len(a)\n"
   ]
  },
  {
   "cell_type": "code",
   "execution_count": null,
   "id": "dd66f658",
   "metadata": {},
   "outputs": [],
   "source": [
    "#ANS10\n",
    "a={2,3,4,5,6}\n",
    "b={1,2,3,5,6,7,8,9}\n",
    "a,b"
   ]
  },
  {
   "cell_type": "code",
   "execution_count": null,
   "id": "91127df4",
   "metadata": {},
   "outputs": [],
   "source": [
    "a.difference(b)\n",
    "a"
   ]
  },
  {
   "cell_type": "code",
   "execution_count": null,
   "id": "13cb43ba",
   "metadata": {},
   "outputs": [],
   "source": [
    "#ANS11\n",
    "xyz={1:1,2:3,4:4}\n",
    "xyz"
   ]
  },
  {
   "cell_type": "code",
   "execution_count": null,
   "id": "33b6220b",
   "metadata": {},
   "outputs": [],
   "source": [
    "#ANS 12\n",
    "abc={\"name\":\"bommu\",\"age\":20,\"place\":\"kzkd\"}\n",
    "abc\n"
   ]
  },
  {
   "cell_type": "code",
   "execution_count": null,
   "id": "058594fe",
   "metadata": {},
   "outputs": [],
   "source": [
    "#ANS13\n",
    "dic={1:2,2:3,3:4,4:5}\n",
    "dic"
   ]
  },
  {
   "cell_type": "code",
   "execution_count": null,
   "id": "d3cb6933",
   "metadata": {},
   "outputs": [],
   "source": [
    "a=dic.values()\n",
    "a"
   ]
  },
  {
   "cell_type": "code",
   "execution_count": null,
   "id": "13f3f4f8",
   "metadata": {},
   "outputs": [],
   "source": [
    "a=dic.keys()\n",
    "a"
   ]
  },
  {
   "cell_type": "code",
   "execution_count": null,
   "id": "369f19c1",
   "metadata": {},
   "outputs": [],
   "source": [
    "s=0\n",
    "for i in a:\n",
    "    s=s+i\n",
    "    print(s)\n",
    "\n"
   ]
  },
  {
   "cell_type": "code",
   "execution_count": null,
   "id": "bdabc37c",
   "metadata": {},
   "outputs": [],
   "source": [
    "#ANS 14\n",
    "a,b"
   ]
  },
  {
   "cell_type": "code",
   "execution_count": null,
   "id": "310adc1d",
   "metadata": {},
   "outputs": [],
   "source": [
    "s=1\n",
    "for i in a:\n",
    "    s=s+i\n",
    "    print(s)"
   ]
  },
  {
   "cell_type": "code",
   "execution_count": null,
   "id": "31900062",
   "metadata": {},
   "outputs": [],
   "source": [
    "#ANS15\n",
    "abc"
   ]
  },
  {
   "cell_type": "code",
   "execution_count": null,
   "id": "a8406e45",
   "metadata": {},
   "outputs": [],
   "source": [
    "del abc\n",
    "abc"
   ]
  },
  {
   "cell_type": "code",
   "execution_count": null,
   "id": "dbbcaed2",
   "metadata": {},
   "outputs": [],
   "source": [
    "#LIST\n",
    "#ANS1\n",
    "A=10\n",
    "B=20\n",
    "C=5\n",
    "if A>B and A>C:\n",
    "    print(\"a is graterthan\")\n",
    "elif B>A and B>C:\n",
    "    print(\"b is large\")\n",
    "else:\n",
    "    print(\"c is small\")"
   ]
  },
  {
   "cell_type": "code",
   "execution_count": null,
   "id": "225e02af",
   "metadata": {},
   "outputs": [],
   "source": [
    "#ANS 2\n",
    "A=10\n",
    "B=20\n",
    "print(A,B)"
   ]
  },
  {
   "cell_type": "code",
   "execution_count": null,
   "id": "b49130cd",
   "metadata": {},
   "outputs": [],
   "source": [
    "#ANS 4\n",
    "A=10\n",
    "if A%2==0 :\n",
    "    print(\"its is even\")\n",
    "else:\n",
    "    print(\"it is odd number\")\n"
   ]
  },
  {
   "cell_type": "code",
   "execution_count": null,
   "id": "d17c8f83",
   "metadata": {},
   "outputs": [],
   "source": [
    "#ANS5\n",
    "a1=int(input(\"enter your mark of subject\"))\n",
    "s1=int(input(\"enter your mark of subject\"))\n",
    "p1=int(input(\"enter your mark of subject\"))\n",
    "r1=int(input(\"enter your mark of subject\"))\n",
    "e1=int(input(\"enter your mark of subject\"))\n",
    "avg=(a1+s1+p1+r1+e1)/5\n",
    "avg\n",
    "print(avg)\n",
    "if avg>=90 and avg<100:\n",
    "    print(\"a grade\")\n",
    "elif avg>=80 and avg<89:\n",
    "    print(\"b is grade\")\n",
    "elif avg>=70 and avg<79:  \n",
    "    print(\"c grade\")\n",
    "elif avg>=60 and avg<69:\n",
    "    print(\" d grade\")\n"
   ]
  },
  {
   "cell_type": "code",
   "execution_count": null,
   "id": "0f957309",
   "metadata": {},
   "outputs": [],
   "source": [
    "a=int(input(\"enter your amount\"))\n",
    "if a>2500:\n",
    "    print(\"you have 2% discound\")\n",
    "    b=a*2/100\n",
    "    print(\"your total bill amt = \",a)\n",
    "    print('your discound amt=',b)\n",
    "    print(\"total amt of pay = \",a-b)\n",
    "else:\n",
    "    print(\"you have no discound\")\n",
    "    print(\"total amt=\",a)"
   ]
  },
  {
   "cell_type": "code",
   "execution_count": null,
   "id": "f4acb8f0",
   "metadata": {},
   "outputs": [],
   "source": [
    "#PRORAM07/10\n",
    "#ANS1\n",
    "first=\"abc\"\n",
    "second=\"def\"\n",
    "print(second,\"\" ,first)\n"
   ]
  },
  {
   "cell_type": "code",
   "execution_count": null,
   "id": "5ce6d8f0",
   "metadata": {},
   "outputs": [],
   "source": [
    "#ANS2\n",
    "t=tuple(\"python\")\n",
    "t"
   ]
  },
  {
   "cell_type": "code",
   "execution_count": null,
   "id": "dcc3ba8d",
   "metadata": {},
   "outputs": [],
   "source": [
    "t=tuple(\"2468\")\n",
    "t"
   ]
  },
  {
   "cell_type": "code",
   "execution_count": null,
   "id": "a63123d3",
   "metadata": {},
   "outputs": [],
   "source": [
    "li=[1,4,5,6]\n",
    "li"
   ]
  },
  {
   "cell_type": "code",
   "execution_count": null,
   "id": "a0a9e3a1",
   "metadata": {},
   "outputs": [],
   "source": [
    "#ANS3\n",
    "\n",
    "a=10\n",
    "b=20\n",
    "c=5\n",
    "sum=a+b+c\n",
    "sum\n"
   ]
  },
  {
   "cell_type": "code",
   "execution_count": null,
   "id": "ea87b686",
   "metadata": {},
   "outputs": [],
   "source": [
    "if a==b==c:\n",
    "    sum=a+b+c\n",
    "    sum=sum**3\n",
    "    print(sum)\n",
    "else:\n",
    "    sum=a+b+c\n",
    "sum"
   ]
  },
  {
   "cell_type": "code",
   "execution_count": null,
   "id": "18ac3f5a",
   "metadata": {},
   "outputs": [],
   "source": [
    "#ANS7\n",
    "li=3\n",
    "for i in range(1,38):\n",
    "    li=i*li\n",
    "print(li)\n",
    "    "
   ]
  },
  {
   "cell_type": "code",
   "execution_count": null,
   "id": "2f84c064",
   "metadata": {},
   "outputs": [],
   "source": []
  },
  {
   "cell_type": "code",
   "execution_count": null,
   "id": "5aeef758",
   "metadata": {},
   "outputs": [],
   "source": [
    "#ANS8\n",
    "li1={1,2,4,6,8}\n",
    "li2={3,5,4,2}\n",
    "o=li1.intersection(li2)\n",
    "o"
   ]
  },
  {
   "cell_type": "code",
   "execution_count": null,
   "id": "05a94f36",
   "metadata": {},
   "outputs": [],
   "source": [
    "a=set(li1)\n",
    "a"
   ]
  },
  {
   "cell_type": "code",
   "execution_count": null,
   "id": "727031e1",
   "metadata": {},
   "outputs": [],
   "source": [
    "b=set(li2)\n",
    "b\n"
   ]
  },
  {
   "cell_type": "code",
   "execution_count": null,
   "id": "4d9fb8ec",
   "metadata": {},
   "outputs": [],
   "source": [
    "# li1={1,2,4,6,8}\n",
    "# li2={3,5,4,2}\n",
    "print(li1.intersection(li2))\n",
    "\n"
   ]
  },
  {
   "cell_type": "code",
   "execution_count": null,
   "id": "006715de",
   "metadata": {},
   "outputs": [],
   "source": [
    "#ANS4\n",
    "a=\"THIS IS EXAMPLE OF YOUR PROGRAM\"\n",
    "a.partition('PROGRAM')"
   ]
  },
  {
   "cell_type": "code",
   "execution_count": null,
   "id": "1dfee086",
   "metadata": {},
   "outputs": [],
   "source": [
    "#ANS 6\n",
    "s=\"how are you all\"\n",
    "li=list(s)\n",
    "print(li)"
   ]
  },
  {
   "cell_type": "code",
   "execution_count": null,
   "id": "01005f39",
   "metadata": {},
   "outputs": [],
   "source": [
    "#ANS 5\n",
    "clr1={\"rose\",\"orange\",\"black\",\"green\"}\n",
    "clr2={\"black\",\"red\",\"yellow\",\"orange\"}\n",
    "clr1.difference(clr2)"
   ]
  },
  {
   "cell_type": "code",
   "execution_count": null,
   "id": "64dd413f",
   "metadata": {},
   "outputs": [],
   "source": [
    "b=1\n",
    "for i in range(1,20):\n",
    "    if i%2==0:\n",
    "        b=i+b\n",
    "        print(i)\n",
    "b\n"
   ]
  },
  {
   "cell_type": "code",
   "execution_count": null,
   "id": "aabe9cca",
   "metadata": {},
   "outputs": [],
   "source": [
    "b=1\n",
    "for i in range(1,20):\n",
    "    if i%2!=0:\n",
    "        b=i+b\n",
    "        print(i)\n",
    "b"
   ]
  },
  {
   "cell_type": "code",
   "execution_count": null,
   "id": "1261353a",
   "metadata": {},
   "outputs": [],
   "source": [
    "s1={1,2,3,4,5}\n",
    "s2={2,3,5,7,9}\n",
    "print(s1.symmetric_difference(s2))\n"
   ]
  },
  {
   "cell_type": "code",
   "execution_count": null,
   "id": "15e357ba",
   "metadata": {},
   "outputs": [],
   "source": [
    "s=\"suchithra\"\n",
    "s=input()\n",
    "a=len(s)\n",
    "for i in range(0,a):\n",
    "    if(s[i]==\"a\" or s[i]==\"e\" or s[i]==\"i\" or s[i]==\"o\" or s[i]==\"u\"):\n",
    "        print(s[i])\n"
   ]
  },
  {
   "cell_type": "code",
   "execution_count": null,
   "id": "103f9d82",
   "metadata": {},
   "outputs": [],
   "source": [
    "li=[]\n",
    "s=input(\"Enter your name:\")\n",
    "if('a' in s)==True:\n",
    "    z=s.find(\"a\")\n",
    "    li.append(s[z])\n",
    "if('e' in s)==True:\n",
    "    z=s.find(\"e\")\n",
    "    li.append(s[z])\n",
    "if('i' in s)==True:\n",
    "    z=s.find(\"i\")\n",
    "    li.append(s[z])\n",
    "if('o' in s)==True:\n",
    "    z=s.find(\"o\")\n",
    "    li.append(s[z])\n",
    "if('u' in s)==True:\n",
    "    z=s.find(\"u\")\n",
    "    li.append(s[z])\n",
    "print(li)\n",
    "#s.find('0')\n"
   ]
  },
  {
   "cell_type": "code",
   "execution_count": null,
   "id": "5d55c8ff",
   "metadata": {},
   "outputs": [],
   "source": [
    "s=\"bommu\"\n",
    "s=input()\n",
    "a=len(s)\n",
    "for i in range(0,a):\n",
    "    if(s[i]==\"a\" or s[i]==\"e\" or s[i]==\"i\" or s[i]==\"o\" or s[i]==\"u\" ):\n",
    "         print(s[i])"
   ]
  },
  {
   "cell_type": "code",
   "execution_count": null,
   "id": "091be6fa",
   "metadata": {},
   "outputs": [],
   "source": [
    "s=\"suchithra\"\n",
    "s=input()\n",
    "a=len(s)\n",
    "print(a)\n",
    "for i in range(0,a):\n",
    "    if(s[i]==\"a\" or s[i]==\"e\" or s[i]==\"i\" or s[i]==\"o\" or s[i]==\"u\"):\n",
    "        print(s[i])\n",
    "    "
   ]
  },
  {
   "cell_type": "code",
   "execution_count": null,
   "id": "8a0a2366",
   "metadata": {},
   "outputs": [],
   "source": [
    "for i in range(0,10):\n",
    "    print(i)\n",
    "    for j in range(11,20):\n",
    "        print(j)\n",
    "        for k in range(21,30):\n",
    "            print(k)"
   ]
  },
  {
   "cell_type": "code",
   "execution_count": null,
   "id": "a175a4e0",
   "metadata": {},
   "outputs": [],
   "source": [
    "#interview questions 08/10 basic\n",
    "#ANS1\n",
    "t=(1,2,3,4,5,6,7,8,9,10)\n",
    "t\n",
    "t[:5]"
   ]
  },
  {
   "cell_type": "code",
   "execution_count": null,
   "id": "0b2083bb",
   "metadata": {},
   "outputs": [],
   "source": [
    "t[5:]"
   ]
  },
  {
   "cell_type": "code",
   "execution_count": null,
   "id": "35610e53",
   "metadata": {},
   "outputs": [],
   "source": [
    "#ANS2 LIST\n",
    "a=[1,2,3,4,5,6,7,8,9]\n",
    "l=[]\n",
    "for i in a:\n",
    "    if i%2==0:\n",
    "        l.append(i)\n",
    "print(l)\n",
    "    \n",
    "    "
   ]
  },
  {
   "cell_type": "code",
   "execution_count": null,
   "id": "f8355ab8",
   "metadata": {},
   "outputs": [],
   "source": [
    "a=[1,2,3,4,5,6,7,8,9]\n",
    "\n",
    "for i in a:\n",
    "    if i%2==0:\n",
    "        print(i)"
   ]
  },
  {
   "cell_type": "code",
   "execution_count": null,
   "id": "0524c64b",
   "metadata": {},
   "outputs": [],
   "source": [
    "#ANS TUPLE\n",
    "t=(1,2,3,4,5,6,7,8,9,10)\n",
    "t"
   ]
  },
  {
   "cell_type": "code",
   "execution_count": null,
   "id": "b4c42cf8",
   "metadata": {},
   "outputs": [],
   "source": [
    "li=[]\n",
    "for i in t:\n",
    "    if i%2==0:\n",
    "        li.append(i)\n",
    "        print(li)\n",
    "        t=tuple(li)\n",
    "print(t)"
   ]
  },
  {
   "cell_type": "code",
   "execution_count": null,
   "id": "8b6abebc",
   "metadata": {},
   "outputs": [],
   "source": [
    "#ANS3\n",
    "a=input(\"enter your value:\")\n",
    "if (a=='yes' or a=='YES' or a=='Yes'):\n",
    "    print(\"yes\")\n",
    "else:\n",
    "    print(\"no\")\n",
    "    "
   ]
  },
  {
   "cell_type": "code",
   "execution_count": null,
   "id": "85a4d0e7",
   "metadata": {},
   "outputs": [],
   "source": [
    "#ANS4 CHALLENGE\n",
    "li=[\"apple\",\"orange\",\"banana\",\"mango\"]\n",
    "li"
   ]
  },
  {
   "cell_type": "code",
   "execution_count": null,
   "id": "39be053f",
   "metadata": {},
   "outputs": [],
   "source": [
    "li"
   ]
  },
  {
   "cell_type": "code",
   "execution_count": null,
   "id": "8f01b969",
   "metadata": {},
   "outputs": [],
   "source": [
    "li1=li.copy()\n",
    "li1"
   ]
  },
  {
   "cell_type": "code",
   "execution_count": null,
   "id": "48492d34",
   "metadata": {},
   "outputs": [],
   "source": [
    "#ANS 5\n",
    "p=[\"a\",\"b\",\"c\",\"d\",\"e\",\"f\",\"g\"]\n",
    "p"
   ]
  },
  {
   "cell_type": "code",
   "execution_count": null,
   "id": "81cb4ab1",
   "metadata": {},
   "outputs": [],
   "source": [
    "s=p[2]\n",
    "s"
   ]
  },
  {
   "cell_type": "code",
   "execution_count": null,
   "id": "5b62f228",
   "metadata": {},
   "outputs": [],
   "source": [
    "s=p[6]\n",
    "s"
   ]
  },
  {
   "cell_type": "code",
   "execution_count": null,
   "id": "a1a83d02",
   "metadata": {},
   "outputs": [],
   "source": [
    "#ANS6\n",
    "a=(1,3,5,7,9)\n",
    "b=a+(12,15,17,19)\n",
    "b"
   ]
  },
  {
   "cell_type": "code",
   "execution_count": null,
   "id": "ae808635",
   "metadata": {},
   "outputs": [],
   "source": [
    "b[7]\n"
   ]
  },
  {
   "cell_type": "code",
   "execution_count": null,
   "id": "046cae1d",
   "metadata": {},
   "outputs": [],
   "source": [
    "#ANS 7\n",
    "s=set([\"a:b\",\"b:c\",\"c:d\",\"e:f\",\"f:g\",\"g:h\",\"h:i\"])\n",
    "s\n"
   ]
  },
  {
   "cell_type": "code",
   "execution_count": null,
   "id": "a6cf8476",
   "metadata": {},
   "outputs": [],
   "source": [
    "s.add(\"i:j\")\n",
    "s"
   ]
  },
  {
   "cell_type": "code",
   "execution_count": null,
   "id": "5ae73c0e",
   "metadata": {},
   "outputs": [],
   "source": [
    "s.remove(\"a:b\")\n",
    "s"
   ]
  },
  {
   "cell_type": "code",
   "execution_count": null,
   "id": "6f11eca9",
   "metadata": {},
   "outputs": [],
   "source": [
    "#ANS8\n",
    "height=int(input(\"enyter your height:\"))\n",
    "weight=int(input(\"enter your weight:\"))\n",
    "bmi=weight/(height/100)**2\n",
    "if bmi<=18.5:\n",
    "    print(\"under weight,height\")\n",
    "elif bmi<18.5 and 24.9:\n",
    "    print(\"healthy weight,height\")\n",
    "elif bmi<25.9 and 29.0:\n",
    "    print(\"with in over weight,height\")\n",
    "else:\n",
    "    print(\"no\")"
   ]
  },
  {
   "cell_type": "code",
   "execution_count": null,
   "id": "0ef960d0",
   "metadata": {},
   "outputs": [],
   "source": [
    "#ANS 9\n",
    "for i in range(2000,3000):\n",
    "    if i%7==0 and i%5!=0:\n",
    "        print(i)"
   ]
  },
  {
   "cell_type": "code",
   "execution_count": null,
   "id": "49711aae",
   "metadata": {},
   "outputs": [],
   "source": [
    "#ANS10\n",
    "d=dict()\n",
    "for i in range(1,8+1):\n",
    "    d[i]=i**2\n",
    "    print(d)"
   ]
  },
  {
   "cell_type": "code",
   "execution_count": null,
   "id": "a24db03e",
   "metadata": {},
   "outputs": [],
   "source": [
    "#ANS11\n",
    "value=input(\"enter the values\")\n",
    "l=value.split(\",\")\n",
    "t=tuple(l)\n",
    "print(t)"
   ]
  },
  {
   "cell_type": "code",
   "execution_count": null,
   "id": "8a9cd4ee",
   "metadata": {},
   "outputs": [],
   "source": [
    "#ANS14\n",
    "p=\"PYTHON PROGRAMMING\"\n",
    "p"
   ]
  },
  {
   "cell_type": "code",
   "execution_count": null,
   "id": "58e19539",
   "metadata": {},
   "outputs": [],
   "source": [
    "d=p.lower()\n",
    "d"
   ]
  },
  {
   "cell_type": "code",
   "execution_count": null,
   "id": "a0b542d7",
   "metadata": {},
   "outputs": [],
   "source": [
    "\n",
    "x=\"python programming\"\n",
    "x"
   ]
  },
  {
   "cell_type": "code",
   "execution_count": null,
   "id": "74a3b7ef",
   "metadata": {},
   "outputs": [],
   "source": [
    "o=x.upper()\n",
    "o"
   ]
  },
  {
   "cell_type": "code",
   "execution_count": null,
   "id": "fa9fb746",
   "metadata": {},
   "outputs": [],
   "source": [
    "#old question lambda\n",
    "l=[1,2,3,4,5,6,7,8,9,10]\n",
    "a=list(filter(lambda x:x%2==0,l))\n",
    "a"
   ]
  },
  {
   "cell_type": "code",
   "execution_count": null,
   "id": "f9bc4b8a",
   "metadata": {},
   "outputs": [],
   "source": [
    "#old question lambda\n",
    "l=[1,2,3,4,5,6,7,8,9,10]\n",
    "a=list(map(lambda x:x*2,l))\n",
    "a"
   ]
  },
  {
   "cell_type": "code",
   "execution_count": null,
   "id": "85c5b8a7",
   "metadata": {},
   "outputs": [],
   "source": [
    "#old question lambda\n",
    "l=[1,2,3,4,5,6,7,8,9,10]\n",
    "a=list(map(lambda x:x*2,l))\n",
    "a"
   ]
  },
  {
   "cell_type": "code",
   "execution_count": null,
   "id": "24da2961",
   "metadata": {},
   "outputs": [],
   "source": [
    "a"
   ]
  },
  {
   "cell_type": "code",
   "execution_count": null,
   "id": "0c0f49cc",
   "metadata": {},
   "outputs": [],
   "source": [
    "b=list(filter(lambda x:x%2==0,a))\n",
    "b"
   ]
  },
  {
   "cell_type": "code",
   "execution_count": null,
   "id": "651e5151",
   "metadata": {},
   "outputs": [],
   "source": [
    "s=list(filter(lambda x:x%2==0,range(1,21)))\n",
    "print(s)"
   ]
  },
  {
   "cell_type": "code",
   "execution_count": null,
   "id": "1d87d64a",
   "metadata": {},
   "outputs": [],
   "source": [
    "s=list(map(lambda x:x*2,range(1,21)))\n",
    "s"
   ]
  },
  {
   "cell_type": "code",
   "execution_count": null,
   "id": "30b696b8",
   "metadata": {},
   "outputs": [],
   "source": [
    "#OLD WORK OF ONE\n",
    "a=\"hello all where are you\"\n",
    "a"
   ]
  },
  {
   "cell_type": "code",
   "execution_count": null,
   "id": "2ab4ec98",
   "metadata": {},
   "outputs": [],
   "source": [
    "b=list(a)\n",
    "b"
   ]
  },
  {
   "cell_type": "code",
   "execution_count": null,
   "id": "c28a54a8",
   "metadata": {},
   "outputs": [],
   "source": [
    "b"
   ]
  },
  {
   "cell_type": "code",
   "execution_count": null,
   "id": "e6a39e5c",
   "metadata": {},
   "outputs": [],
   "source": [
    "#ANS6\n",
    "a=[1,2,3,4,5,6,7,8,9,10]\n",
    "for i in a:\n",
    "    if i%2!=0:\n",
    "        print(i)"
   ]
  },
  {
   "cell_type": "code",
   "execution_count": null,
   "id": "e3947992",
   "metadata": {},
   "outputs": [],
   "source": [
    "#ANS10\n",
    "a=[1,2,3,4,5,6,7]\n",
    "b=[2,4,1,7,8,9]\n",
    "c=a,b\n",
    "c"
   ]
  },
  {
   "cell_type": "code",
   "execution_count": null,
   "id": "27cebf68",
   "metadata": {},
   "outputs": [],
   "source": [
    "for i in c:\n",
    "    if c=="
   ]
  },
  {
   "cell_type": "code",
   "execution_count": null,
   "id": "deefef4c",
   "metadata": {},
   "outputs": [],
   "source": [
    "#ANS1\n",
    "\n"
   ]
  },
  {
   "cell_type": "code",
   "execution_count": null,
   "id": "bdd17f0a",
   "metadata": {},
   "outputs": [],
   "source": [
    "#ANS1(1)\n",
    "a=\"how are you\"\n",
    "print(len(a))\n",
    "b=\"where are u\"\n",
    "print(len(b))\n",
    "if len(a)==len(b):\n",
    "    print(\"its same\")\n",
    "else:\n",
    "    print(\"its wrong\")"
   ]
  },
  {
   "cell_type": "code",
   "execution_count": null,
   "id": "66413837",
   "metadata": {},
   "outputs": [],
   "source": [
    "a=int(input(\"enter your number:\")) \n",
    "if a%2==0:\n",
    "    print(\"even\")\n",
    "else: \n",
    "    print(\"odd\")"
   ]
  },
  {
   "cell_type": "code",
   "execution_count": null,
   "id": "cb174592",
   "metadata": {},
   "outputs": [],
   "source": [
    "#ans2\n",
    "\n",
    "def even_odd(a):\n",
    "    if a%2==0:\n",
    "        print(\"its even\")\n",
    "    else:\n",
    "        print(\"its odd\")\n",
    "           \n",
    "        "
   ]
  },
  {
   "cell_type": "code",
   "execution_count": null,
   "id": "25b0abac",
   "metadata": {},
   "outputs": [],
   "source": [
    "a=int(input(\"enter your number:\"))\n",
    "if a%2==0:\n",
    "  \n",
    "    print(\"even\")\n",
    "else:\n",
    "    print(\"odd\")"
   ]
  },
  {
   "cell_type": "code",
   "execution_count": null,
   "id": "49f44cb9",
   "metadata": {},
   "outputs": [],
   "source": [
    "b=int(input(\"enter your number:\"))\n",
    "if b%2==0:\n",
    "    print(\"even\")\n",
    "else:\n",
    "    print(\"odd\")"
   ]
  },
  {
   "cell_type": "code",
   "execution_count": null,
   "id": "ee6a9356",
   "metadata": {},
   "outputs": [],
   "source": [
    "#ANS3\n",
    "def dictionary():\n",
    "    o=dict()\n",
    "    for i in (1,4):\n",
    "        o[i]=i**2\n",
    "o\n"
   ]
  },
  {
   "cell_type": "code",
   "execution_count": null,
   "id": "c889c1f6",
   "metadata": {},
   "outputs": [],
   "source": [
    "#ans3\n",
    "q=[1,2,3,4,5,6,7]\n",
    "def dictionary():\n",
    "    q=dict()\n",
    "    q[1]=1**2\n",
    "    q[2]=2**2\n",
    "    q[3]=3**2\n",
    "q"
   ]
  },
  {
   "cell_type": "code",
   "execution_count": null,
   "id": "9c65d490",
   "metadata": {},
   "outputs": [],
   "source": [
    "#ANS4\n",
    "def dictionary():\n",
    "    d=dict()\n",
    "    for i in range(1,20):\n",
    "        d[i]=i**2\n",
    "        print(d)\n"
   ]
  },
  {
   "cell_type": "code",
   "execution_count": null,
   "id": "7ed539cc",
   "metadata": {},
   "outputs": [],
   "source": []
  },
  {
   "cell_type": "code",
   "execution_count": null,
   "id": "00e60004",
   "metadata": {},
   "outputs": [],
   "source": [
    "#ANS6\n",
    "d={1:\"abc\",2:\"456\",3:\"suchithra\"}\n",
    "for i in d.values():\n",
    "    print(i)"
   ]
  },
  {
   "cell_type": "code",
   "execution_count": null,
   "id": "d6829ec1",
   "metadata": {},
   "outputs": [],
   "source": [
    "#ANS6\n",
    "d={1:\"abc\",2:\"456\",3:\"suchithra\"}\n",
    "for i in d.items():\n",
    "    print(i)"
   ]
  },
  {
   "cell_type": "code",
   "execution_count": null,
   "id": "119ada8b",
   "metadata": {},
   "outputs": [],
   "source": [
    "#ans7\n",
    "def list():\n",
    "    li=[]\n",
    "    for i in range(0,20):\n",
    "        li[i]=i**2\n",
    "        li.append(4,5,6)\n",
    "print(li)"
   ]
  },
  {
   "cell_type": "code",
   "execution_count": null,
   "id": "63a046f3",
   "metadata": {},
   "outputs": [],
   "source": [
    "def dictionary():\n",
    "    k=dict()\n",
    "    for i in range(1,20):\n",
    "        k[i]=i**2\n",
    "        print(k)"
   ]
  },
  {
   "cell_type": "code",
   "execution_count": null,
   "id": "1da06e11",
   "metadata": {},
   "outputs": [],
   "source": [
    "li=[1,2,3,4,5,6,7,8]\n",
    "li\n",
    "\n",
    "\n"
   ]
  },
  {
   "cell_type": "code",
   "execution_count": null,
   "id": "26be3186",
   "metadata": {},
   "outputs": [],
   "source": [
    "w=li+[9]\n",
    "w\n"
   ]
  },
  {
   "cell_type": "code",
   "execution_count": null,
   "id": "bdecda64",
   "metadata": {},
   "outputs": [],
   "source": [
    "t=(1,2,3,4,5,6,7,8,9)\n",
    "t\n",
    "    \n",
    "print(type(t))    \n",
    "t=t + ((3,4,5))\n",
    "print(t)"
   ]
  },
  {
   "cell_type": "code",
   "execution_count": null,
   "id": "a29cb52e",
   "metadata": {},
   "outputs": [],
   "source": [
    "def name_address():\n",
    "    a=input(\"enter your name:\")\n",
    "    b=input(\"enter your address:\")\n",
    "    print(\"name=\",a)\n",
    "    print(\"address=\",b)\n",
    "name_address()"
   ]
  },
  {
   "cell_type": "code",
   "execution_count": null,
   "id": "96a3d72c",
   "metadata": {},
   "outputs": [],
   "source": [
    "def name_adress(a,b):\n",
    "    print(\"name=\",a)\n",
    "    print(\"address=\",b)\n",
    "k=input(\"enter your name:\")\n",
    "h=input(\"enter your address:\")\n",
    "name_adress(k,h)"
   ]
  },
  {
   "cell_type": "code",
   "execution_count": null,
   "id": "dee0ea71",
   "metadata": {},
   "outputs": [],
   "source": [
    "def add():\n",
    "    a=int(input())\n",
    "    b=int(input())\n",
    "    return a+b\n",
    "# a=add()\n",
    "# print(a)\n",
    "print(add())"
   ]
  },
  {
   "cell_type": "code",
   "execution_count": null,
   "id": "17bd50c0",
   "metadata": {},
   "outputs": [],
   "source": [
    "def add(a,b):\n",
    "    return a+b\n",
    "c=int(input())\n",
    "d=int(input())\n",
    "a=add(c,d)\n",
    "print(a)\n",
    "\n",
    "\n"
   ]
  },
  {
   "cell_type": "code",
   "execution_count": null,
   "id": "28dd565d",
   "metadata": {},
   "outputs": [],
   "source": [
    "def multi():\n",
    "    a=int(input())\n",
    "    b=int(input())\n",
    "    return a*b\n",
    "print(multi())"
   ]
  },
  {
   "cell_type": "code",
   "execution_count": null,
   "id": "91e6aee3",
   "metadata": {},
   "outputs": [],
   "source": [
    "def multi(a,b):\n",
    "    return a*b\n",
    "c=int(input())\n",
    "d=int(input())\n",
    "q=multi(c,d)\n",
    "print(q)"
   ]
  },
  {
   "cell_type": "code",
   "execution_count": null,
   "id": "7473b9c4",
   "metadata": {},
   "outputs": [],
   "source": [
    "a=int(input(\"enter your number:\"))\n",
    "for i in range(1,10):\n",
    "    #print(i)\n",
    "    a=i*a\n",
    "print(a)"
   ]
  },
  {
   "cell_type": "code",
   "execution_count": null,
   "id": "d5416f7a",
   "metadata": {},
   "outputs": [],
   "source": [
    "b=5\n",
    "for i in range(1,5):\n",
    "    b=i*b\n",
    "print(b)"
   ]
  },
  {
   "cell_type": "code",
   "execution_count": null,
   "id": "64594d6e",
   "metadata": {},
   "outputs": [],
   "source": [
    "b=5\n",
    "def factorial(b):\n",
    "    for i in range(1,5):\n",
    "        b=i*b\n",
    "        print(\"num=\",b)\n",
    "factorial(b)"
   ]
  },
  {
   "cell_type": "code",
   "execution_count": null,
   "id": "15e565aa",
   "metadata": {},
   "outputs": [],
   "source": [
    "b=5\n",
    "def factorial(b):\n",
    "    for i in range(1,5):\n",
    "        b=i*b\n",
    "    print(\"num=\",b)\n",
    "factorial(b)"
   ]
  },
  {
   "cell_type": "code",
   "execution_count": null,
   "id": "086e31f6",
   "metadata": {},
   "outputs": [],
   "source": [
    "#fibinoci series\n",
    "n=int(input(\"enter your numbers\"))\n",
    "a=0\n",
    "b=1\n",
    "print(a)\n",
    "print(b)\n",
    "for n in range(0,n):\n",
    "    if (n>1):\n",
    "        d=a+b\n",
    "        a=b\n",
    "        b=d\n",
    "        print(d)\n",
    "    "
   ]
  },
  {
   "cell_type": "code",
   "execution_count": 9,
   "id": "1dffeb8d",
   "metadata": {},
   "outputs": [
    {
     "name": "stdout",
     "output_type": "stream",
     "text": [
      "enter your numbers8\n",
      "0\n",
      "1\n",
      "1\n",
      "2\n",
      "3\n",
      "5\n",
      "8\n"
     ]
    }
   ],
   "source": [
    "n=int(input(\"enter your numbers\"))\n",
    "a=0\n",
    "b=1\n",
    "d=1\n",
    "# print(a)\n",
    "# print(b)\n",
    "while a<=n:\n",
    "    print(a)\n",
    "    a=b\n",
    "    b=d\n",
    "    d=a+b\n",
    "    "
   ]
  },
  {
   "cell_type": "code",
   "execution_count": 13,
   "id": "8650343d",
   "metadata": {},
   "outputs": [
    {
     "name": "stdout",
     "output_type": "stream",
     "text": [
      "enter num9\n",
      "0\n",
      "1\n",
      "1\n",
      "2\n",
      "3\n",
      "5\n",
      "8\n",
      "13\n",
      "21\n"
     ]
    }
   ],
   "source": [
    "k=int(input(\"enter num\"))\n",
    "a=0\n",
    "b=1\n",
    "print(a)\n",
    "print(b)\n",
    "for n in range(0,k):\n",
    "    if n>1:\n",
    "        d=a+b\n",
    "        a=b\n",
    "        b=d\n",
    "        print(d)"
   ]
  },
  {
   "cell_type": "code",
   "execution_count": 15,
   "id": "a11c44cc",
   "metadata": {},
   "outputs": [
    {
     "name": "stdout",
     "output_type": "stream",
     "text": [
      "enter your number9\n",
      "0\n",
      "1\n",
      "2\n",
      "4\n",
      "8\n"
     ]
    }
   ],
   "source": [
    "m=int(input(\"enter your number\"))\n",
    "a=0\n",
    "b=1\n",
    "d=1\n",
    "while a<=n:\n",
    "    print(a)\n",
    "    b=d\n",
    "    a=b\n",
    "    d=a+b"
   ]
  },
  {
   "cell_type": "code",
   "execution_count": 23,
   "id": "7e208f0b",
   "metadata": {},
   "outputs": [
    {
     "name": "stdout",
     "output_type": "stream",
     "text": [
      "9\n",
      "18\n"
     ]
    }
   ],
   "source": [
    "def fibnoacci(n):\n",
    "    if c<=a:\n",
    "        e=a+b\n",
    "        a=b\n",
    "        b=e\n",
    "        print(e)\n",
    "c=int(input())\n",
    "fibnoacci(c)\n",
    "    "
   ]
  },
  {
   "cell_type": "code",
   "execution_count": 32,
   "id": "fc2805f6",
   "metadata": {},
   "outputs": [
    {
     "name": "stdout",
     "output_type": "stream",
     "text": [
      "0\n",
      "1\n",
      "1\n",
      "2\n",
      "3\n",
      "5\n",
      "8\n",
      "13\n"
     ]
    }
   ],
   "source": [
    "#n=int(input())\n",
    "def fabinacci(n):\n",
    "    a=0\n",
    "    b=1\n",
    "    print(a)\n",
    "    print(b)\n",
    "    for n in range(0,n):\n",
    "        if (n>1):\n",
    "            d=a+b\n",
    "            a=b\n",
    "            b=d\n",
    "            print(d)\n",
    "fabinacci(8)"
   ]
  },
  {
   "cell_type": "code",
   "execution_count": 33,
   "id": "56818172",
   "metadata": {},
   "outputs": [
    {
     "name": "stdout",
     "output_type": "stream",
     "text": [
      "0\n",
      "1\n",
      "1\n",
      "2\n",
      "3\n",
      "5\n",
      "8\n",
      "13\n"
     ]
    }
   ],
   "source": [
    "def fabinacci(n):\n",
    "    a=0\n",
    "    b=1\n",
    "    print(a)\n",
    "    print(b)\n",
    "    for n in range(0,n):\n",
    "        if (n>1):\n",
    "            d=a+b\n",
    "            a=b\n",
    "            b=d\n",
    "            print(d)\n",
    "fabinacci(8)"
   ]
  },
  {
   "cell_type": "code",
   "execution_count": 37,
   "id": "e6bd3001",
   "metadata": {},
   "outputs": [
    {
     "name": "stdout",
     "output_type": "stream",
     "text": [
      "enter your number9\n",
      "0\n",
      "1\n",
      "2\n",
      "4\n",
      "8\n"
     ]
    }
   ],
   "source": [
    "def fabi(m):\n",
    "    m=int(input(\"enter your number\"))\n",
    "    a=0\n",
    "    b=1\n",
    "    d=1\n",
    "    while a<=n:\n",
    "        print(a)\n",
    "        b=d\n",
    "        a=b\n",
    "        d=a+b\n",
    "fabi(m)"
   ]
  },
  {
   "cell_type": "code",
   "execution_count": null,
   "id": "bbebb679",
   "metadata": {},
   "outputs": [],
   "source": []
  }
 ],
 "metadata": {
  "kernelspec": {
   "display_name": "Python 3 (ipykernel)",
   "language": "python",
   "name": "python3"
  },
  "language_info": {
   "codemirror_mode": {
    "name": "ipython",
    "version": 3
   },
   "file_extension": ".py",
   "mimetype": "text/x-python",
   "name": "python",
   "nbconvert_exporter": "python",
   "pygments_lexer": "ipython3",
   "version": "3.9.12"
  }
 },
 "nbformat": 4,
 "nbformat_minor": 5
}
