{
 "cells": [
  {
   "cell_type": "code",
   "execution_count": 5,
   "id": "d0dbbe2f",
   "metadata": {},
   "outputs": [],
   "source": [
    "#function\n",
    "def name():\n",
    "    print(\"hello\")\n",
    "name()\n"
   ]
  },
  {
   "cell_type": "code",
   "execution_count": 7,
   "id": "c759da21",
   "metadata": {},
   "outputs": [
    {
     "name": "stdout",
     "output_type": "stream",
     "text": [
      "8\n"
     ]
    }
   ],
   "source": [
    "def sum(a,b):\n",
    "    print(a+b)\n",
    "sum(3,5)"
   ]
  },
  {
   "cell_type": "code",
   "execution_count": 5,
   "id": "6c15c2fd",
   "metadata": {},
   "outputs": [
    {
     "name": "stdout",
     "output_type": "stream",
     "text": [
      "-1\n"
     ]
    }
   ],
   "source": [
    "def sums(a,b):\n",
    "    print(a-b)\n",
    "sums(2,3)"
   ]
  },
  {
   "cell_type": "code",
   "execution_count": 9,
   "id": "77874610",
   "metadata": {},
   "outputs": [
    {
     "name": "stdout",
     "output_type": "stream",
     "text": [
      "63\n"
     ]
    }
   ],
   "source": [
    "def numbers(p,s):\n",
    "    print(p*s)\n",
    "numbers(7,9)"
   ]
  },
  {
   "cell_type": "code",
   "execution_count": 10,
   "id": "ef50379a",
   "metadata": {},
   "outputs": [
    {
     "data": {
      "text/plain": [
       "6"
      ]
     },
     "execution_count": 10,
     "metadata": {},
     "output_type": "execute_result"
    }
   ],
   "source": [
    "#normal sum\n",
    "a=2\n",
    "b=4\n",
    "sum=a+b\n",
    "sum"
   ]
  },
  {
   "cell_type": "code",
   "execution_count": 11,
   "id": "ff2caba3",
   "metadata": {},
   "outputs": [
    {
     "name": "stdout",
     "output_type": "stream",
     "text": [
      "3.0\n"
     ]
    }
   ],
   "source": [
    "def num(m,n):\n",
    "    print(m/n)\n",
    "num(6,2)"
   ]
  },
  {
   "cell_type": "code",
   "execution_count": 17,
   "id": "f29feff1",
   "metadata": {},
   "outputs": [
    {
     "name": "stdout",
     "output_type": "stream",
     "text": [
      "19\n"
     ]
    }
   ],
   "source": [
    "#default\n",
    "abst(n=10,b=9):\n",
    "    print(n+b)\n",
    "abst()"
   ]
  },
  {
   "cell_type": "code",
   "execution_count": 8,
   "id": "f54d7685",
   "metadata": {},
   "outputs": [
    {
     "name": "stdout",
     "output_type": "stream",
     "text": [
      "2\n",
      "5\n",
      "sum =  7\n"
     ]
    }
   ],
   "source": [
    "def add():\n",
    "    a=int(input())\n",
    "    b=int(input())\n",
    "    print(\"sum = \", a+b)\n",
    "add()"
   ]
  },
  {
   "cell_type": "code",
   "execution_count": 9,
   "id": "9d182f84",
   "metadata": {},
   "outputs": [
    {
     "name": "stdout",
     "output_type": "stream",
     "text": [
      "4\n",
      "9\n",
      "sum =  13\n"
     ]
    }
   ],
   "source": [
    "def add(a,b):\n",
    "     print(\"sum = \", a+b)\n",
    "        \n",
    "x=int(input())\n",
    "y=int(input())\n",
    "add(x,y)"
   ]
  },
  {
   "cell_type": "code",
   "execution_count": 13,
   "id": "8f3ae19d",
   "metadata": {},
   "outputs": [
    {
     "name": "stdout",
     "output_type": "stream",
     "text": [
      "3\n",
      "9\n",
      "sum = 12\n"
     ]
    }
   ],
   "source": [
    "def add(a,b):\n",
    "    print(\"sum =\",a+b)\n",
    "d=int(input())\n",
    "f=int(input())\n",
    "add(d,f)"
   ]
  },
  {
   "cell_type": "code",
   "execution_count": 16,
   "id": "a2a56148",
   "metadata": {},
   "outputs": [
    {
     "name": "stdout",
     "output_type": "stream",
     "text": [
      "3\n",
      "5\n",
      "sum= 8\n"
     ]
    }
   ],
   "source": [
    "def add():\n",
    "    a=int(input())\n",
    "    b=int(input())\n",
    "    print(\"sum=\",a+b)\n",
    "add()\n",
    "    "
   ]
  },
  {
   "cell_type": "code",
   "execution_count": 18,
   "id": "1e26d9e5",
   "metadata": {},
   "outputs": [
    {
     "name": "stdout",
     "output_type": "stream",
     "text": [
      "3\n",
      "area = 28.259999999999998\n"
     ]
    }
   ],
   "source": [
    "def circle(pi=3.14):\n",
    "    r=int(input())\n",
    "    areas=pi*r*r\n",
    "    print(\"area =\",areas)\n",
    "circle()"
   ]
  },
  {
   "cell_type": "code",
   "execution_count": 35,
   "id": "017cc83b",
   "metadata": {},
   "outputs": [
    {
     "name": "stdout",
     "output_type": "stream",
     "text": [
      "3\n",
      "5\n",
      "areas= 7.5\n"
     ]
    }
   ],
   "source": [
    "def tr(a=1/2):\n",
    "    b=int(input())\n",
    "    h=int(input())\n",
    "    area=(1/2)*b*h\n",
    "    print(\"areas=\",area)\n",
    "tr()"
   ]
  },
  {
   "cell_type": "code",
   "execution_count": 1,
   "id": "3013866b",
   "metadata": {},
   "outputs": [
    {
     "name": "stdout",
     "output_type": "stream",
     "text": [
      "3\n",
      "5\n",
      "areas= 7.5\n"
     ]
    }
   ],
   "source": [
    "def triangle(b,h):\n",
    "    area=(1/2)*b*h\n",
    "    print(\"areas=\",area)\n",
    "    \n",
    "b=int(input())\n",
    "h=int(input())\n",
    "triangle(b,h)"
   ]
  },
  {
   "cell_type": "code",
   "execution_count": 26,
   "id": "9d62353b",
   "metadata": {},
   "outputs": [
    {
     "name": "stdout",
     "output_type": "stream",
     "text": [
      "2\n",
      "4\n",
      "angles= 4.0\n"
     ]
    }
   ],
   "source": [
    "def angle(b,h):\n",
    "    area=(1/2)*b*h\n",
    "    print(\"angles=\",area)\n",
    "b=int(input())\n",
    "h=int(input())\n",
    "angle(b,h)"
   ]
  },
  {
   "cell_type": "code",
   "execution_count": 30,
   "id": "52dd741d",
   "metadata": {},
   "outputs": [
    {
     "name": "stdout",
     "output_type": "stream",
     "text": [
      "ans= 8\n"
     ]
    }
   ],
   "source": [
    "num=2\n",
    "pw=3\n",
    "o=num**pw\n",
    "print(\"ans=\",o)\n"
   ]
  },
  {
   "cell_type": "code",
   "execution_count": 34,
   "id": "81bed7f8",
   "metadata": {},
   "outputs": [
    {
     "name": "stdout",
     "output_type": "stream",
     "text": [
      "2\n",
      "4\n",
      "ans= 16\n"
     ]
    }
   ],
   "source": [
    "def name(num,pw):\n",
    "    np=num**pw\n",
    "    print(\"ans=\",np)\n",
    "    \n",
    "a=int(input())\n",
    "b=int(input())    \n",
    "name(a,b)\n"
   ]
  },
  {
   "cell_type": "code",
   "execution_count": 85,
   "id": "0750fd31",
   "metadata": {},
   "outputs": [
    {
     "name": "stdout",
     "output_type": "stream",
     "text": [
      "enter your values:1\n",
      "enter your values20\n",
      "90\n"
     ]
    }
   ],
   "source": [
    "def even():\n",
    "    a=int(input(\"enter your values:\"))\n",
    "    b=int(input(\"enter your values\"))\n",
    "    s=0\n",
    "    for i in range(a,b):\n",
    "        if i%2==0:\n",
    "            s=i+s\n",
    "    print(s)\n",
    "\n",
    "even()"
   ]
  },
  {
   "cell_type": "code",
   "execution_count": 87,
   "id": "2ad79525",
   "metadata": {},
   "outputs": [
    {
     "name": "stdout",
     "output_type": "stream",
     "text": [
      "2002\n",
      "2009\n",
      "2016\n",
      "2023\n",
      "2037\n",
      "2044\n",
      "2051\n",
      "2058\n",
      "2072\n",
      "2079\n",
      "2086\n",
      "2093\n",
      "2107\n",
      "2114\n",
      "2121\n",
      "2128\n",
      "2142\n",
      "2149\n",
      "2156\n",
      "2163\n",
      "2177\n",
      "2184\n",
      "2191\n",
      "2198\n",
      "2212\n",
      "2219\n",
      "2226\n",
      "2233\n",
      "2247\n",
      "2254\n",
      "2261\n",
      "2268\n",
      "2282\n",
      "2289\n",
      "2296\n",
      "2303\n",
      "2317\n",
      "2324\n",
      "2331\n",
      "2338\n",
      "2352\n",
      "2359\n",
      "2366\n",
      "2373\n",
      "2387\n",
      "2394\n",
      "2401\n",
      "2408\n",
      "2422\n",
      "2429\n",
      "2436\n",
      "2443\n",
      "2457\n",
      "2464\n",
      "2471\n",
      "2478\n",
      "2492\n",
      "2499\n",
      "2506\n",
      "2513\n",
      "2527\n",
      "2534\n",
      "2541\n",
      "2548\n",
      "2562\n",
      "2569\n",
      "2576\n",
      "2583\n",
      "2597\n",
      "2604\n",
      "2611\n",
      "2618\n",
      "2632\n",
      "2639\n",
      "2646\n",
      "2653\n",
      "2667\n",
      "2674\n",
      "2681\n",
      "2688\n",
      "2702\n",
      "2709\n",
      "2716\n",
      "2723\n",
      "2737\n",
      "2744\n",
      "2751\n",
      "2758\n",
      "2772\n",
      "2779\n",
      "2786\n",
      "2793\n",
      "2807\n",
      "2814\n",
      "2821\n",
      "2828\n",
      "2842\n",
      "2849\n",
      "2856\n",
      "2863\n",
      "2877\n",
      "2884\n",
      "2891\n",
      "2898\n",
      "2912\n",
      "2919\n",
      "2926\n",
      "2933\n",
      "2947\n",
      "2954\n",
      "2961\n",
      "2968\n",
      "2982\n",
      "2989\n",
      "2996\n",
      "3003\n",
      "3017\n",
      "3024\n",
      "3031\n",
      "3038\n",
      "3052\n",
      "3059\n",
      "3066\n",
      "3073\n",
      "3087\n",
      "3094\n",
      "3101\n",
      "3108\n",
      "3122\n",
      "3129\n",
      "3136\n",
      "3143\n",
      "3157\n",
      "3164\n",
      "3171\n",
      "3178\n",
      "3192\n",
      "3199\n"
     ]
    }
   ],
   "source": [
    "for i in range(2000,3200):\n",
    "    if i%7==0 and i%5!=0:\n",
    "        print(i)"
   ]
  },
  {
   "cell_type": "code",
   "execution_count": 1,
   "id": "b0aca487",
   "metadata": {},
   "outputs": [
    {
     "name": "stdout",
     "output_type": "stream",
     "text": [
      "enter your number:3\n",
      "1 x 3 = 3\n",
      "2 x 3 = 6\n",
      "3 x 3 = 9\n",
      "4 x 3 = 12\n",
      "5 x 3 = 15\n",
      "6 x 3 = 18\n",
      "7 x 3 = 21\n",
      "8 x 3 = 24\n",
      "9 x 3 = 27\n",
      "10 x 3 = 30\n"
     ]
    }
   ],
   "source": [
    "\n",
    "d=int(input(\"enter your number:\"))\n",
    "for i in range(1,11):\n",
    "    print(i, 'x', d, '=', d*i)\n"
   ]
  },
  {
   "cell_type": "code",
   "execution_count": 113,
   "id": "9f1f0622",
   "metadata": {},
   "outputs": [
    {
     "data": {
      "text/plain": [
       "19"
      ]
     },
     "execution_count": 113,
     "metadata": {},
     "output_type": "execute_result"
    }
   ],
   "source": [
    "#lambda\n",
    "x=lambda a,b,c,d:a+b*c+d\n",
    "x(2,4,3,5)"
   ]
  },
  {
   "cell_type": "code",
   "execution_count": 120,
   "id": "53c22734",
   "metadata": {},
   "outputs": [
    {
     "name": "stdout",
     "output_type": "stream",
     "text": [
      "enter your num2\n",
      "enter your num3\n",
      "enter your num4\n",
      "enter your num5\n"
     ]
    },
    {
     "data": {
      "text/plain": [
       "19"
      ]
     },
     "execution_count": 120,
     "metadata": {},
     "output_type": "execute_result"
    }
   ],
   "source": [
    "x=lambda a,b,c,d:a+b*c+d\n",
    "a=int(input(\"enter your num\"))\n",
    "b=int(input(\"enter your num\"))\n",
    "c=int(input(\"enter your num\"))\n",
    "d=int(input(\"enter your num\"))\n",
    "x(a,b,c,d)"
   ]
  },
  {
   "cell_type": "code",
   "execution_count": 121,
   "id": "51420c9d",
   "metadata": {},
   "outputs": [
    {
     "name": "stdout",
     "output_type": "stream",
     "text": [
      "enter your num5\n",
      "enter your num7\n"
     ]
    },
    {
     "data": {
      "text/plain": [
       "78125"
      ]
     },
     "execution_count": 121,
     "metadata": {},
     "output_type": "execute_result"
    }
   ],
   "source": [
    "y=lambda num,pw:num**pw\n",
    "num=int(input(\"enter your num\"))\n",
    "pw=int(input(\"enter your num\"))\n",
    "y(num,pw)"
   ]
  },
  {
   "cell_type": "code",
   "execution_count": 125,
   "id": "f851cdbf",
   "metadata": {},
   "outputs": [
    {
     "name": "stdout",
     "output_type": "stream",
     "text": [
      "enter your num2\n"
     ]
    },
    {
     "data": {
      "text/plain": [
       "True"
      ]
     },
     "execution_count": 125,
     "metadata": {},
     "output_type": "execute_result"
    }
   ],
   "source": [
    "s=lambda i:i%2==0 \n",
    "w=int(input(\"enter your num\"))\n",
    "s(i)\n"
   ]
  },
  {
   "cell_type": "code",
   "execution_count": null,
   "id": "11c2a8c3",
   "metadata": {},
   "outputs": [],
   "source": []
  }
 ],
 "metadata": {
  "kernelspec": {
   "display_name": "Python 3 (ipykernel)",
   "language": "python",
   "name": "python3"
  },
  "language_info": {
   "codemirror_mode": {
    "name": "ipython",
    "version": 3
   },
   "file_extension": ".py",
   "mimetype": "text/x-python",
   "name": "python",
   "nbconvert_exporter": "python",
   "pygments_lexer": "ipython3",
   "version": "3.9.12"
  }
 },
 "nbformat": 4,
 "nbformat_minor": 5
}
